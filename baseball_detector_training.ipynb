{
 "cells": [
  {
   "cell_type": "code",
   "execution_count": 2,
   "metadata": {
    "scrolled": true
   },
   "outputs": [
    {
     "name": "stdout",
     "output_type": "stream",
     "text": [
      "Defaulting to user installation because normal site-packages is not writeable\n",
      "Requirement already satisfied: roboflow in /home/niquach/.local/lib/python3.11/site-packages (1.1.54)\n",
      "Requirement already satisfied: certifi in /opt/conda/lib/python3.11/site-packages (from roboflow) (2024.8.30)\n",
      "Requirement already satisfied: idna==3.7 in /opt/conda/lib/python3.11/site-packages (from roboflow) (3.7)\n",
      "Requirement already satisfied: cycler in /opt/conda/lib/python3.11/site-packages (from roboflow) (0.12.1)\n",
      "Requirement already satisfied: kiwisolver>=1.3.1 in /opt/conda/lib/python3.11/site-packages (from roboflow) (1.4.5)\n",
      "Requirement already satisfied: matplotlib in /opt/conda/lib/python3.11/site-packages (from roboflow) (3.8.4)\n",
      "Requirement already satisfied: numpy>=1.18.5 in /opt/conda/lib/python3.11/site-packages (from roboflow) (1.26.4)\n",
      "Requirement already satisfied: opencv-python-headless==4.10.0.84 in /home/niquach/.local/lib/python3.11/site-packages (from roboflow) (4.10.0.84)\n",
      "Requirement already satisfied: Pillow>=7.1.2 in /opt/conda/lib/python3.11/site-packages (from roboflow) (10.4.0)\n",
      "Requirement already satisfied: python-dateutil in /opt/conda/lib/python3.11/site-packages (from roboflow) (2.9.0)\n",
      "Requirement already satisfied: python-dotenv in /home/niquach/.local/lib/python3.11/site-packages (from roboflow) (1.0.1)\n",
      "Requirement already satisfied: requests in /opt/conda/lib/python3.11/site-packages (from roboflow) (2.32.3)\n",
      "Requirement already satisfied: six in /opt/conda/lib/python3.11/site-packages (from roboflow) (1.16.0)\n",
      "Requirement already satisfied: urllib3>=1.26.6 in /opt/conda/lib/python3.11/site-packages (from roboflow) (2.2.1)\n",
      "Requirement already satisfied: tqdm>=4.41.0 in /opt/conda/lib/python3.11/site-packages (from roboflow) (4.67.1)\n",
      "Requirement already satisfied: PyYAML>=5.3.1 in /opt/conda/lib/python3.11/site-packages (from roboflow) (6.0.1)\n",
      "Requirement already satisfied: requests-toolbelt in /home/niquach/.local/lib/python3.11/site-packages (from roboflow) (1.0.0)\n",
      "Requirement already satisfied: filetype in /home/niquach/.local/lib/python3.11/site-packages (from roboflow) (1.2.0)\n",
      "Requirement already satisfied: contourpy>=1.0.1 in /opt/conda/lib/python3.11/site-packages (from matplotlib->roboflow) (1.2.1)\n",
      "Requirement already satisfied: fonttools>=4.22.0 in /opt/conda/lib/python3.11/site-packages (from matplotlib->roboflow) (4.51.0)\n",
      "Requirement already satisfied: packaging>=20.0 in /opt/conda/lib/python3.11/site-packages (from matplotlib->roboflow) (24.0)\n",
      "Requirement already satisfied: pyparsing>=2.3.1 in /opt/conda/lib/python3.11/site-packages (from matplotlib->roboflow) (3.1.2)\n",
      "Requirement already satisfied: charset-normalizer<4,>=2 in /opt/conda/lib/python3.11/site-packages (from requests->roboflow) (3.3.2)\n",
      "Defaulting to user installation because normal site-packages is not writeable\n",
      "Requirement already satisfied: ultralytics in /home/niquach/.local/lib/python3.11/site-packages (8.3.85)\n",
      "Requirement already satisfied: numpy<=2.1.1,>=1.23.0 in /opt/conda/lib/python3.11/site-packages (from ultralytics) (1.26.4)\n",
      "Requirement already satisfied: matplotlib>=3.3.0 in /opt/conda/lib/python3.11/site-packages (from ultralytics) (3.8.4)\n",
      "Requirement already satisfied: opencv-python>=4.6.0 in /opt/conda/lib/python3.11/site-packages (from ultralytics) (4.10.0.84)\n",
      "Requirement already satisfied: pillow>=7.1.2 in /opt/conda/lib/python3.11/site-packages (from ultralytics) (10.4.0)\n",
      "Requirement already satisfied: pyyaml>=5.3.1 in /opt/conda/lib/python3.11/site-packages (from ultralytics) (6.0.1)\n",
      "Requirement already satisfied: requests>=2.23.0 in /opt/conda/lib/python3.11/site-packages (from ultralytics) (2.32.3)\n",
      "Requirement already satisfied: scipy>=1.4.1 in /opt/conda/lib/python3.11/site-packages (from ultralytics) (1.13.0)\n",
      "Requirement already satisfied: torch>=1.8.0 in /opt/conda/lib/python3.11/site-packages (from ultralytics) (2.2.1+cu121)\n",
      "Requirement already satisfied: torchvision>=0.9.0 in /opt/conda/lib/python3.11/site-packages (from ultralytics) (0.17.1+cu121)\n",
      "Requirement already satisfied: tqdm>=4.64.0 in /opt/conda/lib/python3.11/site-packages (from ultralytics) (4.67.1)\n",
      "Requirement already satisfied: psutil in /opt/conda/lib/python3.11/site-packages (from ultralytics) (5.9.8)\n",
      "Requirement already satisfied: py-cpuinfo in /opt/conda/lib/python3.11/site-packages (from ultralytics) (9.0.0)\n",
      "Requirement already satisfied: pandas>=1.1.4 in /opt/conda/lib/python3.11/site-packages (from ultralytics) (2.2.3)\n",
      "Requirement already satisfied: seaborn>=0.11.0 in /opt/conda/lib/python3.11/site-packages (from ultralytics) (0.13.2)\n",
      "Requirement already satisfied: ultralytics-thop>=2.0.0 in /home/niquach/.local/lib/python3.11/site-packages (from ultralytics) (2.0.14)\n",
      "Requirement already satisfied: contourpy>=1.0.1 in /opt/conda/lib/python3.11/site-packages (from matplotlib>=3.3.0->ultralytics) (1.2.1)\n",
      "Requirement already satisfied: cycler>=0.10 in /opt/conda/lib/python3.11/site-packages (from matplotlib>=3.3.0->ultralytics) (0.12.1)\n",
      "Requirement already satisfied: fonttools>=4.22.0 in /opt/conda/lib/python3.11/site-packages (from matplotlib>=3.3.0->ultralytics) (4.51.0)\n",
      "Requirement already satisfied: kiwisolver>=1.3.1 in /opt/conda/lib/python3.11/site-packages (from matplotlib>=3.3.0->ultralytics) (1.4.5)\n",
      "Requirement already satisfied: packaging>=20.0 in /opt/conda/lib/python3.11/site-packages (from matplotlib>=3.3.0->ultralytics) (24.0)\n",
      "Requirement already satisfied: pyparsing>=2.3.1 in /opt/conda/lib/python3.11/site-packages (from matplotlib>=3.3.0->ultralytics) (3.1.2)\n",
      "Requirement already satisfied: python-dateutil>=2.7 in /opt/conda/lib/python3.11/site-packages (from matplotlib>=3.3.0->ultralytics) (2.9.0)\n",
      "Requirement already satisfied: pytz>=2020.1 in /opt/conda/lib/python3.11/site-packages (from pandas>=1.1.4->ultralytics) (2024.1)\n",
      "Requirement already satisfied: tzdata>=2022.7 in /opt/conda/lib/python3.11/site-packages (from pandas>=1.1.4->ultralytics) (2024.1)\n",
      "Requirement already satisfied: charset-normalizer<4,>=2 in /opt/conda/lib/python3.11/site-packages (from requests>=2.23.0->ultralytics) (3.3.2)\n",
      "Requirement already satisfied: idna<4,>=2.5 in /opt/conda/lib/python3.11/site-packages (from requests>=2.23.0->ultralytics) (3.7)\n",
      "Requirement already satisfied: urllib3<3,>=1.21.1 in /opt/conda/lib/python3.11/site-packages (from requests>=2.23.0->ultralytics) (2.2.1)\n",
      "Requirement already satisfied: certifi>=2017.4.17 in /opt/conda/lib/python3.11/site-packages (from requests>=2.23.0->ultralytics) (2024.8.30)\n",
      "Requirement already satisfied: filelock in /opt/conda/lib/python3.11/site-packages (from torch>=1.8.0->ultralytics) (3.13.1)\n",
      "Requirement already satisfied: typing-extensions>=4.8.0 in /opt/conda/lib/python3.11/site-packages (from torch>=1.8.0->ultralytics) (4.11.0)\n",
      "Requirement already satisfied: sympy in /opt/conda/lib/python3.11/site-packages (from torch>=1.8.0->ultralytics) (1.12)\n",
      "Requirement already satisfied: networkx in /opt/conda/lib/python3.11/site-packages (from torch>=1.8.0->ultralytics) (3.3)\n",
      "Requirement already satisfied: jinja2 in /opt/conda/lib/python3.11/site-packages (from torch>=1.8.0->ultralytics) (3.1.3)\n",
      "Requirement already satisfied: fsspec in /opt/conda/lib/python3.11/site-packages (from torch>=1.8.0->ultralytics) (2024.3.1)\n",
      "Requirement already satisfied: nvidia-cuda-nvrtc-cu12==12.1.105 in /opt/conda/lib/python3.11/site-packages (from torch>=1.8.0->ultralytics) (12.1.105)\n",
      "Requirement already satisfied: nvidia-cuda-runtime-cu12==12.1.105 in /opt/conda/lib/python3.11/site-packages (from torch>=1.8.0->ultralytics) (12.1.105)\n",
      "Requirement already satisfied: nvidia-cuda-cupti-cu12==12.1.105 in /opt/conda/lib/python3.11/site-packages (from torch>=1.8.0->ultralytics) (12.1.105)\n",
      "Requirement already satisfied: nvidia-cudnn-cu12==8.9.2.26 in /opt/conda/lib/python3.11/site-packages (from torch>=1.8.0->ultralytics) (8.9.2.26)\n",
      "Requirement already satisfied: nvidia-cublas-cu12==12.1.3.1 in /opt/conda/lib/python3.11/site-packages (from torch>=1.8.0->ultralytics) (12.1.3.1)\n",
      "Requirement already satisfied: nvidia-cufft-cu12==11.0.2.54 in /opt/conda/lib/python3.11/site-packages (from torch>=1.8.0->ultralytics) (11.0.2.54)\n",
      "Requirement already satisfied: nvidia-curand-cu12==10.3.2.106 in /opt/conda/lib/python3.11/site-packages (from torch>=1.8.0->ultralytics) (10.3.2.106)\n",
      "Requirement already satisfied: nvidia-cusolver-cu12==11.4.5.107 in /opt/conda/lib/python3.11/site-packages (from torch>=1.8.0->ultralytics) (11.4.5.107)\n",
      "Requirement already satisfied: nvidia-cusparse-cu12==12.1.0.106 in /opt/conda/lib/python3.11/site-packages (from torch>=1.8.0->ultralytics) (12.1.0.106)\n",
      "Requirement already satisfied: nvidia-nccl-cu12==2.19.3 in /opt/conda/lib/python3.11/site-packages (from torch>=1.8.0->ultralytics) (2.19.3)\n",
      "Requirement already satisfied: nvidia-nvtx-cu12==12.1.105 in /opt/conda/lib/python3.11/site-packages (from torch>=1.8.0->ultralytics) (12.1.105)\n",
      "Requirement already satisfied: triton==2.2.0 in /opt/conda/lib/python3.11/site-packages (from torch>=1.8.0->ultralytics) (2.2.0)\n",
      "Requirement already satisfied: nvidia-nvjitlink-cu12 in /opt/conda/lib/python3.11/site-packages (from nvidia-cusolver-cu12==11.4.5.107->torch>=1.8.0->ultralytics) (12.1.105)\n",
      "Requirement already satisfied: six>=1.5 in /opt/conda/lib/python3.11/site-packages (from python-dateutil>=2.7->matplotlib>=3.3.0->ultralytics) (1.16.0)\n",
      "Requirement already satisfied: MarkupSafe>=2.0 in /opt/conda/lib/python3.11/site-packages (from jinja2->torch>=1.8.0->ultralytics) (2.1.5)\n",
      "Requirement already satisfied: mpmath>=0.19 in /opt/conda/lib/python3.11/site-packages (from sympy->torch>=1.8.0->ultralytics) (1.3.0)\n",
      "Defaulting to user installation because normal site-packages is not writeable\n",
      "Requirement already satisfied: yolo in /home/niquach/.local/lib/python3.11/site-packages (0.3.2)\n",
      "Requirement already satisfied: awscli in /home/niquach/.local/lib/python3.11/site-packages (from yolo) (1.38.11)\n",
      "Requirement already satisfied: boto3 in /home/niquach/.local/lib/python3.11/site-packages (from yolo) (1.37.11)\n",
      "Requirement already satisfied: botocore>=1.7.18 in /home/niquach/.local/lib/python3.11/site-packages (from yolo) (1.37.11)\n",
      "Requirement already satisfied: click in /opt/conda/lib/python3.11/site-packages (from yolo) (8.1.7)\n",
      "Requirement already satisfied: docker==3.4.0 in /home/niquach/.local/lib/python3.11/site-packages (from yolo) (3.4.0)\n",
      "Requirement already satisfied: jinja2 in /opt/conda/lib/python3.11/site-packages (from yolo) (3.1.3)\n",
      "Requirement already satisfied: keyring==8.7.0 in /home/niquach/.local/lib/python3.11/site-packages (from yolo) (8.7)\n",
      "Requirement already satisfied: keyrings.alt in /home/niquach/.local/lib/python3.11/site-packages (from yolo) (5.0.2)\n",
      "Requirement already satisfied: requests in /opt/conda/lib/python3.11/site-packages (from yolo) (2.32.3)\n",
      "Requirement already satisfied: ruamel.yaml in /opt/conda/lib/python3.11/site-packages (from yolo) (0.18.6)\n",
      "Requirement already satisfied: tabulate in /home/niquach/.local/lib/python3.11/site-packages (from yolo) (0.9.0)\n",
      "Requirement already satisfied: voluptuous in /home/niquach/.local/lib/python3.11/site-packages (from yolo) (0.15.2)\n",
      "Requirement already satisfied: six>=1.4.0 in /opt/conda/lib/python3.11/site-packages (from docker==3.4.0->yolo) (1.16.0)\n",
      "Requirement already satisfied: websocket-client>=0.32.0 in /opt/conda/lib/python3.11/site-packages (from docker==3.4.0->yolo) (1.7.0)\n",
      "Requirement already satisfied: docker-pycreds>=0.3.0 in /home/niquach/.local/lib/python3.11/site-packages (from docker==3.4.0->yolo) (0.4.0)\n",
      "Requirement already satisfied: jmespath<2.0.0,>=0.7.1 in /home/niquach/.local/lib/python3.11/site-packages (from botocore>=1.7.18->yolo) (1.0.1)\n",
      "Requirement already satisfied: python-dateutil<3.0.0,>=2.1 in /opt/conda/lib/python3.11/site-packages (from botocore>=1.7.18->yolo) (2.9.0)\n",
      "Requirement already satisfied: urllib3!=2.2.0,<3,>=1.25.4 in /opt/conda/lib/python3.11/site-packages (from botocore>=1.7.18->yolo) (2.2.1)\n",
      "Requirement already satisfied: charset-normalizer<4,>=2 in /opt/conda/lib/python3.11/site-packages (from requests->yolo) (3.3.2)\n",
      "Requirement already satisfied: idna<4,>=2.5 in /opt/conda/lib/python3.11/site-packages (from requests->yolo) (3.7)\n",
      "Requirement already satisfied: certifi>=2017.4.17 in /opt/conda/lib/python3.11/site-packages (from requests->yolo) (2024.8.30)\n",
      "Requirement already satisfied: docutils<0.17,>=0.10 in /home/niquach/.local/lib/python3.11/site-packages (from awscli->yolo) (0.16)\n",
      "Requirement already satisfied: s3transfer<0.12.0,>=0.11.0 in /home/niquach/.local/lib/python3.11/site-packages (from awscli->yolo) (0.11.4)\n",
      "Requirement already satisfied: PyYAML<6.1,>=3.10 in /opt/conda/lib/python3.11/site-packages (from awscli->yolo) (6.0.1)\n",
      "Requirement already satisfied: colorama<0.4.7,>=0.2.5 in /opt/conda/lib/python3.11/site-packages (from awscli->yolo) (0.4.6)\n",
      "Requirement already satisfied: rsa<4.8,>=3.1.2 in /home/niquach/.local/lib/python3.11/site-packages (from awscli->yolo) (4.7.2)\n",
      "Requirement already satisfied: MarkupSafe>=2.0 in /opt/conda/lib/python3.11/site-packages (from jinja2->yolo) (2.1.5)\n",
      "Requirement already satisfied: jaraco.classes in /home/niquach/.local/lib/python3.11/site-packages (from keyrings.alt->yolo) (3.4.0)\n",
      "Requirement already satisfied: jaraco.context in /home/niquach/.local/lib/python3.11/site-packages (from keyrings.alt->yolo) (6.0.1)\n",
      "Requirement already satisfied: ruamel.yaml.clib>=0.2.7 in /opt/conda/lib/python3.11/site-packages (from ruamel.yaml->yolo) (0.2.8)\n",
      "Requirement already satisfied: pyasn1>=0.1.3 in /opt/conda/lib/python3.11/site-packages (from rsa<4.8,>=3.1.2->awscli->yolo) (0.6.1)\n",
      "Requirement already satisfied: more-itertools in /home/niquach/.local/lib/python3.11/site-packages (from jaraco.classes->keyrings.alt->yolo) (10.6.0)\n",
      "Requirement already satisfied: backports.tarfile in /home/niquach/.local/lib/python3.11/site-packages (from jaraco.context->keyrings.alt->yolo) (1.2.0)\n"
     ]
    }
   ],
   "source": [
    "!pip install roboflow\n",
    "!pip install ultralytics\n",
    "!pip install yolo"
   ]
  },
  {
   "cell_type": "code",
   "execution_count": 5,
   "metadata": {},
   "outputs": [
    {
     "name": "stdout",
     "output_type": "stream",
     "text": [
      "Using CUDA\n"
     ]
    }
   ],
   "source": [
    "import torch\n",
    "\n",
    "USE_GPU = True\n",
    "\n",
    "if USE_GPU:\n",
    "    if torch.cuda.is_available():\n",
    "        device = torch.device(\"cuda\")\n",
    "        print(\"Using CUDA\")\n",
    "    elif torch.backends.mps.is_available():\n",
    "        device = torch.device(\"mps\")\n",
    "        print(\"Using MPS\")\n",
    "    else:\n",
    "        device = torch.device(\"cpu\")\n",
    "        print(\"No GPU available, using CPU\")\n",
    "else:\n",
    "    device = torch.device(\"cpu\")\n",
    "    print(\"Running on CPU\")\n"
   ]
  },
  {
   "cell_type": "markdown",
   "metadata": {},
   "source": [
    "# Get Dataset"
   ]
  },
  {
   "cell_type": "code",
   "execution_count": 3,
   "metadata": {},
   "outputs": [
    {
     "name": "stdout",
     "output_type": "stream",
     "text": [
      "loading Roboflow workspace...\n",
      "loading Roboflow project...\n"
     ]
    },
    {
     "name": "stderr",
     "output_type": "stream",
     "text": [
      "Downloading Dataset Version Zip in baseball-detection-2-4 to yolov5pytorch:: 100%|██████████| 533056/533056 [00:07<00:00, 71028.61it/s]\n"
     ]
    },
    {
     "name": "stdout",
     "output_type": "stream",
     "text": [
      "\n"
     ]
    },
    {
     "name": "stderr",
     "output_type": "stream",
     "text": [
      "Extracting Dataset Version Zip to baseball-detection-2-4 in yolov5pytorch:: 100%|██████████| 8318/8318 [00:07<00:00, 1048.54it/s]\n"
     ]
    }
   ],
   "source": [
    "from roboflow import Roboflow\n",
    "rf = Roboflow(api_key=\"MAlvDyJwZGAsFD2kKYEb\")\n",
    "project = rf.workspace(\"pitchtracking\").project(\"baseball-detection-2\")\n",
    "version = project.version(4)\n",
    "dataset = version.download(\"yolov5\")"
   ]
  },
  {
   "cell_type": "code",
   "execution_count": 4,
   "metadata": {},
   "outputs": [],
   "source": [
    "import shutil"
   ]
  },
  {
   "cell_type": "code",
   "execution_count": 5,
   "metadata": {},
   "outputs": [
    {
     "data": {
      "text/plain": [
       "'baseball-detection-2-4/baseball-detection-2-4/valid'"
      ]
     },
     "execution_count": 5,
     "metadata": {},
     "output_type": "execute_result"
    }
   ],
   "source": [
    "shutil.move(\"baseball-detection-2-4/train\", \n",
    "            \"baseball-detection-2-4/baseball-detection-2-4/train\")\n",
    "shutil.move(\"baseball-detection-2-4/test\", \n",
    "            \"baseball-detection-2-4/baseball-detection-2-4/test\")\n",
    "shutil.move(\"baseball-detection-2-4/valid\", \n",
    "            \"baseball-detection-2-4/baseball-detection-2-4/valid\")"
   ]
  },
  {
   "cell_type": "code",
   "execution_count": 5,
   "metadata": {},
   "outputs": [
    {
     "name": "stdout",
     "output_type": "stream",
     "text": [
      "/bin/bash: line 1: yolo: command not found\n"
     ]
    }
   ],
   "source": [
    "# !yolo task=detect mode=train model=yolov5su.pt data=\"/Users/katevu/Desktop/Monk Project/training/baseball-detection-2-4/data.yaml\" epochs=10 imgsz=540\n"
   ]
  },
  {
   "cell_type": "markdown",
   "metadata": {},
   "source": [
    "# Train Model"
   ]
  },
  {
   "cell_type": "code",
   "execution_count": 6,
   "metadata": {},
   "outputs": [
    {
     "name": "stdout",
     "output_type": "stream",
     "text": [
      "New https://pypi.org/project/ultralytics/8.3.88 available 😃 Update with 'pip install -U ultralytics'\n",
      "\u001b[34m\u001b[1mengine/trainer: \u001b[0mtask=detect, mode=train, model=yolov5su.pt, data=baseball-detection-2-4/data.yaml, epochs=100, time=None, patience=100, batch=16, imgsz=540, save=True, save_period=-1, cache=False, device=cuda:0, workers=8, project=None, name=train13, exist_ok=False, pretrained=True, optimizer=auto, verbose=True, seed=0, deterministic=True, single_cls=False, rect=False, cos_lr=False, close_mosaic=10, resume=False, amp=True, fraction=1.0, profile=False, freeze=None, multi_scale=False, overlap_mask=True, mask_ratio=4, dropout=0.0, val=True, split=val, save_json=False, save_hybrid=False, conf=None, iou=0.7, max_det=300, half=False, dnn=False, plots=True, source=None, vid_stride=1, stream_buffer=False, visualize=False, augment=False, agnostic_nms=False, classes=None, retina_masks=False, embed=None, show=False, save_frames=False, save_txt=False, save_conf=False, save_crop=False, show_labels=True, show_conf=True, show_boxes=True, line_width=None, format=torchscript, keras=False, optimize=False, int8=False, dynamic=False, simplify=True, opset=None, workspace=None, nms=False, lr0=0.01, lrf=0.01, momentum=0.937, weight_decay=0.0005, warmup_epochs=3.0, warmup_momentum=0.8, warmup_bias_lr=0.1, box=7.5, cls=0.5, dfl=1.5, pose=12.0, kobj=1.0, nbs=64, hsv_h=0.015, hsv_s=0.7, hsv_v=0.4, degrees=0.0, translate=0.1, scale=0.5, shear=0.0, perspective=0.0, flipud=0.0, fliplr=0.5, bgr=0.0, mosaic=1.0, mixup=0.0, copy_paste=0.0, copy_paste_mode=flip, auto_augment=randaugment, erasing=0.4, crop_fraction=1.0, cfg=None, tracker=botsort.yaml, save_dir=runs/detect/train13\n",
      "Overriding model.yaml nc=80 with nc=1\n",
      "\n",
      "                   from  n    params  module                                       arguments                     \n",
      "  0                  -1  1      3520  ultralytics.nn.modules.conv.Conv             [3, 32, 6, 2, 2]              \n",
      "  1                  -1  1     18560  ultralytics.nn.modules.conv.Conv             [32, 64, 3, 2]                \n",
      "  2                  -1  1     18816  ultralytics.nn.modules.block.C3              [64, 64, 1]                   \n",
      "  3                  -1  1     73984  ultralytics.nn.modules.conv.Conv             [64, 128, 3, 2]               \n",
      "  4                  -1  2    115712  ultralytics.nn.modules.block.C3              [128, 128, 2]                 \n",
      "  5                  -1  1    295424  ultralytics.nn.modules.conv.Conv             [128, 256, 3, 2]              \n",
      "  6                  -1  3    625152  ultralytics.nn.modules.block.C3              [256, 256, 3]                 \n",
      "  7                  -1  1   1180672  ultralytics.nn.modules.conv.Conv             [256, 512, 3, 2]              \n",
      "  8                  -1  1   1182720  ultralytics.nn.modules.block.C3              [512, 512, 1]                 \n",
      "  9                  -1  1    656896  ultralytics.nn.modules.block.SPPF            [512, 512, 5]                 \n",
      " 10                  -1  1    131584  ultralytics.nn.modules.conv.Conv             [512, 256, 1, 1]              \n",
      " 11                  -1  1         0  torch.nn.modules.upsampling.Upsample         [None, 2, 'nearest']          \n",
      " 12             [-1, 6]  1         0  ultralytics.nn.modules.conv.Concat           [1]                           \n",
      " 13                  -1  1    361984  ultralytics.nn.modules.block.C3              [512, 256, 1, False]          \n",
      " 14                  -1  1     33024  ultralytics.nn.modules.conv.Conv             [256, 128, 1, 1]              \n",
      " 15                  -1  1         0  torch.nn.modules.upsampling.Upsample         [None, 2, 'nearest']          \n",
      " 16             [-1, 4]  1         0  ultralytics.nn.modules.conv.Concat           [1]                           \n",
      " 17                  -1  1     90880  ultralytics.nn.modules.block.C3              [256, 128, 1, False]          \n",
      " 18                  -1  1    147712  ultralytics.nn.modules.conv.Conv             [128, 128, 3, 2]              \n",
      " 19            [-1, 14]  1         0  ultralytics.nn.modules.conv.Concat           [1]                           \n",
      " 20                  -1  1    296448  ultralytics.nn.modules.block.C3              [256, 256, 1, False]          \n",
      " 21                  -1  1    590336  ultralytics.nn.modules.conv.Conv             [256, 256, 3, 2]              \n",
      " 22            [-1, 10]  1         0  ultralytics.nn.modules.conv.Concat           [1]                           \n",
      " 23                  -1  1   1182720  ultralytics.nn.modules.block.C3              [512, 512, 1, False]          \n",
      " 24        [17, 20, 23]  1   2116435  ultralytics.nn.modules.head.Detect           [1, [128, 256, 512]]          \n",
      "YOLOv5s summary: 153 layers, 9,122,579 parameters, 9,122,563 gradients, 24.0 GFLOPs\n",
      "\n",
      "Transferred 421/427 items from pretrained weights\n",
      "\u001b[34m\u001b[1mTensorBoard: \u001b[0mStart with 'tensorboard --logdir runs/detect/train13', view at http://localhost:6006/\n",
      "Freezing layer 'model.24.dfl.conv.weight'\n",
      "\u001b[34m\u001b[1mAMP: \u001b[0mrunning Automatic Mixed Precision (AMP) checks...\n",
      "Downloading https://github.com/ultralytics/assets/releases/download/v8.3.0/yolo11n.pt to 'yolo11n.pt'...\n"
     ]
    },
    {
     "name": "stderr",
     "output_type": "stream",
     "text": [
      "100%|██████████| 5.35M/5.35M [00:00<00:00, 140MB/s]\n"
     ]
    },
    {
     "name": "stdout",
     "output_type": "stream",
     "text": [
      "\u001b[34m\u001b[1mAMP: \u001b[0mchecks passed ✅\n",
      "WARNING ⚠️ imgsz=[540] must be multiple of max stride 32, updating to [544]\n"
     ]
    },
    {
     "name": "stderr",
     "output_type": "stream",
     "text": [
      "\u001b[34m\u001b[1mtrain: \u001b[0mScanning /home/niquach/private/AI-Pitch-Recognition/baseball-detection-2-4/baseball-detection-2-4/train/labels.cache... 3418 images, 1394 backgrounds, 0 corrupt: 100%|██████████| 3418/3418 [00:00<?, ?it/s]\n",
      "\u001b[34m\u001b[1mval: \u001b[0mScanning /home/niquach/private/AI-Pitch-Recognition/baseball-detection-2-4/baseball-detection-2-4/valid/labels.cache... 487 images, 190 backgrounds, 0 corrupt: 100%|██████████| 487/487 [00:00<?, ?it/s]\n"
     ]
    },
    {
     "name": "stdout",
     "output_type": "stream",
     "text": [
      "Plotting labels to runs/detect/train13/labels.jpg... \n",
      "\u001b[34m\u001b[1moptimizer:\u001b[0m 'optimizer=auto' found, ignoring 'lr0=0.01' and 'momentum=0.937' and determining best 'optimizer', 'lr0' and 'momentum' automatically... \n",
      "\u001b[34m\u001b[1moptimizer:\u001b[0m AdamW(lr=0.002, momentum=0.9) with parameter groups 69 weight(decay=0.0), 76 weight(decay=0.0005), 75 bias(decay=0.0)\n",
      "\u001b[34m\u001b[1mTensorBoard: \u001b[0mmodel graph visualization added ✅\n",
      "Image sizes 544 train, 544 val\n",
      "Using 8 dataloader workers\n",
      "Logging results to \u001b[1mruns/detect/train13\u001b[0m\n",
      "Starting training for 100 epochs...\n",
      "\n",
      "      Epoch    GPU_mem   box_loss   cls_loss   dfl_loss  Instances       Size\n"
     ]
    },
    {
     "name": "stderr",
     "output_type": "stream",
     "text": [
      "      1/100      3.32G      2.657      27.09      0.915         11        544: 100%|██████████| 214/214 [00:52<00:00,  4.09it/s]\n",
      "                 Class     Images  Instances      Box(P          R      mAP50  mAP50-95): 100%|██████████| 16/16 [00:03<00:00,  5.26it/s]"
     ]
    },
    {
     "name": "stdout",
     "output_type": "stream",
     "text": [
      "                   all        487        297      0.407      0.357       0.31      0.102\n"
     ]
    },
    {
     "name": "stderr",
     "output_type": "stream",
     "text": [
      "\n"
     ]
    },
    {
     "name": "stdout",
     "output_type": "stream",
     "text": [
      "\n",
      "      Epoch    GPU_mem   box_loss   cls_loss   dfl_loss  Instances       Size\n"
     ]
    },
    {
     "name": "stderr",
     "output_type": "stream",
     "text": [
      "      2/100      3.44G      2.585      2.272     0.9006         10        544: 100%|██████████| 214/214 [00:49<00:00,  4.32it/s]\n",
      "                 Class     Images  Instances      Box(P          R      mAP50  mAP50-95): 100%|██████████| 16/16 [00:03<00:00,  5.28it/s]"
     ]
    },
    {
     "name": "stdout",
     "output_type": "stream",
     "text": [
      "                   all        487        297      0.666      0.457      0.522      0.202\n"
     ]
    },
    {
     "name": "stderr",
     "output_type": "stream",
     "text": [
      "\n"
     ]
    },
    {
     "name": "stdout",
     "output_type": "stream",
     "text": [
      "\n",
      "      Epoch    GPU_mem   box_loss   cls_loss   dfl_loss  Instances       Size\n"
     ]
    },
    {
     "name": "stderr",
     "output_type": "stream",
     "text": [
      "      3/100      3.43G      2.471      2.089     0.8918          4        544: 100%|██████████| 214/214 [00:48<00:00,  4.39it/s]\n",
      "                 Class     Images  Instances      Box(P          R      mAP50  mAP50-95): 100%|██████████| 16/16 [00:02<00:00,  5.41it/s]"
     ]
    },
    {
     "name": "stdout",
     "output_type": "stream",
     "text": [
      "                   all        487        297      0.689      0.465      0.513       0.18\n"
     ]
    },
    {
     "name": "stderr",
     "output_type": "stream",
     "text": [
      "\n"
     ]
    },
    {
     "name": "stdout",
     "output_type": "stream",
     "text": [
      "\n",
      "      Epoch    GPU_mem   box_loss   cls_loss   dfl_loss  Instances       Size\n"
     ]
    },
    {
     "name": "stderr",
     "output_type": "stream",
     "text": [
      "      4/100      3.29G       2.37      1.977      0.879         12        544: 100%|██████████| 214/214 [00:48<00:00,  4.42it/s]\n",
      "                 Class     Images  Instances      Box(P          R      mAP50  mAP50-95): 100%|██████████| 16/16 [00:02<00:00,  5.44it/s]"
     ]
    },
    {
     "name": "stdout",
     "output_type": "stream",
     "text": [
      "                   all        487        297       0.63      0.498      0.557      0.206\n"
     ]
    },
    {
     "name": "stderr",
     "output_type": "stream",
     "text": [
      "\n"
     ]
    },
    {
     "name": "stdout",
     "output_type": "stream",
     "text": [
      "\n",
      "      Epoch    GPU_mem   box_loss   cls_loss   dfl_loss  Instances       Size\n"
     ]
    },
    {
     "name": "stderr",
     "output_type": "stream",
     "text": [
      "      5/100      3.43G      2.346      1.808       0.88          7        544: 100%|██████████| 214/214 [00:48<00:00,  4.42it/s]\n",
      "                 Class     Images  Instances      Box(P          R      mAP50  mAP50-95): 100%|██████████| 16/16 [00:02<00:00,  5.43it/s]"
     ]
    },
    {
     "name": "stdout",
     "output_type": "stream",
     "text": [
      "                   all        487        297      0.699      0.501      0.591      0.236\n"
     ]
    },
    {
     "name": "stderr",
     "output_type": "stream",
     "text": [
      "\n"
     ]
    },
    {
     "name": "stdout",
     "output_type": "stream",
     "text": [
      "\n",
      "      Epoch    GPU_mem   box_loss   cls_loss   dfl_loss  Instances       Size\n"
     ]
    },
    {
     "name": "stderr",
     "output_type": "stream",
     "text": [
      "      6/100      3.29G      2.266      1.704     0.8735          9        544: 100%|██████████| 214/214 [00:48<00:00,  4.40it/s]\n",
      "                 Class     Images  Instances      Box(P          R      mAP50  mAP50-95): 100%|██████████| 16/16 [00:02<00:00,  5.37it/s]"
     ]
    },
    {
     "name": "stdout",
     "output_type": "stream",
     "text": [
      "                   all        487        297       0.69      0.593      0.656      0.251\n"
     ]
    },
    {
     "name": "stderr",
     "output_type": "stream",
     "text": [
      "\n"
     ]
    },
    {
     "name": "stdout",
     "output_type": "stream",
     "text": [
      "\n",
      "      Epoch    GPU_mem   box_loss   cls_loss   dfl_loss  Instances       Size\n"
     ]
    },
    {
     "name": "stderr",
     "output_type": "stream",
     "text": [
      "      7/100      3.43G      2.176      1.643     0.8627          9        544: 100%|██████████| 214/214 [00:48<00:00,  4.41it/s]\n",
      "                 Class     Images  Instances      Box(P          R      mAP50  mAP50-95): 100%|██████████| 16/16 [00:02<00:00,  5.43it/s]"
     ]
    },
    {
     "name": "stdout",
     "output_type": "stream",
     "text": [
      "                   all        487        297      0.688      0.622      0.667       0.29\n"
     ]
    },
    {
     "name": "stderr",
     "output_type": "stream",
     "text": [
      "\n"
     ]
    },
    {
     "name": "stdout",
     "output_type": "stream",
     "text": [
      "\n",
      "      Epoch    GPU_mem   box_loss   cls_loss   dfl_loss  Instances       Size\n"
     ]
    },
    {
     "name": "stderr",
     "output_type": "stream",
     "text": [
      "      8/100      3.29G      2.131      1.544     0.8601         11        544: 100%|██████████| 214/214 [00:48<00:00,  4.42it/s]\n",
      "                 Class     Images  Instances      Box(P          R      mAP50  mAP50-95): 100%|██████████| 16/16 [00:03<00:00,  5.31it/s]"
     ]
    },
    {
     "name": "stdout",
     "output_type": "stream",
     "text": [
      "                   all        487        297      0.763       0.64      0.717      0.318\n"
     ]
    },
    {
     "name": "stderr",
     "output_type": "stream",
     "text": [
      "\n"
     ]
    },
    {
     "name": "stdout",
     "output_type": "stream",
     "text": [
      "\n",
      "      Epoch    GPU_mem   box_loss   cls_loss   dfl_loss  Instances       Size\n"
     ]
    },
    {
     "name": "stderr",
     "output_type": "stream",
     "text": [
      "      9/100      3.27G      2.074      1.514     0.8586         14        544: 100%|██████████| 214/214 [00:48<00:00,  4.38it/s]\n",
      "                 Class     Images  Instances      Box(P          R      mAP50  mAP50-95): 100%|██████████| 16/16 [00:03<00:00,  5.32it/s]"
     ]
    },
    {
     "name": "stdout",
     "output_type": "stream",
     "text": [
      "                   all        487        297      0.719      0.552      0.671      0.288\n"
     ]
    },
    {
     "name": "stderr",
     "output_type": "stream",
     "text": [
      "\n"
     ]
    },
    {
     "name": "stdout",
     "output_type": "stream",
     "text": [
      "\n",
      "      Epoch    GPU_mem   box_loss   cls_loss   dfl_loss  Instances       Size\n"
     ]
    },
    {
     "name": "stderr",
     "output_type": "stream",
     "text": [
      "     10/100      3.29G      2.067      1.547     0.8575          6        544: 100%|██████████| 214/214 [00:48<00:00,  4.40it/s]\n",
      "                 Class     Images  Instances      Box(P          R      mAP50  mAP50-95): 100%|██████████| 16/16 [00:02<00:00,  5.36it/s]"
     ]
    },
    {
     "name": "stdout",
     "output_type": "stream",
     "text": [
      "                   all        487        297      0.842      0.589      0.752      0.319\n"
     ]
    },
    {
     "name": "stderr",
     "output_type": "stream",
     "text": [
      "\n"
     ]
    },
    {
     "name": "stdout",
     "output_type": "stream",
     "text": [
      "\n",
      "      Epoch    GPU_mem   box_loss   cls_loss   dfl_loss  Instances       Size\n"
     ]
    },
    {
     "name": "stderr",
     "output_type": "stream",
     "text": [
      "     11/100      3.28G      1.994      1.453     0.8492         12        544: 100%|██████████| 214/214 [00:48<00:00,  4.39it/s]\n",
      "                 Class     Images  Instances      Box(P          R      mAP50  mAP50-95): 100%|██████████| 16/16 [00:02<00:00,  5.39it/s]"
     ]
    },
    {
     "name": "stdout",
     "output_type": "stream",
     "text": [
      "                   all        487        297      0.837        0.7      0.816      0.395\n"
     ]
    },
    {
     "name": "stderr",
     "output_type": "stream",
     "text": [
      "\n"
     ]
    },
    {
     "name": "stdout",
     "output_type": "stream",
     "text": [
      "\n",
      "      Epoch    GPU_mem   box_loss   cls_loss   dfl_loss  Instances       Size\n"
     ]
    },
    {
     "name": "stderr",
     "output_type": "stream",
     "text": [
      "     12/100      3.28G      1.958      1.368     0.8432          6        544: 100%|██████████| 214/214 [00:48<00:00,  4.40it/s]\n",
      "                 Class     Images  Instances      Box(P          R      mAP50  mAP50-95): 100%|██████████| 16/16 [00:02<00:00,  5.37it/s]"
     ]
    },
    {
     "name": "stdout",
     "output_type": "stream",
     "text": [
      "                   all        487        297      0.783       0.68      0.758      0.351\n"
     ]
    },
    {
     "name": "stderr",
     "output_type": "stream",
     "text": [
      "\n"
     ]
    },
    {
     "name": "stdout",
     "output_type": "stream",
     "text": [
      "\n",
      "      Epoch    GPU_mem   box_loss   cls_loss   dfl_loss  Instances       Size\n"
     ]
    },
    {
     "name": "stderr",
     "output_type": "stream",
     "text": [
      "     13/100      3.44G       1.98       1.37     0.8434          9        544: 100%|██████████| 214/214 [00:48<00:00,  4.40it/s]\n",
      "                 Class     Images  Instances      Box(P          R      mAP50  mAP50-95): 100%|██████████| 16/16 [00:02<00:00,  5.38it/s]"
     ]
    },
    {
     "name": "stdout",
     "output_type": "stream",
     "text": [
      "                   all        487        297      0.815      0.744      0.819      0.406\n"
     ]
    },
    {
     "name": "stderr",
     "output_type": "stream",
     "text": [
      "\n"
     ]
    },
    {
     "name": "stdout",
     "output_type": "stream",
     "text": [
      "\n",
      "      Epoch    GPU_mem   box_loss   cls_loss   dfl_loss  Instances       Size\n"
     ]
    },
    {
     "name": "stderr",
     "output_type": "stream",
     "text": [
      "     14/100      3.29G      1.922      1.276     0.8425          9        544: 100%|██████████| 214/214 [00:48<00:00,  4.41it/s]\n",
      "                 Class     Images  Instances      Box(P          R      mAP50  mAP50-95): 100%|██████████| 16/16 [00:03<00:00,  5.31it/s]"
     ]
    },
    {
     "name": "stdout",
     "output_type": "stream",
     "text": [
      "                   all        487        297      0.839      0.744      0.824      0.403\n"
     ]
    },
    {
     "name": "stderr",
     "output_type": "stream",
     "text": [
      "\n"
     ]
    },
    {
     "name": "stdout",
     "output_type": "stream",
     "text": [
      "\n",
      "      Epoch    GPU_mem   box_loss   cls_loss   dfl_loss  Instances       Size\n"
     ]
    },
    {
     "name": "stderr",
     "output_type": "stream",
     "text": [
      "     15/100      3.29G      1.918      1.259     0.8469         10        544: 100%|██████████| 214/214 [00:48<00:00,  4.40it/s]\n",
      "                 Class     Images  Instances      Box(P          R      mAP50  mAP50-95): 100%|██████████| 16/16 [00:02<00:00,  5.39it/s]"
     ]
    },
    {
     "name": "stdout",
     "output_type": "stream",
     "text": [
      "                   all        487        297      0.792      0.744      0.819      0.394\n"
     ]
    },
    {
     "name": "stderr",
     "output_type": "stream",
     "text": [
      "\n"
     ]
    },
    {
     "name": "stdout",
     "output_type": "stream",
     "text": [
      "\n",
      "      Epoch    GPU_mem   box_loss   cls_loss   dfl_loss  Instances       Size\n"
     ]
    },
    {
     "name": "stderr",
     "output_type": "stream",
     "text": [
      "     16/100      3.28G      1.854      1.226     0.8396          7        544: 100%|██████████| 214/214 [00:48<00:00,  4.40it/s]\n",
      "                 Class     Images  Instances      Box(P          R      mAP50  mAP50-95): 100%|██████████| 16/16 [00:02<00:00,  5.41it/s]"
     ]
    },
    {
     "name": "stdout",
     "output_type": "stream",
     "text": [
      "                   all        487        297      0.789      0.728      0.811      0.402\n"
     ]
    },
    {
     "name": "stderr",
     "output_type": "stream",
     "text": [
      "\n"
     ]
    },
    {
     "name": "stdout",
     "output_type": "stream",
     "text": [
      "\n",
      "      Epoch    GPU_mem   box_loss   cls_loss   dfl_loss  Instances       Size\n"
     ]
    },
    {
     "name": "stderr",
     "output_type": "stream",
     "text": [
      "     17/100      3.29G      1.852      1.251     0.8354          8        544: 100%|██████████| 214/214 [00:48<00:00,  4.40it/s]\n",
      "                 Class     Images  Instances      Box(P          R      mAP50  mAP50-95): 100%|██████████| 16/16 [00:02<00:00,  5.39it/s]"
     ]
    },
    {
     "name": "stdout",
     "output_type": "stream",
     "text": [
      "                   all        487        297      0.793      0.775      0.843      0.442\n"
     ]
    },
    {
     "name": "stderr",
     "output_type": "stream",
     "text": [
      "\n"
     ]
    },
    {
     "name": "stdout",
     "output_type": "stream",
     "text": [
      "\n",
      "      Epoch    GPU_mem   box_loss   cls_loss   dfl_loss  Instances       Size\n"
     ]
    },
    {
     "name": "stderr",
     "output_type": "stream",
     "text": [
      "     18/100      3.29G      1.799      1.189      0.834         11        544: 100%|██████████| 214/214 [00:48<00:00,  4.40it/s]\n",
      "                 Class     Images  Instances      Box(P          R      mAP50  mAP50-95): 100%|██████████| 16/16 [00:02<00:00,  5.34it/s]"
     ]
    },
    {
     "name": "stdout",
     "output_type": "stream",
     "text": [
      "                   all        487        297      0.784      0.744      0.819       0.42\n"
     ]
    },
    {
     "name": "stderr",
     "output_type": "stream",
     "text": [
      "\n"
     ]
    },
    {
     "name": "stdout",
     "output_type": "stream",
     "text": [
      "\n",
      "      Epoch    GPU_mem   box_loss   cls_loss   dfl_loss  Instances       Size\n"
     ]
    },
    {
     "name": "stderr",
     "output_type": "stream",
     "text": [
      "     19/100      3.42G      1.831      1.198     0.8339          3        544: 100%|██████████| 214/214 [00:48<00:00,  4.41it/s]\n",
      "                 Class     Images  Instances      Box(P          R      mAP50  mAP50-95): 100%|██████████| 16/16 [00:02<00:00,  5.40it/s]"
     ]
    },
    {
     "name": "stdout",
     "output_type": "stream",
     "text": [
      "                   all        487        297      0.808      0.751      0.833      0.438\n"
     ]
    },
    {
     "name": "stderr",
     "output_type": "stream",
     "text": [
      "\n"
     ]
    },
    {
     "name": "stdout",
     "output_type": "stream",
     "text": [
      "\n",
      "      Epoch    GPU_mem   box_loss   cls_loss   dfl_loss  Instances       Size\n"
     ]
    },
    {
     "name": "stderr",
     "output_type": "stream",
     "text": [
      "     20/100      3.29G      1.731      1.128      0.832         11        544: 100%|██████████| 214/214 [00:48<00:00,  4.41it/s]\n",
      "                 Class     Images  Instances      Box(P          R      mAP50  mAP50-95): 100%|██████████| 16/16 [00:02<00:00,  5.40it/s]"
     ]
    },
    {
     "name": "stdout",
     "output_type": "stream",
     "text": [
      "                   all        487        297      0.895      0.717      0.819      0.427\n"
     ]
    },
    {
     "name": "stderr",
     "output_type": "stream",
     "text": [
      "\n"
     ]
    },
    {
     "name": "stdout",
     "output_type": "stream",
     "text": [
      "\n",
      "      Epoch    GPU_mem   box_loss   cls_loss   dfl_loss  Instances       Size\n"
     ]
    },
    {
     "name": "stderr",
     "output_type": "stream",
     "text": [
      "     21/100      3.43G      1.798      1.205     0.8252          7        544: 100%|██████████| 214/214 [00:48<00:00,  4.41it/s]\n",
      "                 Class     Images  Instances      Box(P          R      mAP50  mAP50-95): 100%|██████████| 16/16 [00:02<00:00,  5.35it/s]"
     ]
    },
    {
     "name": "stdout",
     "output_type": "stream",
     "text": [
      "                   all        487        297      0.829        0.8      0.845      0.445\n"
     ]
    },
    {
     "name": "stderr",
     "output_type": "stream",
     "text": [
      "\n"
     ]
    },
    {
     "name": "stdout",
     "output_type": "stream",
     "text": [
      "\n",
      "      Epoch    GPU_mem   box_loss   cls_loss   dfl_loss  Instances       Size\n"
     ]
    },
    {
     "name": "stderr",
     "output_type": "stream",
     "text": [
      "     22/100      3.44G      1.807      1.139     0.8348         15        544: 100%|██████████| 214/214 [00:48<00:00,  4.41it/s]\n",
      "                 Class     Images  Instances      Box(P          R      mAP50  mAP50-95): 100%|██████████| 16/16 [00:02<00:00,  5.51it/s]"
     ]
    },
    {
     "name": "stdout",
     "output_type": "stream",
     "text": [
      "                   all        487        297      0.828      0.761      0.868      0.473\n"
     ]
    },
    {
     "name": "stderr",
     "output_type": "stream",
     "text": [
      "\n"
     ]
    },
    {
     "name": "stdout",
     "output_type": "stream",
     "text": [
      "\n",
      "      Epoch    GPU_mem   box_loss   cls_loss   dfl_loss  Instances       Size\n"
     ]
    },
    {
     "name": "stderr",
     "output_type": "stream",
     "text": [
      "     23/100      3.29G      1.761      1.086     0.8382         10        544: 100%|██████████| 214/214 [00:48<00:00,  4.40it/s]\n",
      "                 Class     Images  Instances      Box(P          R      mAP50  mAP50-95): 100%|██████████| 16/16 [00:02<00:00,  5.39it/s]"
     ]
    },
    {
     "name": "stdout",
     "output_type": "stream",
     "text": [
      "                   all        487        297      0.847      0.731      0.836      0.383\n"
     ]
    },
    {
     "name": "stderr",
     "output_type": "stream",
     "text": [
      "\n"
     ]
    },
    {
     "name": "stdout",
     "output_type": "stream",
     "text": [
      "\n",
      "      Epoch    GPU_mem   box_loss   cls_loss   dfl_loss  Instances       Size\n"
     ]
    },
    {
     "name": "stderr",
     "output_type": "stream",
     "text": [
      "     24/100      3.28G      1.744      1.107     0.8278          8        544: 100%|██████████| 214/214 [00:48<00:00,  4.41it/s]\n",
      "                 Class     Images  Instances      Box(P          R      mAP50  mAP50-95): 100%|██████████| 16/16 [00:02<00:00,  5.42it/s]"
     ]
    },
    {
     "name": "stdout",
     "output_type": "stream",
     "text": [
      "                   all        487        297      0.907      0.761       0.87      0.472\n"
     ]
    },
    {
     "name": "stderr",
     "output_type": "stream",
     "text": [
      "\n"
     ]
    },
    {
     "name": "stdout",
     "output_type": "stream",
     "text": [
      "\n",
      "      Epoch    GPU_mem   box_loss   cls_loss   dfl_loss  Instances       Size\n"
     ]
    },
    {
     "name": "stderr",
     "output_type": "stream",
     "text": [
      "     25/100      3.42G      1.762       1.05     0.8388          4        544: 100%|██████████| 214/214 [00:48<00:00,  4.41it/s]\n",
      "                 Class     Images  Instances      Box(P          R      mAP50  mAP50-95): 100%|██████████| 16/16 [00:02<00:00,  5.42it/s]"
     ]
    },
    {
     "name": "stdout",
     "output_type": "stream",
     "text": [
      "                   all        487        297       0.91      0.798      0.889      0.486\n"
     ]
    },
    {
     "name": "stderr",
     "output_type": "stream",
     "text": [
      "\n"
     ]
    },
    {
     "name": "stdout",
     "output_type": "stream",
     "text": [
      "\n",
      "      Epoch    GPU_mem   box_loss   cls_loss   dfl_loss  Instances       Size\n"
     ]
    },
    {
     "name": "stderr",
     "output_type": "stream",
     "text": [
      "     26/100      3.28G      1.711      1.026     0.8293          7        544: 100%|██████████| 214/214 [00:48<00:00,  4.41it/s]\n",
      "                 Class     Images  Instances      Box(P          R      mAP50  mAP50-95): 100%|██████████| 16/16 [00:02<00:00,  5.40it/s]"
     ]
    },
    {
     "name": "stdout",
     "output_type": "stream",
     "text": [
      "                   all        487        297      0.831      0.793      0.861      0.474\n"
     ]
    },
    {
     "name": "stderr",
     "output_type": "stream",
     "text": [
      "\n"
     ]
    },
    {
     "name": "stdout",
     "output_type": "stream",
     "text": [
      "\n",
      "      Epoch    GPU_mem   box_loss   cls_loss   dfl_loss  Instances       Size\n"
     ]
    },
    {
     "name": "stderr",
     "output_type": "stream",
     "text": [
      "     27/100      3.27G      1.709      1.033     0.8341          3        544: 100%|██████████| 214/214 [00:48<00:00,  4.39it/s]\n",
      "                 Class     Images  Instances      Box(P          R      mAP50  mAP50-95): 100%|██████████| 16/16 [00:02<00:00,  5.40it/s]"
     ]
    },
    {
     "name": "stdout",
     "output_type": "stream",
     "text": [
      "                   all        487        297      0.807      0.727      0.818      0.421\n"
     ]
    },
    {
     "name": "stderr",
     "output_type": "stream",
     "text": [
      "\n"
     ]
    },
    {
     "name": "stdout",
     "output_type": "stream",
     "text": [
      "\n",
      "      Epoch    GPU_mem   box_loss   cls_loss   dfl_loss  Instances       Size\n"
     ]
    },
    {
     "name": "stderr",
     "output_type": "stream",
     "text": [
      "     28/100      3.29G      1.719      1.056     0.8271          5        544: 100%|██████████| 214/214 [00:48<00:00,  4.39it/s]\n",
      "                 Class     Images  Instances      Box(P          R      mAP50  mAP50-95): 100%|██████████| 16/16 [00:03<00:00,  5.32it/s]"
     ]
    },
    {
     "name": "stdout",
     "output_type": "stream",
     "text": [
      "                   all        487        297      0.867      0.795      0.871      0.444\n"
     ]
    },
    {
     "name": "stderr",
     "output_type": "stream",
     "text": [
      "\n"
     ]
    },
    {
     "name": "stdout",
     "output_type": "stream",
     "text": [
      "\n",
      "      Epoch    GPU_mem   box_loss   cls_loss   dfl_loss  Instances       Size\n"
     ]
    },
    {
     "name": "stderr",
     "output_type": "stream",
     "text": [
      "     29/100      3.28G      1.722      1.018     0.8298          6        544: 100%|██████████| 214/214 [00:48<00:00,  4.40it/s]\n",
      "                 Class     Images  Instances      Box(P          R      mAP50  mAP50-95): 100%|██████████| 16/16 [00:02<00:00,  5.41it/s]"
     ]
    },
    {
     "name": "stdout",
     "output_type": "stream",
     "text": [
      "                   all        487        297      0.848      0.773      0.872      0.486\n"
     ]
    },
    {
     "name": "stderr",
     "output_type": "stream",
     "text": [
      "\n"
     ]
    },
    {
     "name": "stdout",
     "output_type": "stream",
     "text": [
      "\n",
      "      Epoch    GPU_mem   box_loss   cls_loss   dfl_loss  Instances       Size\n"
     ]
    },
    {
     "name": "stderr",
     "output_type": "stream",
     "text": [
      "     30/100      3.29G      1.642     0.9869     0.8191         10        544: 100%|██████████| 214/214 [00:48<00:00,  4.41it/s]\n",
      "                 Class     Images  Instances      Box(P          R      mAP50  mAP50-95): 100%|██████████| 16/16 [00:02<00:00,  5.39it/s]"
     ]
    },
    {
     "name": "stdout",
     "output_type": "stream",
     "text": [
      "                   all        487        297      0.864      0.818      0.892      0.497\n"
     ]
    },
    {
     "name": "stderr",
     "output_type": "stream",
     "text": [
      "\n"
     ]
    },
    {
     "name": "stdout",
     "output_type": "stream",
     "text": [
      "\n",
      "      Epoch    GPU_mem   box_loss   cls_loss   dfl_loss  Instances       Size\n"
     ]
    },
    {
     "name": "stderr",
     "output_type": "stream",
     "text": [
      "     31/100      3.28G      1.667     0.9702     0.8287          3        544: 100%|██████████| 214/214 [00:48<00:00,  4.42it/s]\n",
      "                 Class     Images  Instances      Box(P          R      mAP50  mAP50-95): 100%|██████████| 16/16 [00:02<00:00,  5.43it/s]"
     ]
    },
    {
     "name": "stdout",
     "output_type": "stream",
     "text": [
      "                   all        487        297      0.853      0.782      0.866      0.431\n"
     ]
    },
    {
     "name": "stderr",
     "output_type": "stream",
     "text": [
      "\n"
     ]
    },
    {
     "name": "stdout",
     "output_type": "stream",
     "text": [
      "\n",
      "      Epoch    GPU_mem   box_loss   cls_loss   dfl_loss  Instances       Size\n"
     ]
    },
    {
     "name": "stderr",
     "output_type": "stream",
     "text": [
      "     32/100      3.29G      1.654     0.9819     0.8241          8        544: 100%|██████████| 214/214 [00:48<00:00,  4.42it/s]\n",
      "                 Class     Images  Instances      Box(P          R      mAP50  mAP50-95): 100%|██████████| 16/16 [00:02<00:00,  5.46it/s]"
     ]
    },
    {
     "name": "stdout",
     "output_type": "stream",
     "text": [
      "                   all        487        297        0.9      0.771      0.875      0.519\n"
     ]
    },
    {
     "name": "stderr",
     "output_type": "stream",
     "text": [
      "\n"
     ]
    },
    {
     "name": "stdout",
     "output_type": "stream",
     "text": [
      "\n",
      "      Epoch    GPU_mem   box_loss   cls_loss   dfl_loss  Instances       Size\n"
     ]
    },
    {
     "name": "stderr",
     "output_type": "stream",
     "text": [
      "     33/100      3.43G       1.64      0.947     0.8211          5        544: 100%|██████████| 214/214 [00:48<00:00,  4.41it/s]\n",
      "                 Class     Images  Instances      Box(P          R      mAP50  mAP50-95): 100%|██████████| 16/16 [00:02<00:00,  5.43it/s]"
     ]
    },
    {
     "name": "stdout",
     "output_type": "stream",
     "text": [
      "                   all        487        297      0.915      0.797      0.897      0.481\n"
     ]
    },
    {
     "name": "stderr",
     "output_type": "stream",
     "text": [
      "\n"
     ]
    },
    {
     "name": "stdout",
     "output_type": "stream",
     "text": [
      "\n",
      "      Epoch    GPU_mem   box_loss   cls_loss   dfl_loss  Instances       Size\n"
     ]
    },
    {
     "name": "stderr",
     "output_type": "stream",
     "text": [
      "     34/100      3.28G      1.638      1.001     0.8155         10        544: 100%|██████████| 214/214 [00:48<00:00,  4.40it/s]\n",
      "                 Class     Images  Instances      Box(P          R      mAP50  mAP50-95): 100%|██████████| 16/16 [00:02<00:00,  5.48it/s]"
     ]
    },
    {
     "name": "stdout",
     "output_type": "stream",
     "text": [
      "                   all        487        297      0.899      0.782      0.885      0.502\n"
     ]
    },
    {
     "name": "stderr",
     "output_type": "stream",
     "text": [
      "\n"
     ]
    },
    {
     "name": "stdout",
     "output_type": "stream",
     "text": [
      "\n",
      "      Epoch    GPU_mem   box_loss   cls_loss   dfl_loss  Instances       Size\n"
     ]
    },
    {
     "name": "stderr",
     "output_type": "stream",
     "text": [
      "     35/100      3.27G      1.591     0.9151     0.8265         12        544: 100%|██████████| 214/214 [00:48<00:00,  4.40it/s]\n",
      "                 Class     Images  Instances      Box(P          R      mAP50  mAP50-95): 100%|██████████| 16/16 [00:02<00:00,  5.44it/s]"
     ]
    },
    {
     "name": "stdout",
     "output_type": "stream",
     "text": [
      "                   all        487        297      0.855      0.822      0.871       0.51\n"
     ]
    },
    {
     "name": "stderr",
     "output_type": "stream",
     "text": [
      "\n"
     ]
    },
    {
     "name": "stdout",
     "output_type": "stream",
     "text": [
      "\n",
      "      Epoch    GPU_mem   box_loss   cls_loss   dfl_loss  Instances       Size\n"
     ]
    },
    {
     "name": "stderr",
     "output_type": "stream",
     "text": [
      "     36/100      3.28G      1.641     0.9582     0.8291         11        544: 100%|██████████| 214/214 [00:48<00:00,  4.40it/s]\n",
      "                 Class     Images  Instances      Box(P          R      mAP50  mAP50-95): 100%|██████████| 16/16 [00:02<00:00,  5.44it/s]"
     ]
    },
    {
     "name": "stdout",
     "output_type": "stream",
     "text": [
      "                   all        487        297      0.842      0.825      0.884      0.511\n"
     ]
    },
    {
     "name": "stderr",
     "output_type": "stream",
     "text": [
      "\n"
     ]
    },
    {
     "name": "stdout",
     "output_type": "stream",
     "text": [
      "\n",
      "      Epoch    GPU_mem   box_loss   cls_loss   dfl_loss  Instances       Size\n"
     ]
    },
    {
     "name": "stderr",
     "output_type": "stream",
     "text": [
      "     37/100      3.44G      1.569      0.888     0.8232          6        544: 100%|██████████| 214/214 [00:48<00:00,  4.41it/s]\n",
      "                 Class     Images  Instances      Box(P          R      mAP50  mAP50-95): 100%|██████████| 16/16 [00:02<00:00,  5.51it/s]"
     ]
    },
    {
     "name": "stdout",
     "output_type": "stream",
     "text": [
      "                   all        487        297      0.894      0.842      0.902      0.531\n"
     ]
    },
    {
     "name": "stderr",
     "output_type": "stream",
     "text": [
      "\n"
     ]
    },
    {
     "name": "stdout",
     "output_type": "stream",
     "text": [
      "\n",
      "      Epoch    GPU_mem   box_loss   cls_loss   dfl_loss  Instances       Size\n"
     ]
    },
    {
     "name": "stderr",
     "output_type": "stream",
     "text": [
      "     38/100      3.28G      1.562     0.9053     0.8173          8        544: 100%|██████████| 214/214 [00:48<00:00,  4.40it/s]\n",
      "                 Class     Images  Instances      Box(P          R      mAP50  mAP50-95): 100%|██████████| 16/16 [00:02<00:00,  5.44it/s]"
     ]
    },
    {
     "name": "stdout",
     "output_type": "stream",
     "text": [
      "                   all        487        297      0.851      0.818      0.885      0.523\n"
     ]
    },
    {
     "name": "stderr",
     "output_type": "stream",
     "text": [
      "\n"
     ]
    },
    {
     "name": "stdout",
     "output_type": "stream",
     "text": [
      "\n",
      "      Epoch    GPU_mem   box_loss   cls_loss   dfl_loss  Instances       Size\n"
     ]
    },
    {
     "name": "stderr",
     "output_type": "stream",
     "text": [
      "     39/100      3.43G      1.585     0.9065     0.8149          8        544: 100%|██████████| 214/214 [00:48<00:00,  4.41it/s]\n",
      "                 Class     Images  Instances      Box(P          R      mAP50  mAP50-95): 100%|██████████| 16/16 [00:03<00:00,  5.25it/s]"
     ]
    },
    {
     "name": "stdout",
     "output_type": "stream",
     "text": [
      "                   all        487        297      0.862       0.82      0.888      0.508\n"
     ]
    },
    {
     "name": "stderr",
     "output_type": "stream",
     "text": [
      "\n"
     ]
    },
    {
     "name": "stdout",
     "output_type": "stream",
     "text": [
      "\n",
      "      Epoch    GPU_mem   box_loss   cls_loss   dfl_loss  Instances       Size\n"
     ]
    },
    {
     "name": "stderr",
     "output_type": "stream",
     "text": [
      "     40/100      3.29G      1.552     0.8614     0.8219          8        544: 100%|██████████| 214/214 [00:48<00:00,  4.39it/s]\n",
      "                 Class     Images  Instances      Box(P          R      mAP50  mAP50-95): 100%|██████████| 16/16 [00:02<00:00,  5.48it/s]"
     ]
    },
    {
     "name": "stdout",
     "output_type": "stream",
     "text": [
      "                   all        487        297      0.914      0.855      0.916      0.541\n"
     ]
    },
    {
     "name": "stderr",
     "output_type": "stream",
     "text": [
      "\n"
     ]
    },
    {
     "name": "stdout",
     "output_type": "stream",
     "text": [
      "\n",
      "      Epoch    GPU_mem   box_loss   cls_loss   dfl_loss  Instances       Size\n"
     ]
    },
    {
     "name": "stderr",
     "output_type": "stream",
     "text": [
      "     41/100      3.27G      1.573      0.874     0.8174         10        544: 100%|██████████| 214/214 [00:48<00:00,  4.40it/s]\n",
      "                 Class     Images  Instances      Box(P          R      mAP50  mAP50-95): 100%|██████████| 16/16 [00:02<00:00,  5.51it/s]"
     ]
    },
    {
     "name": "stdout",
     "output_type": "stream",
     "text": [
      "                   all        487        297      0.903      0.845      0.914      0.529\n"
     ]
    },
    {
     "name": "stderr",
     "output_type": "stream",
     "text": [
      "\n"
     ]
    },
    {
     "name": "stdout",
     "output_type": "stream",
     "text": [
      "\n",
      "      Epoch    GPU_mem   box_loss   cls_loss   dfl_loss  Instances       Size\n"
     ]
    },
    {
     "name": "stderr",
     "output_type": "stream",
     "text": [
      "     42/100      3.27G      1.563     0.8611     0.8139          5        544: 100%|██████████| 214/214 [00:48<00:00,  4.40it/s]\n",
      "                 Class     Images  Instances      Box(P          R      mAP50  mAP50-95): 100%|██████████| 16/16 [00:02<00:00,  5.46it/s]"
     ]
    },
    {
     "name": "stdout",
     "output_type": "stream",
     "text": [
      "                   all        487        297      0.914      0.856      0.926      0.538\n"
     ]
    },
    {
     "name": "stderr",
     "output_type": "stream",
     "text": [
      "\n"
     ]
    },
    {
     "name": "stdout",
     "output_type": "stream",
     "text": [
      "\n",
      "      Epoch    GPU_mem   box_loss   cls_loss   dfl_loss  Instances       Size\n"
     ]
    },
    {
     "name": "stderr",
     "output_type": "stream",
     "text": [
      "     43/100      3.44G      1.569     0.8483      0.821          8        544: 100%|██████████| 214/214 [00:48<00:00,  4.40it/s]\n",
      "                 Class     Images  Instances      Box(P          R      mAP50  mAP50-95): 100%|██████████| 16/16 [00:02<00:00,  5.54it/s]"
     ]
    },
    {
     "name": "stdout",
     "output_type": "stream",
     "text": [
      "                   all        487        297      0.911      0.831      0.909      0.509\n"
     ]
    },
    {
     "name": "stderr",
     "output_type": "stream",
     "text": [
      "\n"
     ]
    },
    {
     "name": "stdout",
     "output_type": "stream",
     "text": [
      "\n",
      "      Epoch    GPU_mem   box_loss   cls_loss   dfl_loss  Instances       Size\n"
     ]
    },
    {
     "name": "stderr",
     "output_type": "stream",
     "text": [
      "     44/100      3.28G      1.542      0.829     0.8159          9        544: 100%|██████████| 214/214 [00:48<00:00,  4.40it/s]\n",
      "                 Class     Images  Instances      Box(P          R      mAP50  mAP50-95): 100%|██████████| 16/16 [00:02<00:00,  5.48it/s]"
     ]
    },
    {
     "name": "stdout",
     "output_type": "stream",
     "text": [
      "                   all        487        297       0.89      0.848      0.915      0.532\n"
     ]
    },
    {
     "name": "stderr",
     "output_type": "stream",
     "text": [
      "\n"
     ]
    },
    {
     "name": "stdout",
     "output_type": "stream",
     "text": [
      "\n",
      "      Epoch    GPU_mem   box_loss   cls_loss   dfl_loss  Instances       Size\n"
     ]
    },
    {
     "name": "stderr",
     "output_type": "stream",
     "text": [
      "     45/100      3.44G      1.561     0.8272      0.823         11        544: 100%|██████████| 214/214 [00:48<00:00,  4.41it/s]\n",
      "                 Class     Images  Instances      Box(P          R      mAP50  mAP50-95): 100%|██████████| 16/16 [00:02<00:00,  5.51it/s]"
     ]
    },
    {
     "name": "stdout",
     "output_type": "stream",
     "text": [
      "                   all        487        297      0.947      0.825      0.925      0.573\n"
     ]
    },
    {
     "name": "stderr",
     "output_type": "stream",
     "text": [
      "\n"
     ]
    },
    {
     "name": "stdout",
     "output_type": "stream",
     "text": [
      "\n",
      "      Epoch    GPU_mem   box_loss   cls_loss   dfl_loss  Instances       Size\n"
     ]
    },
    {
     "name": "stderr",
     "output_type": "stream",
     "text": [
      "     46/100      3.28G      1.524      0.811     0.8295         10        544: 100%|██████████| 214/214 [00:48<00:00,  4.40it/s]\n",
      "                 Class     Images  Instances      Box(P          R      mAP50  mAP50-95): 100%|██████████| 16/16 [00:02<00:00,  5.47it/s]"
     ]
    },
    {
     "name": "stdout",
     "output_type": "stream",
     "text": [
      "                   all        487        297      0.872      0.859      0.905      0.545\n"
     ]
    },
    {
     "name": "stderr",
     "output_type": "stream",
     "text": [
      "\n"
     ]
    },
    {
     "name": "stdout",
     "output_type": "stream",
     "text": [
      "\n",
      "      Epoch    GPU_mem   box_loss   cls_loss   dfl_loss  Instances       Size\n"
     ]
    },
    {
     "name": "stderr",
     "output_type": "stream",
     "text": [
      "     47/100      3.27G      1.495     0.8465     0.8081          8        544: 100%|██████████| 214/214 [00:48<00:00,  4.40it/s]\n",
      "                 Class     Images  Instances      Box(P          R      mAP50  mAP50-95): 100%|██████████| 16/16 [00:02<00:00,  5.48it/s]"
     ]
    },
    {
     "name": "stdout",
     "output_type": "stream",
     "text": [
      "                   all        487        297      0.932      0.832      0.911      0.532\n"
     ]
    },
    {
     "name": "stderr",
     "output_type": "stream",
     "text": [
      "\n"
     ]
    },
    {
     "name": "stdout",
     "output_type": "stream",
     "text": [
      "\n",
      "      Epoch    GPU_mem   box_loss   cls_loss   dfl_loss  Instances       Size\n"
     ]
    },
    {
     "name": "stderr",
     "output_type": "stream",
     "text": [
      "     48/100      3.28G      1.495     0.7972     0.8099          9        544: 100%|██████████| 214/214 [00:48<00:00,  4.41it/s]\n",
      "                 Class     Images  Instances      Box(P          R      mAP50  mAP50-95): 100%|██████████| 16/16 [00:02<00:00,  5.55it/s]"
     ]
    },
    {
     "name": "stdout",
     "output_type": "stream",
     "text": [
      "                   all        487        297      0.911      0.862      0.921      0.568\n"
     ]
    },
    {
     "name": "stderr",
     "output_type": "stream",
     "text": [
      "\n"
     ]
    },
    {
     "name": "stdout",
     "output_type": "stream",
     "text": [
      "\n",
      "      Epoch    GPU_mem   box_loss   cls_loss   dfl_loss  Instances       Size\n"
     ]
    },
    {
     "name": "stderr",
     "output_type": "stream",
     "text": [
      "     49/100      3.44G      1.465     0.7789      0.814         11        544: 100%|██████████| 214/214 [00:48<00:00,  4.40it/s]\n",
      "                 Class     Images  Instances      Box(P          R      mAP50  mAP50-95): 100%|██████████| 16/16 [00:02<00:00,  5.49it/s]"
     ]
    },
    {
     "name": "stdout",
     "output_type": "stream",
     "text": [
      "                   all        487        297      0.874      0.862      0.914       0.54\n"
     ]
    },
    {
     "name": "stderr",
     "output_type": "stream",
     "text": [
      "\n"
     ]
    },
    {
     "name": "stdout",
     "output_type": "stream",
     "text": [
      "\n",
      "      Epoch    GPU_mem   box_loss   cls_loss   dfl_loss  Instances       Size\n"
     ]
    },
    {
     "name": "stderr",
     "output_type": "stream",
     "text": [
      "     50/100      3.28G      1.476      0.779     0.8156          5        544: 100%|██████████| 214/214 [00:48<00:00,  4.41it/s]\n",
      "                 Class     Images  Instances      Box(P          R      mAP50  mAP50-95): 100%|██████████| 16/16 [00:02<00:00,  5.52it/s]"
     ]
    },
    {
     "name": "stdout",
     "output_type": "stream",
     "text": [
      "                   all        487        297      0.892      0.859       0.92      0.549\n"
     ]
    },
    {
     "name": "stderr",
     "output_type": "stream",
     "text": [
      "\n"
     ]
    },
    {
     "name": "stdout",
     "output_type": "stream",
     "text": [
      "\n",
      "      Epoch    GPU_mem   box_loss   cls_loss   dfl_loss  Instances       Size\n"
     ]
    },
    {
     "name": "stderr",
     "output_type": "stream",
     "text": [
      "     51/100      3.43G      1.499     0.8351     0.8093          6        544: 100%|██████████| 214/214 [00:48<00:00,  4.40it/s]\n",
      "                 Class     Images  Instances      Box(P          R      mAP50  mAP50-95): 100%|██████████| 16/16 [00:02<00:00,  5.45it/s]"
     ]
    },
    {
     "name": "stdout",
     "output_type": "stream",
     "text": [
      "                   all        487        297       0.86      0.791      0.884      0.534\n"
     ]
    },
    {
     "name": "stderr",
     "output_type": "stream",
     "text": [
      "\n"
     ]
    },
    {
     "name": "stdout",
     "output_type": "stream",
     "text": [
      "\n",
      "      Epoch    GPU_mem   box_loss   cls_loss   dfl_loss  Instances       Size\n"
     ]
    },
    {
     "name": "stderr",
     "output_type": "stream",
     "text": [
      "     52/100      3.28G      1.486     0.7872     0.8153         11        544: 100%|██████████| 214/214 [00:48<00:00,  4.40it/s]\n",
      "                 Class     Images  Instances      Box(P          R      mAP50  mAP50-95): 100%|██████████| 16/16 [00:02<00:00,  5.55it/s]"
     ]
    },
    {
     "name": "stdout",
     "output_type": "stream",
     "text": [
      "                   all        487        297      0.908      0.827      0.906      0.536\n"
     ]
    },
    {
     "name": "stderr",
     "output_type": "stream",
     "text": [
      "\n"
     ]
    },
    {
     "name": "stdout",
     "output_type": "stream",
     "text": [
      "\n",
      "      Epoch    GPU_mem   box_loss   cls_loss   dfl_loss  Instances       Size\n"
     ]
    },
    {
     "name": "stderr",
     "output_type": "stream",
     "text": [
      "     53/100      3.27G      1.443     0.7289     0.8131          6        544: 100%|██████████| 214/214 [00:48<00:00,  4.41it/s]\n",
      "                 Class     Images  Instances      Box(P          R      mAP50  mAP50-95): 100%|██████████| 16/16 [00:02<00:00,  5.55it/s]"
     ]
    },
    {
     "name": "stdout",
     "output_type": "stream",
     "text": [
      "                   all        487        297      0.888      0.825      0.909      0.555\n"
     ]
    },
    {
     "name": "stderr",
     "output_type": "stream",
     "text": [
      "\n"
     ]
    },
    {
     "name": "stdout",
     "output_type": "stream",
     "text": [
      "\n",
      "      Epoch    GPU_mem   box_loss   cls_loss   dfl_loss  Instances       Size\n"
     ]
    },
    {
     "name": "stderr",
     "output_type": "stream",
     "text": [
      "     54/100      3.28G      1.475     0.7631     0.8133         13        544: 100%|██████████| 214/214 [00:48<00:00,  4.41it/s]\n",
      "                 Class     Images  Instances      Box(P          R      mAP50  mAP50-95): 100%|██████████| 16/16 [00:02<00:00,  5.50it/s]"
     ]
    },
    {
     "name": "stdout",
     "output_type": "stream",
     "text": [
      "                   all        487        297      0.873      0.869       0.92      0.551\n"
     ]
    },
    {
     "name": "stderr",
     "output_type": "stream",
     "text": [
      "\n"
     ]
    },
    {
     "name": "stdout",
     "output_type": "stream",
     "text": [
      "\n",
      "      Epoch    GPU_mem   box_loss   cls_loss   dfl_loss  Instances       Size\n"
     ]
    },
    {
     "name": "stderr",
     "output_type": "stream",
     "text": [
      "     55/100      3.44G       1.44     0.7407     0.8068          7        544: 100%|██████████| 214/214 [00:48<00:00,  4.40it/s]\n",
      "                 Class     Images  Instances      Box(P          R      mAP50  mAP50-95): 100%|██████████| 16/16 [00:02<00:00,  5.55it/s]"
     ]
    },
    {
     "name": "stdout",
     "output_type": "stream",
     "text": [
      "                   all        487        297      0.895      0.836      0.905      0.538\n"
     ]
    },
    {
     "name": "stderr",
     "output_type": "stream",
     "text": [
      "\n"
     ]
    },
    {
     "name": "stdout",
     "output_type": "stream",
     "text": [
      "\n",
      "      Epoch    GPU_mem   box_loss   cls_loss   dfl_loss  Instances       Size\n"
     ]
    },
    {
     "name": "stderr",
     "output_type": "stream",
     "text": [
      "     56/100      3.28G      1.402     0.7303     0.8032          7        544: 100%|██████████| 214/214 [00:48<00:00,  4.40it/s]\n",
      "                 Class     Images  Instances      Box(P          R      mAP50  mAP50-95): 100%|██████████| 16/16 [00:02<00:00,  5.54it/s]"
     ]
    },
    {
     "name": "stdout",
     "output_type": "stream",
     "text": [
      "                   all        487        297      0.881      0.849      0.917      0.566\n"
     ]
    },
    {
     "name": "stderr",
     "output_type": "stream",
     "text": [
      "\n"
     ]
    },
    {
     "name": "stdout",
     "output_type": "stream",
     "text": [
      "\n",
      "      Epoch    GPU_mem   box_loss   cls_loss   dfl_loss  Instances       Size\n"
     ]
    },
    {
     "name": "stderr",
     "output_type": "stream",
     "text": [
      "     57/100      3.44G      1.444     0.7556     0.8072         10        544: 100%|██████████| 214/214 [00:48<00:00,  4.39it/s]\n",
      "                 Class     Images  Instances      Box(P          R      mAP50  mAP50-95): 100%|██████████| 16/16 [00:02<00:00,  5.54it/s]"
     ]
    },
    {
     "name": "stdout",
     "output_type": "stream",
     "text": [
      "                   all        487        297      0.927      0.788      0.904      0.562\n"
     ]
    },
    {
     "name": "stderr",
     "output_type": "stream",
     "text": [
      "\n"
     ]
    },
    {
     "name": "stdout",
     "output_type": "stream",
     "text": [
      "\n",
      "      Epoch    GPU_mem   box_loss   cls_loss   dfl_loss  Instances       Size\n"
     ]
    },
    {
     "name": "stderr",
     "output_type": "stream",
     "text": [
      "     58/100      3.28G      1.421     0.7227       0.81          4        544: 100%|██████████| 214/214 [00:48<00:00,  4.41it/s]\n",
      "                 Class     Images  Instances      Box(P          R      mAP50  mAP50-95): 100%|██████████| 16/16 [00:02<00:00,  5.55it/s]"
     ]
    },
    {
     "name": "stdout",
     "output_type": "stream",
     "text": [
      "                   all        487        297      0.908       0.83      0.922      0.577\n"
     ]
    },
    {
     "name": "stderr",
     "output_type": "stream",
     "text": [
      "\n"
     ]
    },
    {
     "name": "stdout",
     "output_type": "stream",
     "text": [
      "\n",
      "      Epoch    GPU_mem   box_loss   cls_loss   dfl_loss  Instances       Size\n"
     ]
    },
    {
     "name": "stderr",
     "output_type": "stream",
     "text": [
      "     59/100      3.43G      1.394     0.7209     0.8064          6        544: 100%|██████████| 214/214 [00:48<00:00,  4.41it/s]\n",
      "                 Class     Images  Instances      Box(P          R      mAP50  mAP50-95): 100%|██████████| 16/16 [00:02<00:00,  5.58it/s]"
     ]
    },
    {
     "name": "stdout",
     "output_type": "stream",
     "text": [
      "                   all        487        297      0.921      0.855      0.925      0.577\n"
     ]
    },
    {
     "name": "stderr",
     "output_type": "stream",
     "text": [
      "\n"
     ]
    },
    {
     "name": "stdout",
     "output_type": "stream",
     "text": [
      "\n",
      "      Epoch    GPU_mem   box_loss   cls_loss   dfl_loss  Instances       Size\n"
     ]
    },
    {
     "name": "stderr",
     "output_type": "stream",
     "text": [
      "     60/100      3.29G      1.411     0.7369     0.8031          4        544: 100%|██████████| 214/214 [00:48<00:00,  4.42it/s]\n",
      "                 Class     Images  Instances      Box(P          R      mAP50  mAP50-95): 100%|██████████| 16/16 [00:02<00:00,  5.57it/s]"
     ]
    },
    {
     "name": "stdout",
     "output_type": "stream",
     "text": [
      "                   all        487        297      0.901      0.855       0.93      0.584\n"
     ]
    },
    {
     "name": "stderr",
     "output_type": "stream",
     "text": [
      "\n"
     ]
    },
    {
     "name": "stdout",
     "output_type": "stream",
     "text": [
      "\n",
      "      Epoch    GPU_mem   box_loss   cls_loss   dfl_loss  Instances       Size\n"
     ]
    },
    {
     "name": "stderr",
     "output_type": "stream",
     "text": [
      "     61/100      3.27G      1.369     0.6934     0.8065          3        544: 100%|██████████| 214/214 [00:48<00:00,  4.41it/s]\n",
      "                 Class     Images  Instances      Box(P          R      mAP50  mAP50-95): 100%|██████████| 16/16 [00:02<00:00,  5.45it/s]"
     ]
    },
    {
     "name": "stdout",
     "output_type": "stream",
     "text": [
      "                   all        487        297      0.911      0.818      0.918      0.558\n"
     ]
    },
    {
     "name": "stderr",
     "output_type": "stream",
     "text": [
      "\n"
     ]
    },
    {
     "name": "stdout",
     "output_type": "stream",
     "text": [
      "\n",
      "      Epoch    GPU_mem   box_loss   cls_loss   dfl_loss  Instances       Size\n"
     ]
    },
    {
     "name": "stderr",
     "output_type": "stream",
     "text": [
      "     62/100      3.29G      1.404     0.7119     0.8037         14        544: 100%|██████████| 214/214 [00:48<00:00,  4.41it/s]\n",
      "                 Class     Images  Instances      Box(P          R      mAP50  mAP50-95): 100%|██████████| 16/16 [00:02<00:00,  5.51it/s]"
     ]
    },
    {
     "name": "stdout",
     "output_type": "stream",
     "text": [
      "                   all        487        297      0.905      0.871      0.936      0.579\n"
     ]
    },
    {
     "name": "stderr",
     "output_type": "stream",
     "text": [
      "\n"
     ]
    },
    {
     "name": "stdout",
     "output_type": "stream",
     "text": [
      "\n",
      "      Epoch    GPU_mem   box_loss   cls_loss   dfl_loss  Instances       Size\n"
     ]
    },
    {
     "name": "stderr",
     "output_type": "stream",
     "text": [
      "     63/100      3.29G      1.361     0.6896     0.8071          3        544: 100%|██████████| 214/214 [00:48<00:00,  4.40it/s]\n",
      "                 Class     Images  Instances      Box(P          R      mAP50  mAP50-95): 100%|██████████| 16/16 [00:02<00:00,  5.50it/s]"
     ]
    },
    {
     "name": "stdout",
     "output_type": "stream",
     "text": [
      "                   all        487        297       0.93      0.852      0.941      0.598\n"
     ]
    },
    {
     "name": "stderr",
     "output_type": "stream",
     "text": [
      "\n"
     ]
    },
    {
     "name": "stdout",
     "output_type": "stream",
     "text": [
      "\n",
      "      Epoch    GPU_mem   box_loss   cls_loss   dfl_loss  Instances       Size\n"
     ]
    },
    {
     "name": "stderr",
     "output_type": "stream",
     "text": [
      "     64/100      3.28G      1.368     0.6907     0.7982          9        544: 100%|██████████| 214/214 [00:48<00:00,  4.41it/s]\n",
      "                 Class     Images  Instances      Box(P          R      mAP50  mAP50-95): 100%|██████████| 16/16 [00:02<00:00,  5.57it/s]"
     ]
    },
    {
     "name": "stdout",
     "output_type": "stream",
     "text": [
      "                   all        487        297      0.895      0.857      0.922      0.576\n"
     ]
    },
    {
     "name": "stderr",
     "output_type": "stream",
     "text": [
      "\n"
     ]
    },
    {
     "name": "stdout",
     "output_type": "stream",
     "text": [
      "\n",
      "      Epoch    GPU_mem   box_loss   cls_loss   dfl_loss  Instances       Size\n"
     ]
    },
    {
     "name": "stderr",
     "output_type": "stream",
     "text": [
      "     65/100      3.29G      1.382     0.6843     0.8076          8        544: 100%|██████████| 214/214 [00:48<00:00,  4.41it/s]\n",
      "                 Class     Images  Instances      Box(P          R      mAP50  mAP50-95): 100%|██████████| 16/16 [00:02<00:00,  5.59it/s]"
     ]
    },
    {
     "name": "stdout",
     "output_type": "stream",
     "text": [
      "                   all        487        297       0.92      0.842      0.927       0.58\n"
     ]
    },
    {
     "name": "stderr",
     "output_type": "stream",
     "text": [
      "\n"
     ]
    },
    {
     "name": "stdout",
     "output_type": "stream",
     "text": [
      "\n",
      "      Epoch    GPU_mem   box_loss   cls_loss   dfl_loss  Instances       Size\n"
     ]
    },
    {
     "name": "stderr",
     "output_type": "stream",
     "text": [
      "     66/100      3.29G      1.386      0.699     0.8083          8        544: 100%|██████████| 214/214 [00:48<00:00,  4.42it/s]\n",
      "                 Class     Images  Instances      Box(P          R      mAP50  mAP50-95): 100%|██████████| 16/16 [00:02<00:00,  5.54it/s]"
     ]
    },
    {
     "name": "stdout",
     "output_type": "stream",
     "text": [
      "                   all        487        297      0.921      0.864      0.926      0.577\n"
     ]
    },
    {
     "name": "stderr",
     "output_type": "stream",
     "text": [
      "\n"
     ]
    },
    {
     "name": "stdout",
     "output_type": "stream",
     "text": [
      "\n",
      "      Epoch    GPU_mem   box_loss   cls_loss   dfl_loss  Instances       Size\n"
     ]
    },
    {
     "name": "stderr",
     "output_type": "stream",
     "text": [
      "     67/100      3.29G      1.383     0.6888     0.7977          9        544: 100%|██████████| 214/214 [00:48<00:00,  4.40it/s]\n",
      "                 Class     Images  Instances      Box(P          R      mAP50  mAP50-95): 100%|██████████| 16/16 [00:02<00:00,  5.48it/s]"
     ]
    },
    {
     "name": "stdout",
     "output_type": "stream",
     "text": [
      "                   all        487        297      0.934      0.859      0.936      0.596\n"
     ]
    },
    {
     "name": "stderr",
     "output_type": "stream",
     "text": [
      "\n"
     ]
    },
    {
     "name": "stdout",
     "output_type": "stream",
     "text": [
      "\n",
      "      Epoch    GPU_mem   box_loss   cls_loss   dfl_loss  Instances       Size\n"
     ]
    },
    {
     "name": "stderr",
     "output_type": "stream",
     "text": [
      "     68/100      3.28G      1.358     0.6473     0.8016          8        544: 100%|██████████| 214/214 [00:48<00:00,  4.41it/s]\n",
      "                 Class     Images  Instances      Box(P          R      mAP50  mAP50-95): 100%|██████████| 16/16 [00:02<00:00,  5.53it/s]"
     ]
    },
    {
     "name": "stdout",
     "output_type": "stream",
     "text": [
      "                   all        487        297      0.895      0.845      0.926      0.577\n"
     ]
    },
    {
     "name": "stderr",
     "output_type": "stream",
     "text": [
      "\n"
     ]
    },
    {
     "name": "stdout",
     "output_type": "stream",
     "text": [
      "\n",
      "      Epoch    GPU_mem   box_loss   cls_loss   dfl_loss  Instances       Size\n"
     ]
    },
    {
     "name": "stderr",
     "output_type": "stream",
     "text": [
      "     69/100      3.29G      1.347     0.6652     0.8046          5        544: 100%|██████████| 214/214 [00:48<00:00,  4.41it/s]\n",
      "                 Class     Images  Instances      Box(P          R      mAP50  mAP50-95): 100%|██████████| 16/16 [00:02<00:00,  5.56it/s]"
     ]
    },
    {
     "name": "stdout",
     "output_type": "stream",
     "text": [
      "                   all        487        297      0.923      0.844      0.929      0.599\n"
     ]
    },
    {
     "name": "stderr",
     "output_type": "stream",
     "text": [
      "\n"
     ]
    },
    {
     "name": "stdout",
     "output_type": "stream",
     "text": [
      "\n",
      "      Epoch    GPU_mem   box_loss   cls_loss   dfl_loss  Instances       Size\n"
     ]
    },
    {
     "name": "stderr",
     "output_type": "stream",
     "text": [
      "     70/100      3.28G      1.329      0.624     0.8024          6        544: 100%|██████████| 214/214 [00:48<00:00,  4.41it/s]\n",
      "                 Class     Images  Instances      Box(P          R      mAP50  mAP50-95): 100%|██████████| 16/16 [00:02<00:00,  5.55it/s]"
     ]
    },
    {
     "name": "stdout",
     "output_type": "stream",
     "text": [
      "                   all        487        297      0.901      0.828      0.926       0.59\n"
     ]
    },
    {
     "name": "stderr",
     "output_type": "stream",
     "text": [
      "\n"
     ]
    },
    {
     "name": "stdout",
     "output_type": "stream",
     "text": [
      "\n",
      "      Epoch    GPU_mem   box_loss   cls_loss   dfl_loss  Instances       Size\n"
     ]
    },
    {
     "name": "stderr",
     "output_type": "stream",
     "text": [
      "     71/100      3.43G      1.313     0.6345     0.8036          5        544: 100%|██████████| 214/214 [00:48<00:00,  4.40it/s]\n",
      "                 Class     Images  Instances      Box(P          R      mAP50  mAP50-95): 100%|██████████| 16/16 [00:02<00:00,  5.53it/s]"
     ]
    },
    {
     "name": "stdout",
     "output_type": "stream",
     "text": [
      "                   all        487        297      0.899      0.841      0.927      0.594\n"
     ]
    },
    {
     "name": "stderr",
     "output_type": "stream",
     "text": [
      "\n"
     ]
    },
    {
     "name": "stdout",
     "output_type": "stream",
     "text": [
      "\n",
      "      Epoch    GPU_mem   box_loss   cls_loss   dfl_loss  Instances       Size\n"
     ]
    },
    {
     "name": "stderr",
     "output_type": "stream",
     "text": [
      "     72/100      3.29G      1.324      0.646     0.8049         10        544: 100%|██████████| 214/214 [00:48<00:00,  4.41it/s]\n",
      "                 Class     Images  Instances      Box(P          R      mAP50  mAP50-95): 100%|██████████| 16/16 [00:02<00:00,  5.53it/s]"
     ]
    },
    {
     "name": "stdout",
     "output_type": "stream",
     "text": [
      "                   all        487        297      0.867      0.852      0.925      0.582\n"
     ]
    },
    {
     "name": "stderr",
     "output_type": "stream",
     "text": [
      "\n"
     ]
    },
    {
     "name": "stdout",
     "output_type": "stream",
     "text": [
      "\n",
      "      Epoch    GPU_mem   box_loss   cls_loss   dfl_loss  Instances       Size\n"
     ]
    },
    {
     "name": "stderr",
     "output_type": "stream",
     "text": [
      "     73/100      3.29G       1.34     0.6354     0.8058          4        544: 100%|██████████| 214/214 [00:48<00:00,  4.42it/s]\n",
      "                 Class     Images  Instances      Box(P          R      mAP50  mAP50-95): 100%|██████████| 16/16 [00:02<00:00,  5.59it/s]"
     ]
    },
    {
     "name": "stdout",
     "output_type": "stream",
     "text": [
      "                   all        487        297      0.908      0.862      0.934      0.604\n"
     ]
    },
    {
     "name": "stderr",
     "output_type": "stream",
     "text": [
      "\n"
     ]
    },
    {
     "name": "stdout",
     "output_type": "stream",
     "text": [
      "\n",
      "      Epoch    GPU_mem   box_loss   cls_loss   dfl_loss  Instances       Size\n"
     ]
    },
    {
     "name": "stderr",
     "output_type": "stream",
     "text": [
      "     74/100      3.29G      1.311     0.6131     0.8042         14        544: 100%|██████████| 214/214 [00:48<00:00,  4.42it/s]\n",
      "                 Class     Images  Instances      Box(P          R      mAP50  mAP50-95): 100%|██████████| 16/16 [00:02<00:00,  5.60it/s]"
     ]
    },
    {
     "name": "stdout",
     "output_type": "stream",
     "text": [
      "                   all        487        297        0.9      0.848      0.932      0.599\n"
     ]
    },
    {
     "name": "stderr",
     "output_type": "stream",
     "text": [
      "\n"
     ]
    },
    {
     "name": "stdout",
     "output_type": "stream",
     "text": [
      "\n",
      "      Epoch    GPU_mem   box_loss   cls_loss   dfl_loss  Instances       Size\n"
     ]
    },
    {
     "name": "stderr",
     "output_type": "stream",
     "text": [
      "     75/100      3.43G      1.298      0.619     0.8115          8        544: 100%|██████████| 214/214 [00:48<00:00,  4.41it/s]\n",
      "                 Class     Images  Instances      Box(P          R      mAP50  mAP50-95): 100%|██████████| 16/16 [00:02<00:00,  5.53it/s]"
     ]
    },
    {
     "name": "stdout",
     "output_type": "stream",
     "text": [
      "                   all        487        297      0.916      0.859      0.939      0.607\n"
     ]
    },
    {
     "name": "stderr",
     "output_type": "stream",
     "text": [
      "\n"
     ]
    },
    {
     "name": "stdout",
     "output_type": "stream",
     "text": [
      "\n",
      "      Epoch    GPU_mem   box_loss   cls_loss   dfl_loss  Instances       Size\n"
     ]
    },
    {
     "name": "stderr",
     "output_type": "stream",
     "text": [
      "     76/100      3.29G      1.273     0.6078     0.8008         10        544: 100%|██████████| 214/214 [00:48<00:00,  4.41it/s]\n",
      "                 Class     Images  Instances      Box(P          R      mAP50  mAP50-95): 100%|██████████| 16/16 [00:02<00:00,  5.55it/s]"
     ]
    },
    {
     "name": "stdout",
     "output_type": "stream",
     "text": [
      "                   all        487        297      0.925      0.871      0.946      0.616\n"
     ]
    },
    {
     "name": "stderr",
     "output_type": "stream",
     "text": [
      "\n"
     ]
    },
    {
     "name": "stdout",
     "output_type": "stream",
     "text": [
      "\n",
      "      Epoch    GPU_mem   box_loss   cls_loss   dfl_loss  Instances       Size\n"
     ]
    },
    {
     "name": "stderr",
     "output_type": "stream",
     "text": [
      "     77/100      3.44G       1.29     0.6285     0.7994         12        544: 100%|██████████| 214/214 [00:48<00:00,  4.41it/s]\n",
      "                 Class     Images  Instances      Box(P          R      mAP50  mAP50-95): 100%|██████████| 16/16 [00:02<00:00,  5.57it/s]"
     ]
    },
    {
     "name": "stdout",
     "output_type": "stream",
     "text": [
      "                   all        487        297      0.916      0.825      0.927        0.6\n"
     ]
    },
    {
     "name": "stderr",
     "output_type": "stream",
     "text": [
      "\n"
     ]
    },
    {
     "name": "stdout",
     "output_type": "stream",
     "text": [
      "\n",
      "      Epoch    GPU_mem   box_loss   cls_loss   dfl_loss  Instances       Size\n"
     ]
    },
    {
     "name": "stderr",
     "output_type": "stream",
     "text": [
      "     78/100      3.43G      1.269     0.6057     0.8009         11        544: 100%|██████████| 214/214 [00:48<00:00,  4.41it/s]\n",
      "                 Class     Images  Instances      Box(P          R      mAP50  mAP50-95): 100%|██████████| 16/16 [00:02<00:00,  5.62it/s]"
     ]
    },
    {
     "name": "stdout",
     "output_type": "stream",
     "text": [
      "                   all        487        297      0.894      0.849      0.929      0.604\n"
     ]
    },
    {
     "name": "stderr",
     "output_type": "stream",
     "text": [
      "\n"
     ]
    },
    {
     "name": "stdout",
     "output_type": "stream",
     "text": [
      "\n",
      "      Epoch    GPU_mem   box_loss   cls_loss   dfl_loss  Instances       Size\n"
     ]
    },
    {
     "name": "stderr",
     "output_type": "stream",
     "text": [
      "     79/100      3.28G       1.26     0.5895     0.7933         10        544: 100%|██████████| 214/214 [00:48<00:00,  4.41it/s]\n",
      "                 Class     Images  Instances      Box(P          R      mAP50  mAP50-95): 100%|██████████| 16/16 [00:02<00:00,  5.58it/s]"
     ]
    },
    {
     "name": "stdout",
     "output_type": "stream",
     "text": [
      "                   all        487        297      0.866      0.868      0.928      0.608\n"
     ]
    },
    {
     "name": "stderr",
     "output_type": "stream",
     "text": [
      "\n"
     ]
    },
    {
     "name": "stdout",
     "output_type": "stream",
     "text": [
      "\n",
      "      Epoch    GPU_mem   box_loss   cls_loss   dfl_loss  Instances       Size\n"
     ]
    },
    {
     "name": "stderr",
     "output_type": "stream",
     "text": [
      "     80/100      3.28G      1.268      0.616     0.7991          5        544: 100%|██████████| 214/214 [00:48<00:00,  4.42it/s]\n",
      "                 Class     Images  Instances      Box(P          R      mAP50  mAP50-95): 100%|██████████| 16/16 [00:02<00:00,  5.62it/s]"
     ]
    },
    {
     "name": "stdout",
     "output_type": "stream",
     "text": [
      "                   all        487        297      0.884       0.87      0.929      0.611\n"
     ]
    },
    {
     "name": "stderr",
     "output_type": "stream",
     "text": [
      "\n"
     ]
    },
    {
     "name": "stdout",
     "output_type": "stream",
     "text": [
      "\n",
      "      Epoch    GPU_mem   box_loss   cls_loss   dfl_loss  Instances       Size\n"
     ]
    },
    {
     "name": "stderr",
     "output_type": "stream",
     "text": [
      "     81/100      3.42G      1.243     0.6002     0.7964          5        544: 100%|██████████| 214/214 [00:48<00:00,  4.42it/s]\n",
      "                 Class     Images  Instances      Box(P          R      mAP50  mAP50-95): 100%|██████████| 16/16 [00:02<00:00,  5.57it/s]"
     ]
    },
    {
     "name": "stdout",
     "output_type": "stream",
     "text": [
      "                   all        487        297      0.869      0.868      0.929      0.602\n"
     ]
    },
    {
     "name": "stderr",
     "output_type": "stream",
     "text": [
      "\n"
     ]
    },
    {
     "name": "stdout",
     "output_type": "stream",
     "text": [
      "\n",
      "      Epoch    GPU_mem   box_loss   cls_loss   dfl_loss  Instances       Size\n"
     ]
    },
    {
     "name": "stderr",
     "output_type": "stream",
     "text": [
      "     82/100      3.29G      1.252     0.6229      0.806         11        544: 100%|██████████| 214/214 [00:48<00:00,  4.41it/s]\n",
      "                 Class     Images  Instances      Box(P          R      mAP50  mAP50-95): 100%|██████████| 16/16 [00:02<00:00,  5.54it/s]"
     ]
    },
    {
     "name": "stdout",
     "output_type": "stream",
     "text": [
      "                   all        487        297      0.888      0.858      0.935      0.604\n"
     ]
    },
    {
     "name": "stderr",
     "output_type": "stream",
     "text": [
      "\n"
     ]
    },
    {
     "name": "stdout",
     "output_type": "stream",
     "text": [
      "\n",
      "      Epoch    GPU_mem   box_loss   cls_loss   dfl_loss  Instances       Size\n"
     ]
    },
    {
     "name": "stderr",
     "output_type": "stream",
     "text": [
      "     83/100      3.43G      1.272      0.604     0.8079          6        544: 100%|██████████| 214/214 [00:48<00:00,  4.41it/s]\n",
      "                 Class     Images  Instances      Box(P          R      mAP50  mAP50-95): 100%|██████████| 16/16 [00:02<00:00,  5.63it/s]"
     ]
    },
    {
     "name": "stdout",
     "output_type": "stream",
     "text": [
      "                   all        487        297      0.904      0.852      0.932      0.611\n"
     ]
    },
    {
     "name": "stderr",
     "output_type": "stream",
     "text": [
      "\n"
     ]
    },
    {
     "name": "stdout",
     "output_type": "stream",
     "text": [
      "\n",
      "      Epoch    GPU_mem   box_loss   cls_loss   dfl_loss  Instances       Size\n"
     ]
    },
    {
     "name": "stderr",
     "output_type": "stream",
     "text": [
      "     84/100      3.29G      1.236     0.5754     0.7995          7        544: 100%|██████████| 214/214 [00:48<00:00,  4.41it/s]\n",
      "                 Class     Images  Instances      Box(P          R      mAP50  mAP50-95): 100%|██████████| 16/16 [00:02<00:00,  5.60it/s]"
     ]
    },
    {
     "name": "stdout",
     "output_type": "stream",
     "text": [
      "                   all        487        297      0.901      0.886       0.94      0.617\n"
     ]
    },
    {
     "name": "stderr",
     "output_type": "stream",
     "text": [
      "\n"
     ]
    },
    {
     "name": "stdout",
     "output_type": "stream",
     "text": [
      "\n",
      "      Epoch    GPU_mem   box_loss   cls_loss   dfl_loss  Instances       Size\n"
     ]
    },
    {
     "name": "stderr",
     "output_type": "stream",
     "text": [
      "     85/100       3.3G      1.233     0.5792     0.7971          8        544: 100%|██████████| 214/214 [00:48<00:00,  4.40it/s]\n",
      "                 Class     Images  Instances      Box(P          R      mAP50  mAP50-95): 100%|██████████| 16/16 [00:02<00:00,  5.60it/s]"
     ]
    },
    {
     "name": "stdout",
     "output_type": "stream",
     "text": [
      "                   all        487        297      0.904      0.859      0.943      0.608\n"
     ]
    },
    {
     "name": "stderr",
     "output_type": "stream",
     "text": [
      "\n"
     ]
    },
    {
     "name": "stdout",
     "output_type": "stream",
     "text": [
      "\n",
      "      Epoch    GPU_mem   box_loss   cls_loss   dfl_loss  Instances       Size\n"
     ]
    },
    {
     "name": "stderr",
     "output_type": "stream",
     "text": [
      "     86/100      3.29G      1.243     0.5633     0.8006          8        544: 100%|██████████| 214/214 [00:48<00:00,  4.41it/s]\n",
      "                 Class     Images  Instances      Box(P          R      mAP50  mAP50-95): 100%|██████████| 16/16 [00:02<00:00,  5.61it/s]"
     ]
    },
    {
     "name": "stdout",
     "output_type": "stream",
     "text": [
      "                   all        487        297      0.897      0.875       0.94      0.614\n"
     ]
    },
    {
     "name": "stderr",
     "output_type": "stream",
     "text": [
      "\n"
     ]
    },
    {
     "name": "stdout",
     "output_type": "stream",
     "text": [
      "\n",
      "      Epoch    GPU_mem   box_loss   cls_loss   dfl_loss  Instances       Size\n"
     ]
    },
    {
     "name": "stderr",
     "output_type": "stream",
     "text": [
      "     87/100       3.3G      1.213     0.5796     0.7994         12        544: 100%|██████████| 214/214 [00:48<00:00,  4.41it/s]\n",
      "                 Class     Images  Instances      Box(P          R      mAP50  mAP50-95): 100%|██████████| 16/16 [00:02<00:00,  5.62it/s]"
     ]
    },
    {
     "name": "stdout",
     "output_type": "stream",
     "text": [
      "                   all        487        297      0.871      0.855      0.935      0.608\n"
     ]
    },
    {
     "name": "stderr",
     "output_type": "stream",
     "text": [
      "\n"
     ]
    },
    {
     "name": "stdout",
     "output_type": "stream",
     "text": [
      "\n",
      "      Epoch    GPU_mem   box_loss   cls_loss   dfl_loss  Instances       Size\n"
     ]
    },
    {
     "name": "stderr",
     "output_type": "stream",
     "text": [
      "     88/100      3.28G      1.226     0.5636     0.8029          4        544: 100%|██████████| 214/214 [00:48<00:00,  4.41it/s]\n",
      "                 Class     Images  Instances      Box(P          R      mAP50  mAP50-95): 100%|██████████| 16/16 [00:02<00:00,  5.60it/s]"
     ]
    },
    {
     "name": "stdout",
     "output_type": "stream",
     "text": [
      "                   all        487        297      0.909      0.843      0.936      0.614\n"
     ]
    },
    {
     "name": "stderr",
     "output_type": "stream",
     "text": [
      "\n"
     ]
    },
    {
     "name": "stdout",
     "output_type": "stream",
     "text": [
      "\n",
      "      Epoch    GPU_mem   box_loss   cls_loss   dfl_loss  Instances       Size\n"
     ]
    },
    {
     "name": "stderr",
     "output_type": "stream",
     "text": [
      "     89/100      3.29G      1.204     0.5411     0.8007          7        544: 100%|██████████| 214/214 [00:48<00:00,  4.41it/s]\n",
      "                 Class     Images  Instances      Box(P          R      mAP50  mAP50-95): 100%|██████████| 16/16 [00:02<00:00,  5.63it/s]"
     ]
    },
    {
     "name": "stdout",
     "output_type": "stream",
     "text": [
      "                   all        487        297      0.895      0.859      0.942      0.622\n"
     ]
    },
    {
     "name": "stderr",
     "output_type": "stream",
     "text": [
      "\n"
     ]
    },
    {
     "name": "stdout",
     "output_type": "stream",
     "text": [
      "\n",
      "      Epoch    GPU_mem   box_loss   cls_loss   dfl_loss  Instances       Size\n"
     ]
    },
    {
     "name": "stderr",
     "output_type": "stream",
     "text": [
      "     90/100      3.29G      1.223      0.559     0.8028          9        544: 100%|██████████| 214/214 [00:48<00:00,  4.41it/s]\n",
      "                 Class     Images  Instances      Box(P          R      mAP50  mAP50-95): 100%|██████████| 16/16 [00:02<00:00,  5.59it/s]"
     ]
    },
    {
     "name": "stdout",
     "output_type": "stream",
     "text": [
      "                   all        487        297      0.875      0.889      0.941      0.608\n"
     ]
    },
    {
     "name": "stderr",
     "output_type": "stream",
     "text": [
      "\n"
     ]
    },
    {
     "name": "stdout",
     "output_type": "stream",
     "text": [
      "Closing dataloader mosaic\n",
      "\n",
      "      Epoch    GPU_mem   box_loss   cls_loss   dfl_loss  Instances       Size\n"
     ]
    },
    {
     "name": "stderr",
     "output_type": "stream",
     "text": [
      "     91/100      3.29G      1.129     0.4976     0.7918          6        544: 100%|██████████| 214/214 [00:48<00:00,  4.38it/s]\n",
      "                 Class     Images  Instances      Box(P          R      mAP50  mAP50-95): 100%|██████████| 16/16 [00:02<00:00,  5.55it/s]"
     ]
    },
    {
     "name": "stdout",
     "output_type": "stream",
     "text": [
      "                   all        487        297      0.876      0.875      0.944      0.611\n"
     ]
    },
    {
     "name": "stderr",
     "output_type": "stream",
     "text": [
      "\n"
     ]
    },
    {
     "name": "stdout",
     "output_type": "stream",
     "text": [
      "\n",
      "      Epoch    GPU_mem   box_loss   cls_loss   dfl_loss  Instances       Size\n"
     ]
    },
    {
     "name": "stderr",
     "output_type": "stream",
     "text": [
      "     92/100      3.28G      1.132     0.4916     0.7955          5        544: 100%|██████████| 214/214 [00:48<00:00,  4.41it/s]\n",
      "                 Class     Images  Instances      Box(P          R      mAP50  mAP50-95): 100%|██████████| 16/16 [00:02<00:00,  5.55it/s]"
     ]
    },
    {
     "name": "stdout",
     "output_type": "stream",
     "text": [
      "                   all        487        297      0.909       0.87      0.943      0.622\n"
     ]
    },
    {
     "name": "stderr",
     "output_type": "stream",
     "text": [
      "\n"
     ]
    },
    {
     "name": "stdout",
     "output_type": "stream",
     "text": [
      "\n",
      "      Epoch    GPU_mem   box_loss   cls_loss   dfl_loss  Instances       Size\n"
     ]
    },
    {
     "name": "stderr",
     "output_type": "stream",
     "text": [
      "     93/100      3.29G      1.106     0.4933     0.7911          3        544: 100%|██████████| 214/214 [00:48<00:00,  4.41it/s]\n",
      "                 Class     Images  Instances      Box(P          R      mAP50  mAP50-95): 100%|██████████| 16/16 [00:03<00:00,  5.23it/s]"
     ]
    },
    {
     "name": "stdout",
     "output_type": "stream",
     "text": [
      "                   all        487        297       0.92      0.845      0.938      0.616\n"
     ]
    },
    {
     "name": "stderr",
     "output_type": "stream",
     "text": [
      "\n"
     ]
    },
    {
     "name": "stdout",
     "output_type": "stream",
     "text": [
      "\n",
      "      Epoch    GPU_mem   box_loss   cls_loss   dfl_loss  Instances       Size\n"
     ]
    },
    {
     "name": "stderr",
     "output_type": "stream",
     "text": [
      "     94/100      3.28G      1.085     0.4758     0.7993          5        544: 100%|██████████| 214/214 [00:48<00:00,  4.41it/s]\n",
      "                 Class     Images  Instances      Box(P          R      mAP50  mAP50-95): 100%|██████████| 16/16 [00:02<00:00,  5.47it/s]"
     ]
    },
    {
     "name": "stdout",
     "output_type": "stream",
     "text": [
      "                   all        487        297      0.911      0.863      0.943      0.628\n"
     ]
    },
    {
     "name": "stderr",
     "output_type": "stream",
     "text": [
      "\n"
     ]
    },
    {
     "name": "stdout",
     "output_type": "stream",
     "text": [
      "\n",
      "      Epoch    GPU_mem   box_loss   cls_loss   dfl_loss  Instances       Size\n"
     ]
    },
    {
     "name": "stderr",
     "output_type": "stream",
     "text": [
      "     95/100      3.29G      1.104     0.4845     0.7972          5        544: 100%|██████████| 214/214 [00:48<00:00,  4.42it/s]\n",
      "                 Class     Images  Instances      Box(P          R      mAP50  mAP50-95): 100%|██████████| 16/16 [00:02<00:00,  5.67it/s]"
     ]
    },
    {
     "name": "stdout",
     "output_type": "stream",
     "text": [
      "                   all        487        297      0.918      0.845      0.942      0.627\n"
     ]
    },
    {
     "name": "stderr",
     "output_type": "stream",
     "text": [
      "\n"
     ]
    },
    {
     "name": "stdout",
     "output_type": "stream",
     "text": [
      "\n",
      "      Epoch    GPU_mem   box_loss   cls_loss   dfl_loss  Instances       Size\n"
     ]
    },
    {
     "name": "stderr",
     "output_type": "stream",
     "text": [
      "     96/100      3.28G      1.094     0.4786     0.7951          7        544: 100%|██████████| 214/214 [00:48<00:00,  4.43it/s]\n",
      "                 Class     Images  Instances      Box(P          R      mAP50  mAP50-95): 100%|██████████| 16/16 [00:02<00:00,  5.61it/s]"
     ]
    },
    {
     "name": "stdout",
     "output_type": "stream",
     "text": [
      "                   all        487        297      0.914       0.86      0.943      0.623\n"
     ]
    },
    {
     "name": "stderr",
     "output_type": "stream",
     "text": [
      "\n"
     ]
    },
    {
     "name": "stdout",
     "output_type": "stream",
     "text": [
      "\n",
      "      Epoch    GPU_mem   box_loss   cls_loss   dfl_loss  Instances       Size\n"
     ]
    },
    {
     "name": "stderr",
     "output_type": "stream",
     "text": [
      "     97/100      3.27G      1.088     0.4624     0.7929          4        544: 100%|██████████| 214/214 [00:48<00:00,  4.43it/s]\n",
      "                 Class     Images  Instances      Box(P          R      mAP50  mAP50-95): 100%|██████████| 16/16 [00:02<00:00,  5.62it/s]"
     ]
    },
    {
     "name": "stdout",
     "output_type": "stream",
     "text": [
      "                   all        487        297      0.908       0.86      0.947      0.623\n"
     ]
    },
    {
     "name": "stderr",
     "output_type": "stream",
     "text": [
      "\n"
     ]
    },
    {
     "name": "stdout",
     "output_type": "stream",
     "text": [
      "\n",
      "      Epoch    GPU_mem   box_loss   cls_loss   dfl_loss  Instances       Size\n"
     ]
    },
    {
     "name": "stderr",
     "output_type": "stream",
     "text": [
      "     98/100      3.27G      1.079     0.4669     0.7953          3        544: 100%|██████████| 214/214 [00:48<00:00,  4.42it/s]\n",
      "                 Class     Images  Instances      Box(P          R      mAP50  mAP50-95): 100%|██████████| 16/16 [00:02<00:00,  5.61it/s]"
     ]
    },
    {
     "name": "stdout",
     "output_type": "stream",
     "text": [
      "                   all        487        297      0.915      0.865      0.948      0.622\n"
     ]
    },
    {
     "name": "stderr",
     "output_type": "stream",
     "text": [
      "\n"
     ]
    },
    {
     "name": "stdout",
     "output_type": "stream",
     "text": [
      "\n",
      "      Epoch    GPU_mem   box_loss   cls_loss   dfl_loss  Instances       Size\n"
     ]
    },
    {
     "name": "stderr",
     "output_type": "stream",
     "text": [
      "     99/100      3.44G      1.059     0.4692     0.7919          4        544: 100%|██████████| 214/214 [00:48<00:00,  4.42it/s]\n",
      "                 Class     Images  Instances      Box(P          R      mAP50  mAP50-95): 100%|██████████| 16/16 [00:02<00:00,  5.55it/s]"
     ]
    },
    {
     "name": "stdout",
     "output_type": "stream",
     "text": [
      "                   all        487        297      0.917      0.872      0.951      0.626\n"
     ]
    },
    {
     "name": "stderr",
     "output_type": "stream",
     "text": [
      "\n"
     ]
    },
    {
     "name": "stdout",
     "output_type": "stream",
     "text": [
      "\n",
      "      Epoch    GPU_mem   box_loss   cls_loss   dfl_loss  Instances       Size\n"
     ]
    },
    {
     "name": "stderr",
     "output_type": "stream",
     "text": [
      "    100/100      3.28G      1.081     0.4669     0.7924          8        544: 100%|██████████| 214/214 [00:48<00:00,  4.42it/s]\n",
      "                 Class     Images  Instances      Box(P          R      mAP50  mAP50-95): 100%|██████████| 16/16 [00:02<00:00,  5.50it/s]"
     ]
    },
    {
     "name": "stdout",
     "output_type": "stream",
     "text": [
      "                   all        487        297      0.914      0.869      0.951      0.627\n"
     ]
    },
    {
     "name": "stderr",
     "output_type": "stream",
     "text": [
      "\n"
     ]
    },
    {
     "name": "stdout",
     "output_type": "stream",
     "text": [
      "\n",
      "100 epochs completed in 1.457 hours.\n",
      "Optimizer stripped from runs/detect/train13/weights/last.pt, 18.5MB\n",
      "Optimizer stripped from runs/detect/train13/weights/best.pt, 18.5MB\n",
      "\n",
      "Validating runs/detect/train13/weights/best.pt...\n",
      "Ultralytics 8.3.85 🚀 Python-3.11.9 torch-2.2.1+cu121 CUDA:0 (NVIDIA GeForce GTX 1080 Ti, 11172MiB)\n",
      "YOLOv5s summary (fused): 84 layers, 9,111,923 parameters, 0 gradients, 23.8 GFLOPs\n"
     ]
    },
    {
     "name": "stderr",
     "output_type": "stream",
     "text": [
      "                 Class     Images  Instances      Box(P          R      mAP50  mAP50-95): 100%|██████████| 16/16 [00:03<00:00,  4.85it/s]\n"
     ]
    },
    {
     "name": "stdout",
     "output_type": "stream",
     "text": [
      "                   all        487        297      0.914      0.869      0.951      0.628\n",
      "Speed: 0.2ms preprocess, 3.9ms inference, 0.0ms loss, 0.6ms postprocess per image\n",
      "Results saved to \u001b[1mruns/detect/train13\u001b[0m\n"
     ]
    },
    {
     "data": {
      "text/plain": [
       "ultralytics.utils.metrics.DetMetrics object with attributes:\n",
       "\n",
       "ap_class_index: array([0])\n",
       "box: ultralytics.utils.metrics.Metric object\n",
       "confusion_matrix: <ultralytics.utils.metrics.ConfusionMatrix object at 0x7f57be6822d0>\n",
       "curves: ['Precision-Recall(B)', 'F1-Confidence(B)', 'Precision-Confidence(B)', 'Recall-Confidence(B)']\n",
       "curves_results: [[array([          0,    0.001001,    0.002002,    0.003003,    0.004004,    0.005005,    0.006006,    0.007007,    0.008008,    0.009009,     0.01001,    0.011011,    0.012012,    0.013013,    0.014014,    0.015015,    0.016016,    0.017017,    0.018018,    0.019019,     0.02002,    0.021021,    0.022022,    0.023023,\n",
       "          0.024024,    0.025025,    0.026026,    0.027027,    0.028028,    0.029029,     0.03003,    0.031031,    0.032032,    0.033033,    0.034034,    0.035035,    0.036036,    0.037037,    0.038038,    0.039039,     0.04004,    0.041041,    0.042042,    0.043043,    0.044044,    0.045045,    0.046046,    0.047047,\n",
       "          0.048048,    0.049049,     0.05005,    0.051051,    0.052052,    0.053053,    0.054054,    0.055055,    0.056056,    0.057057,    0.058058,    0.059059,     0.06006,    0.061061,    0.062062,    0.063063,    0.064064,    0.065065,    0.066066,    0.067067,    0.068068,    0.069069,     0.07007,    0.071071,\n",
       "          0.072072,    0.073073,    0.074074,    0.075075,    0.076076,    0.077077,    0.078078,    0.079079,     0.08008,    0.081081,    0.082082,    0.083083,    0.084084,    0.085085,    0.086086,    0.087087,    0.088088,    0.089089,     0.09009,    0.091091,    0.092092,    0.093093,    0.094094,    0.095095,\n",
       "          0.096096,    0.097097,    0.098098,    0.099099,      0.1001,      0.1011,      0.1021,      0.1031,      0.1041,     0.10511,     0.10611,     0.10711,     0.10811,     0.10911,     0.11011,     0.11111,     0.11211,     0.11311,     0.11411,     0.11512,     0.11612,     0.11712,     0.11812,     0.11912,\n",
       "           0.12012,     0.12112,     0.12212,     0.12312,     0.12412,     0.12513,     0.12613,     0.12713,     0.12813,     0.12913,     0.13013,     0.13113,     0.13213,     0.13313,     0.13413,     0.13514,     0.13614,     0.13714,     0.13814,     0.13914,     0.14014,     0.14114,     0.14214,     0.14314,\n",
       "           0.14414,     0.14515,     0.14615,     0.14715,     0.14815,     0.14915,     0.15015,     0.15115,     0.15215,     0.15315,     0.15415,     0.15516,     0.15616,     0.15716,     0.15816,     0.15916,     0.16016,     0.16116,     0.16216,     0.16316,     0.16416,     0.16517,     0.16617,     0.16717,\n",
       "           0.16817,     0.16917,     0.17017,     0.17117,     0.17217,     0.17317,     0.17417,     0.17518,     0.17618,     0.17718,     0.17818,     0.17918,     0.18018,     0.18118,     0.18218,     0.18318,     0.18418,     0.18519,     0.18619,     0.18719,     0.18819,     0.18919,     0.19019,     0.19119,\n",
       "           0.19219,     0.19319,     0.19419,      0.1952,      0.1962,      0.1972,      0.1982,      0.1992,      0.2002,      0.2012,      0.2022,      0.2032,      0.2042,     0.20521,     0.20621,     0.20721,     0.20821,     0.20921,     0.21021,     0.21121,     0.21221,     0.21321,     0.21421,     0.21522,\n",
       "           0.21622,     0.21722,     0.21822,     0.21922,     0.22022,     0.22122,     0.22222,     0.22322,     0.22422,     0.22523,     0.22623,     0.22723,     0.22823,     0.22923,     0.23023,     0.23123,     0.23223,     0.23323,     0.23423,     0.23524,     0.23624,     0.23724,     0.23824,     0.23924,\n",
       "           0.24024,     0.24124,     0.24224,     0.24324,     0.24424,     0.24525,     0.24625,     0.24725,     0.24825,     0.24925,     0.25025,     0.25125,     0.25225,     0.25325,     0.25425,     0.25526,     0.25626,     0.25726,     0.25826,     0.25926,     0.26026,     0.26126,     0.26226,     0.26326,\n",
       "           0.26426,     0.26527,     0.26627,     0.26727,     0.26827,     0.26927,     0.27027,     0.27127,     0.27227,     0.27327,     0.27427,     0.27528,     0.27628,     0.27728,     0.27828,     0.27928,     0.28028,     0.28128,     0.28228,     0.28328,     0.28428,     0.28529,     0.28629,     0.28729,\n",
       "           0.28829,     0.28929,     0.29029,     0.29129,     0.29229,     0.29329,     0.29429,      0.2953,      0.2963,      0.2973,      0.2983,      0.2993,      0.3003,      0.3013,      0.3023,      0.3033,      0.3043,     0.30531,     0.30631,     0.30731,     0.30831,     0.30931,     0.31031,     0.31131,\n",
       "           0.31231,     0.31331,     0.31431,     0.31532,     0.31632,     0.31732,     0.31832,     0.31932,     0.32032,     0.32132,     0.32232,     0.32332,     0.32432,     0.32533,     0.32633,     0.32733,     0.32833,     0.32933,     0.33033,     0.33133,     0.33233,     0.33333,     0.33433,     0.33534,\n",
       "           0.33634,     0.33734,     0.33834,     0.33934,     0.34034,     0.34134,     0.34234,     0.34334,     0.34434,     0.34535,     0.34635,     0.34735,     0.34835,     0.34935,     0.35035,     0.35135,     0.35235,     0.35335,     0.35435,     0.35536,     0.35636,     0.35736,     0.35836,     0.35936,\n",
       "           0.36036,     0.36136,     0.36236,     0.36336,     0.36436,     0.36537,     0.36637,     0.36737,     0.36837,     0.36937,     0.37037,     0.37137,     0.37237,     0.37337,     0.37437,     0.37538,     0.37638,     0.37738,     0.37838,     0.37938,     0.38038,     0.38138,     0.38238,     0.38338,\n",
       "           0.38438,     0.38539,     0.38639,     0.38739,     0.38839,     0.38939,     0.39039,     0.39139,     0.39239,     0.39339,     0.39439,      0.3954,      0.3964,      0.3974,      0.3984,      0.3994,      0.4004,      0.4014,      0.4024,      0.4034,      0.4044,     0.40541,     0.40641,     0.40741,\n",
       "           0.40841,     0.40941,     0.41041,     0.41141,     0.41241,     0.41341,     0.41441,     0.41542,     0.41642,     0.41742,     0.41842,     0.41942,     0.42042,     0.42142,     0.42242,     0.42342,     0.42442,     0.42543,     0.42643,     0.42743,     0.42843,     0.42943,     0.43043,     0.43143,\n",
       "           0.43243,     0.43343,     0.43443,     0.43544,     0.43644,     0.43744,     0.43844,     0.43944,     0.44044,     0.44144,     0.44244,     0.44344,     0.44444,     0.44545,     0.44645,     0.44745,     0.44845,     0.44945,     0.45045,     0.45145,     0.45245,     0.45345,     0.45445,     0.45546,\n",
       "           0.45646,     0.45746,     0.45846,     0.45946,     0.46046,     0.46146,     0.46246,     0.46346,     0.46446,     0.46547,     0.46647,     0.46747,     0.46847,     0.46947,     0.47047,     0.47147,     0.47247,     0.47347,     0.47447,     0.47548,     0.47648,     0.47748,     0.47848,     0.47948,\n",
       "           0.48048,     0.48148,     0.48248,     0.48348,     0.48448,     0.48549,     0.48649,     0.48749,     0.48849,     0.48949,     0.49049,     0.49149,     0.49249,     0.49349,     0.49449,      0.4955,      0.4965,      0.4975,      0.4985,      0.4995,      0.5005,      0.5015,      0.5025,      0.5035,\n",
       "            0.5045,     0.50551,     0.50651,     0.50751,     0.50851,     0.50951,     0.51051,     0.51151,     0.51251,     0.51351,     0.51451,     0.51552,     0.51652,     0.51752,     0.51852,     0.51952,     0.52052,     0.52152,     0.52252,     0.52352,     0.52452,     0.52553,     0.52653,     0.52753,\n",
       "           0.52853,     0.52953,     0.53053,     0.53153,     0.53253,     0.53353,     0.53453,     0.53554,     0.53654,     0.53754,     0.53854,     0.53954,     0.54054,     0.54154,     0.54254,     0.54354,     0.54454,     0.54555,     0.54655,     0.54755,     0.54855,     0.54955,     0.55055,     0.55155,\n",
       "           0.55255,     0.55355,     0.55455,     0.55556,     0.55656,     0.55756,     0.55856,     0.55956,     0.56056,     0.56156,     0.56256,     0.56356,     0.56456,     0.56557,     0.56657,     0.56757,     0.56857,     0.56957,     0.57057,     0.57157,     0.57257,     0.57357,     0.57457,     0.57558,\n",
       "           0.57658,     0.57758,     0.57858,     0.57958,     0.58058,     0.58158,     0.58258,     0.58358,     0.58458,     0.58559,     0.58659,     0.58759,     0.58859,     0.58959,     0.59059,     0.59159,     0.59259,     0.59359,     0.59459,      0.5956,      0.5966,      0.5976,      0.5986,      0.5996,\n",
       "            0.6006,      0.6016,      0.6026,      0.6036,      0.6046,     0.60561,     0.60661,     0.60761,     0.60861,     0.60961,     0.61061,     0.61161,     0.61261,     0.61361,     0.61461,     0.61562,     0.61662,     0.61762,     0.61862,     0.61962,     0.62062,     0.62162,     0.62262,     0.62362,\n",
       "           0.62462,     0.62563,     0.62663,     0.62763,     0.62863,     0.62963,     0.63063,     0.63163,     0.63263,     0.63363,     0.63463,     0.63564,     0.63664,     0.63764,     0.63864,     0.63964,     0.64064,     0.64164,     0.64264,     0.64364,     0.64464,     0.64565,     0.64665,     0.64765,\n",
       "           0.64865,     0.64965,     0.65065,     0.65165,     0.65265,     0.65365,     0.65465,     0.65566,     0.65666,     0.65766,     0.65866,     0.65966,     0.66066,     0.66166,     0.66266,     0.66366,     0.66466,     0.66567,     0.66667,     0.66767,     0.66867,     0.66967,     0.67067,     0.67167,\n",
       "           0.67267,     0.67367,     0.67467,     0.67568,     0.67668,     0.67768,     0.67868,     0.67968,     0.68068,     0.68168,     0.68268,     0.68368,     0.68468,     0.68569,     0.68669,     0.68769,     0.68869,     0.68969,     0.69069,     0.69169,     0.69269,     0.69369,     0.69469,      0.6957,\n",
       "            0.6967,      0.6977,      0.6987,      0.6997,      0.7007,      0.7017,      0.7027,      0.7037,      0.7047,     0.70571,     0.70671,     0.70771,     0.70871,     0.70971,     0.71071,     0.71171,     0.71271,     0.71371,     0.71471,     0.71572,     0.71672,     0.71772,     0.71872,     0.71972,\n",
       "           0.72072,     0.72172,     0.72272,     0.72372,     0.72472,     0.72573,     0.72673,     0.72773,     0.72873,     0.72973,     0.73073,     0.73173,     0.73273,     0.73373,     0.73473,     0.73574,     0.73674,     0.73774,     0.73874,     0.73974,     0.74074,     0.74174,     0.74274,     0.74374,\n",
       "           0.74474,     0.74575,     0.74675,     0.74775,     0.74875,     0.74975,     0.75075,     0.75175,     0.75275,     0.75375,     0.75475,     0.75576,     0.75676,     0.75776,     0.75876,     0.75976,     0.76076,     0.76176,     0.76276,     0.76376,     0.76476,     0.76577,     0.76677,     0.76777,\n",
       "           0.76877,     0.76977,     0.77077,     0.77177,     0.77277,     0.77377,     0.77477,     0.77578,     0.77678,     0.77778,     0.77878,     0.77978,     0.78078,     0.78178,     0.78278,     0.78378,     0.78478,     0.78579,     0.78679,     0.78779,     0.78879,     0.78979,     0.79079,     0.79179,\n",
       "           0.79279,     0.79379,     0.79479,      0.7958,      0.7968,      0.7978,      0.7988,      0.7998,      0.8008,      0.8018,      0.8028,      0.8038,      0.8048,     0.80581,     0.80681,     0.80781,     0.80881,     0.80981,     0.81081,     0.81181,     0.81281,     0.81381,     0.81481,     0.81582,\n",
       "           0.81682,     0.81782,     0.81882,     0.81982,     0.82082,     0.82182,     0.82282,     0.82382,     0.82482,     0.82583,     0.82683,     0.82783,     0.82883,     0.82983,     0.83083,     0.83183,     0.83283,     0.83383,     0.83483,     0.83584,     0.83684,     0.83784,     0.83884,     0.83984,\n",
       "           0.84084,     0.84184,     0.84284,     0.84384,     0.84484,     0.84585,     0.84685,     0.84785,     0.84885,     0.84985,     0.85085,     0.85185,     0.85285,     0.85385,     0.85485,     0.85586,     0.85686,     0.85786,     0.85886,     0.85986,     0.86086,     0.86186,     0.86286,     0.86386,\n",
       "           0.86486,     0.86587,     0.86687,     0.86787,     0.86887,     0.86987,     0.87087,     0.87187,     0.87287,     0.87387,     0.87487,     0.87588,     0.87688,     0.87788,     0.87888,     0.87988,     0.88088,     0.88188,     0.88288,     0.88388,     0.88488,     0.88589,     0.88689,     0.88789,\n",
       "           0.88889,     0.88989,     0.89089,     0.89189,     0.89289,     0.89389,     0.89489,      0.8959,      0.8969,      0.8979,      0.8989,      0.8999,      0.9009,      0.9019,      0.9029,      0.9039,      0.9049,     0.90591,     0.90691,     0.90791,     0.90891,     0.90991,     0.91091,     0.91191,\n",
       "           0.91291,     0.91391,     0.91491,     0.91592,     0.91692,     0.91792,     0.91892,     0.91992,     0.92092,     0.92192,     0.92292,     0.92392,     0.92492,     0.92593,     0.92693,     0.92793,     0.92893,     0.92993,     0.93093,     0.93193,     0.93293,     0.93393,     0.93493,     0.93594,\n",
       "           0.93694,     0.93794,     0.93894,     0.93994,     0.94094,     0.94194,     0.94294,     0.94394,     0.94494,     0.94595,     0.94695,     0.94795,     0.94895,     0.94995,     0.95095,     0.95195,     0.95295,     0.95395,     0.95495,     0.95596,     0.95696,     0.95796,     0.95896,     0.95996,\n",
       "           0.96096,     0.96196,     0.96296,     0.96396,     0.96496,     0.96597,     0.96697,     0.96797,     0.96897,     0.96997,     0.97097,     0.97197,     0.97297,     0.97397,     0.97497,     0.97598,     0.97698,     0.97798,     0.97898,     0.97998,     0.98098,     0.98198,     0.98298,     0.98398,\n",
       "           0.98498,     0.98599,     0.98699,     0.98799,     0.98899,     0.98999,     0.99099,     0.99199,     0.99299,     0.99399,     0.99499,       0.996,       0.997,       0.998,       0.999,           1]), array([[          1,           1,           1,           1,           1,           1,           1,           1,           1,           1,           1,           1,           1,           1,           1,           1,           1,           1,           1,           1,           1,           1,           1,\n",
       "                  1,           1,           1,           1,           1,           1,           1,           1,           1,           1,           1,           1,           1,           1,           1,           1,           1,           1,           1,           1,           1,           1,           1,\n",
       "                  1,           1,           1,           1,           1,           1,           1,           1,           1,           1,           1,           1,           1,           1,           1,           1,           1,           1,           1,           1,           1,           1,           1,\n",
       "                  1,           1,           1,           1,           1,           1,           1,           1,           1,           1,           1,           1,           1,           1,           1,           1,           1,           1,           1,           1,           1,           1,           1,\n",
       "                  1,           1,           1,           1,           1,           1,           1,           1,           1,           1,           1,           1,           1,           1,           1,           1,           1,           1,           1,           1,           1,           1,           1,\n",
       "                  1,           1,           1,           1,           1,           1,           1,           1,           1,           1,           1,           1,           1,           1,           1,           1,           1,           1,           1,           1,           1,           1,           1,\n",
       "                  1,           1,           1,           1,           1,           1,           1,           1,           1,           1,           1,           1,           1,           1,           1,           1,           1,           1,           1,           1,           1,           1,           1,\n",
       "                  1,           1,           1,           1,           1,           1,           1,           1,           1,           1,           1,           1,           1,           1,           1,           1,           1,           1,           1,           1,           1,           1,           1,\n",
       "                  1,           1,           1,           1,           1,           1,           1,           1,           1,           1,           1,           1,           1,           1,           1,           1,           1,           1,           1,           1,           1,           1,           1,\n",
       "                  1,           1,           1,           1,           1,           1,           1,           1,           1,           1,           1,           1,           1,           1,           1,           1,           1,           1,           1,           1,           1,           1,           1,\n",
       "                  1,           1,           1,           1,           1,           1,           1,           1,           1,           1,           1,           1,           1,           1,           1,           1,           1,           1,           1,           1,           1,           1,           1,\n",
       "                  1,           1,           1,           1,           1,           1,           1,           1,           1,           1,           1,           1,           1,           1,           1,           1,           1,           1,           1,           1,           1,           1,           1,\n",
       "                  1,           1,           1,           1,           1,           1,           1,           1,           1,           1,           1,           1,           1,           1,           1,           1,           1,           1,           1,           1,           1,           1,           1,\n",
       "                  1,           1,           1,           1,           1,           1,           1,           1,           1,           1,           1,           1,           1,           1,           1,           1,           1,           1,           1,           1,           1,           1,           1,\n",
       "                  1,           1,           1,           1,           1,           1,           1,           1,           1,           1,           1,           1,           1,           1,           1,           1,           1,           1,           1,           1,           1,           1,           1,\n",
       "                  1,           1,           1,           1,           1,           1,           1,           1,           1,           1,           1,           1,           1,           1,           1,           1,           1,           1,           1,           1,           1,           1,           1,\n",
       "                  1,           1,           1,           1,           1,           1,           1,           1,           1,           1,           1,           1,           1,           1,           1,           1,           1,           1,           1,           1,           1,           1,           1,\n",
       "                  1,           1,           1,     0.99408,     0.99408,     0.99408,     0.99408,     0.99408,     0.99408,     0.99408,     0.99408,     0.99408,     0.99408,     0.99408,     0.99408,     0.99408,     0.99408,     0.99408,     0.99408,     0.99408,     0.99408,     0.99408,     0.99408,\n",
       "            0.99408,     0.99408,     0.99408,     0.99408,     0.99408,     0.99408,     0.99408,     0.99408,     0.99408,     0.99408,     0.99408,     0.99408,     0.99408,     0.99408,     0.99408,     0.99408,     0.99408,     0.99408,     0.99408,     0.99408,     0.99408,     0.99408,     0.99408,\n",
       "            0.99408,     0.99408,     0.99408,     0.99408,     0.99408,     0.99408,     0.99408,     0.99408,     0.99408,     0.99408,     0.99408,     0.99408,     0.99408,     0.99408,     0.99408,     0.99408,     0.99408,     0.99408,     0.99408,     0.99408,     0.99408,     0.99408,     0.99408,\n",
       "            0.99408,     0.99408,     0.99408,     0.99408,     0.99408,     0.99408,     0.99408,     0.99408,     0.99408,     0.99408,     0.99408,     0.99408,     0.99408,     0.99408,     0.99408,     0.99408,     0.99408,     0.99408,     0.99408,     0.99408,     0.99408,     0.99408,     0.99408,\n",
       "            0.99408,     0.99408,     0.99408,     0.99408,     0.99408,     0.99408,     0.99408,     0.99408,     0.99408,     0.99408,     0.99408,     0.99408,     0.99408,     0.99408,     0.99408,     0.99408,     0.99408,     0.99408,     0.99408,     0.99408,     0.99408,     0.99408,     0.99408,\n",
       "            0.99408,     0.99408,     0.99408,     0.99408,     0.99408,     0.99408,     0.99408,     0.99408,     0.99408,     0.99408,     0.99408,     0.99408,     0.99408,     0.99408,     0.99408,     0.99408,     0.99408,     0.99408,     0.99408,     0.99408,     0.99408,     0.99408,     0.99408,\n",
       "            0.99408,     0.99408,     0.99408,     0.99408,     0.99408,     0.99408,     0.99408,     0.99408,     0.99408,     0.99408,     0.99408,     0.99408,     0.99408,     0.99408,     0.99408,     0.99408,     0.99408,     0.99408,     0.99408,     0.99408,     0.99408,     0.99408,     0.99408,\n",
       "            0.99408,     0.99408,     0.99408,     0.99408,     0.99408,     0.99408,     0.99408,     0.99408,     0.99408,     0.99408,     0.99408,     0.99408,     0.99408,     0.99408,     0.98851,     0.98851,     0.98851,     0.98851,     0.98851,     0.98851,     0.98851,     0.98851,     0.98851,\n",
       "            0.98851,     0.98851,     0.98851,     0.98851,     0.98352,     0.98352,     0.98352,     0.98352,     0.98352,     0.98352,     0.98352,     0.98352,     0.98352,     0.98352,     0.98352,     0.98352,     0.98352,     0.98352,     0.98352,     0.98352,     0.98352,     0.98352,     0.98352,\n",
       "            0.98352,     0.98352,     0.98352,     0.98352,     0.98352,     0.97861,     0.97861,     0.97861,     0.97861,     0.97861,     0.97861,     0.97861,     0.97861,     0.97861,     0.97861,     0.97861,     0.97861,     0.97861,     0.97396,     0.97396,     0.97396,     0.97396,     0.97396,\n",
       "            0.97396,     0.97396,     0.97396,     0.97396,     0.97396,     0.97396,     0.97396,     0.97396,     0.97209,     0.97209,     0.97209,     0.97209,     0.97209,     0.97209,     0.97209,     0.97209,     0.97209,     0.97209,     0.97209,     0.97209,     0.97209,     0.97209,     0.97209,\n",
       "            0.97209,     0.97209,     0.97209,     0.97209,     0.97209,     0.97209,     0.97209,     0.97209,     0.97209,     0.97209,     0.97209,     0.97209,     0.97209,     0.97209,     0.97209,     0.97209,     0.97209,     0.97209,     0.97209,     0.97209,     0.97209,     0.97209,     0.97209,\n",
       "            0.97209,     0.97209,     0.97209,     0.97209,     0.97209,     0.97209,     0.97209,     0.97209,     0.97209,     0.97209,     0.97209,     0.97209,     0.97209,     0.97209,     0.97209,     0.97209,     0.97209,     0.97209,     0.97209,     0.97209,     0.97209,     0.97209,     0.97209,\n",
       "            0.97209,     0.97209,     0.97209,     0.97209,     0.97209,     0.97209,     0.97209,     0.97209,     0.97209,     0.97209,     0.97209,     0.97209,     0.97209,     0.96957,     0.96957,     0.96957,     0.96957,     0.96957,     0.96957,     0.96957,     0.96957,     0.96957,     0.96957,\n",
       "            0.96957,     0.96957,     0.96957,     0.96957,     0.96957,     0.96957,     0.96957,     0.96957,     0.96957,     0.96957,     0.96957,     0.96957,     0.96957,     0.96957,     0.96957,     0.96957,     0.96957,     0.96957,     0.96957,     0.96957,     0.96957,     0.96957,     0.96957,\n",
       "            0.96957,     0.96957,     0.96957,     0.96957,     0.96957,     0.96957,     0.96957,     0.96957,     0.96957,     0.96957,     0.96957,     0.96957,     0.96957,     0.96957,     0.96957,     0.96552,     0.96552,     0.96552,      0.9625,      0.9625,      0.9625,      0.9625,      0.9625,\n",
       "             0.9625,      0.9625,      0.9625,      0.9625,      0.9625,      0.9625,      0.9625,      0.9625,      0.9625,      0.9625,      0.9625,      0.9625,      0.9625,      0.9625,      0.9625,      0.9625,      0.9625,      0.9625,     0.95885,     0.95885,     0.95885,     0.95885,     0.95885,\n",
       "            0.95885,     0.95885,     0.95565,     0.95565,     0.95565,     0.95565,     0.95565,     0.95565,     0.95565,     0.95565,     0.95565,     0.95565,     0.95565,     0.95565,     0.95565,     0.95565,     0.95238,     0.95238,     0.95238,     0.95238,     0.95238,     0.95238,     0.95238,\n",
       "            0.95238,     0.95238,     0.95238,      0.9451,      0.9451,      0.9451,     0.93798,     0.93798,     0.93798,     0.93561,     0.93561,     0.93561,     0.93561,     0.93561,     0.93561,     0.93561,     0.93561,     0.93561,     0.93561,     0.93561,     0.93561,     0.93561,     0.93561,\n",
       "            0.93561,     0.93561,     0.93561,      0.9291,      0.9291,      0.9291,      0.9291,      0.9291,      0.9291,      0.9291,     0.92419,     0.92419,     0.92419,     0.92419,     0.92419,     0.92419,     0.92419,     0.92419,     0.92419,     0.92419,     0.92419,     0.92419,     0.92419,\n",
       "            0.92419,     0.92419,     0.92419,     0.92419,     0.92419,     0.92419,     0.92419,     0.92419,     0.92419,     0.92419,     0.92419,     0.92115,     0.92115,     0.92115,     0.91489,     0.91489,     0.91489,     0.91289,     0.91289,     0.91289,     0.91289,     0.91289,     0.91289,\n",
       "            0.91289,     0.91289,     0.91289,     0.91289,     0.91289,     0.91289,     0.91289,     0.91289,     0.91003,     0.91003,     0.91003,     0.90411,     0.90411,     0.90411,     0.90136,     0.90136,     0.90136,     0.90136,     0.89562,     0.89562,     0.89562,     0.89145,     0.89145,\n",
       "            0.89145,     0.89145,     0.89145,     0.89145,     0.89145,     0.89145,     0.89145,     0.89145,     0.89145,     0.89145,     0.89145,     0.89145,     0.89145,     0.89145,     0.89145,      0.8746,      0.8746,      0.8746,     0.85047,     0.85047,     0.85047,     0.85047,     0.84049,\n",
       "            0.84049,     0.84049,     0.83841,     0.83841,     0.83841,     0.83384,     0.83384,     0.83384,     0.83384,     0.82196,     0.82196,     0.82196,     0.81765,     0.81765,     0.81765,     0.81765,     0.80692,     0.80692,     0.80692,     0.80692,     0.80692,     0.80692,     0.79603,\n",
       "            0.79603,     0.79603,     0.79603,     0.78992,     0.78992,     0.78992,     0.77961,     0.77961,     0.77961,      0.7655,      0.7655,      0.7655,      0.7655,        0.76,        0.76,        0.76,     0.69249,     0.69249,     0.69249,      0.6866,      0.6866,      0.6866,      0.6866,\n",
       "               0.64,        0.64,        0.64,     0.63239,     0.63239,     0.63239,     0.63239,     0.60572,     0.58242,     0.55913,     0.53583,     0.51253,     0.48923,     0.46594,     0.44264,     0.41934,     0.39605,     0.37275,     0.34945,     0.32616,     0.30286,     0.27956,     0.25627,\n",
       "            0.23297,     0.20967,     0.18638,     0.16308,     0.13978,     0.11648,    0.093188,    0.069891,    0.046594,    0.023297,           0]]), 'Recall', 'Precision'], [array([          0,    0.001001,    0.002002,    0.003003,    0.004004,    0.005005,    0.006006,    0.007007,    0.008008,    0.009009,     0.01001,    0.011011,    0.012012,    0.013013,    0.014014,    0.015015,    0.016016,    0.017017,    0.018018,    0.019019,     0.02002,    0.021021,    0.022022,    0.023023,\n",
       "          0.024024,    0.025025,    0.026026,    0.027027,    0.028028,    0.029029,     0.03003,    0.031031,    0.032032,    0.033033,    0.034034,    0.035035,    0.036036,    0.037037,    0.038038,    0.039039,     0.04004,    0.041041,    0.042042,    0.043043,    0.044044,    0.045045,    0.046046,    0.047047,\n",
       "          0.048048,    0.049049,     0.05005,    0.051051,    0.052052,    0.053053,    0.054054,    0.055055,    0.056056,    0.057057,    0.058058,    0.059059,     0.06006,    0.061061,    0.062062,    0.063063,    0.064064,    0.065065,    0.066066,    0.067067,    0.068068,    0.069069,     0.07007,    0.071071,\n",
       "          0.072072,    0.073073,    0.074074,    0.075075,    0.076076,    0.077077,    0.078078,    0.079079,     0.08008,    0.081081,    0.082082,    0.083083,    0.084084,    0.085085,    0.086086,    0.087087,    0.088088,    0.089089,     0.09009,    0.091091,    0.092092,    0.093093,    0.094094,    0.095095,\n",
       "          0.096096,    0.097097,    0.098098,    0.099099,      0.1001,      0.1011,      0.1021,      0.1031,      0.1041,     0.10511,     0.10611,     0.10711,     0.10811,     0.10911,     0.11011,     0.11111,     0.11211,     0.11311,     0.11411,     0.11512,     0.11612,     0.11712,     0.11812,     0.11912,\n",
       "           0.12012,     0.12112,     0.12212,     0.12312,     0.12412,     0.12513,     0.12613,     0.12713,     0.12813,     0.12913,     0.13013,     0.13113,     0.13213,     0.13313,     0.13413,     0.13514,     0.13614,     0.13714,     0.13814,     0.13914,     0.14014,     0.14114,     0.14214,     0.14314,\n",
       "           0.14414,     0.14515,     0.14615,     0.14715,     0.14815,     0.14915,     0.15015,     0.15115,     0.15215,     0.15315,     0.15415,     0.15516,     0.15616,     0.15716,     0.15816,     0.15916,     0.16016,     0.16116,     0.16216,     0.16316,     0.16416,     0.16517,     0.16617,     0.16717,\n",
       "           0.16817,     0.16917,     0.17017,     0.17117,     0.17217,     0.17317,     0.17417,     0.17518,     0.17618,     0.17718,     0.17818,     0.17918,     0.18018,     0.18118,     0.18218,     0.18318,     0.18418,     0.18519,     0.18619,     0.18719,     0.18819,     0.18919,     0.19019,     0.19119,\n",
       "           0.19219,     0.19319,     0.19419,      0.1952,      0.1962,      0.1972,      0.1982,      0.1992,      0.2002,      0.2012,      0.2022,      0.2032,      0.2042,     0.20521,     0.20621,     0.20721,     0.20821,     0.20921,     0.21021,     0.21121,     0.21221,     0.21321,     0.21421,     0.21522,\n",
       "           0.21622,     0.21722,     0.21822,     0.21922,     0.22022,     0.22122,     0.22222,     0.22322,     0.22422,     0.22523,     0.22623,     0.22723,     0.22823,     0.22923,     0.23023,     0.23123,     0.23223,     0.23323,     0.23423,     0.23524,     0.23624,     0.23724,     0.23824,     0.23924,\n",
       "           0.24024,     0.24124,     0.24224,     0.24324,     0.24424,     0.24525,     0.24625,     0.24725,     0.24825,     0.24925,     0.25025,     0.25125,     0.25225,     0.25325,     0.25425,     0.25526,     0.25626,     0.25726,     0.25826,     0.25926,     0.26026,     0.26126,     0.26226,     0.26326,\n",
       "           0.26426,     0.26527,     0.26627,     0.26727,     0.26827,     0.26927,     0.27027,     0.27127,     0.27227,     0.27327,     0.27427,     0.27528,     0.27628,     0.27728,     0.27828,     0.27928,     0.28028,     0.28128,     0.28228,     0.28328,     0.28428,     0.28529,     0.28629,     0.28729,\n",
       "           0.28829,     0.28929,     0.29029,     0.29129,     0.29229,     0.29329,     0.29429,      0.2953,      0.2963,      0.2973,      0.2983,      0.2993,      0.3003,      0.3013,      0.3023,      0.3033,      0.3043,     0.30531,     0.30631,     0.30731,     0.30831,     0.30931,     0.31031,     0.31131,\n",
       "           0.31231,     0.31331,     0.31431,     0.31532,     0.31632,     0.31732,     0.31832,     0.31932,     0.32032,     0.32132,     0.32232,     0.32332,     0.32432,     0.32533,     0.32633,     0.32733,     0.32833,     0.32933,     0.33033,     0.33133,     0.33233,     0.33333,     0.33433,     0.33534,\n",
       "           0.33634,     0.33734,     0.33834,     0.33934,     0.34034,     0.34134,     0.34234,     0.34334,     0.34434,     0.34535,     0.34635,     0.34735,     0.34835,     0.34935,     0.35035,     0.35135,     0.35235,     0.35335,     0.35435,     0.35536,     0.35636,     0.35736,     0.35836,     0.35936,\n",
       "           0.36036,     0.36136,     0.36236,     0.36336,     0.36436,     0.36537,     0.36637,     0.36737,     0.36837,     0.36937,     0.37037,     0.37137,     0.37237,     0.37337,     0.37437,     0.37538,     0.37638,     0.37738,     0.37838,     0.37938,     0.38038,     0.38138,     0.38238,     0.38338,\n",
       "           0.38438,     0.38539,     0.38639,     0.38739,     0.38839,     0.38939,     0.39039,     0.39139,     0.39239,     0.39339,     0.39439,      0.3954,      0.3964,      0.3974,      0.3984,      0.3994,      0.4004,      0.4014,      0.4024,      0.4034,      0.4044,     0.40541,     0.40641,     0.40741,\n",
       "           0.40841,     0.40941,     0.41041,     0.41141,     0.41241,     0.41341,     0.41441,     0.41542,     0.41642,     0.41742,     0.41842,     0.41942,     0.42042,     0.42142,     0.42242,     0.42342,     0.42442,     0.42543,     0.42643,     0.42743,     0.42843,     0.42943,     0.43043,     0.43143,\n",
       "           0.43243,     0.43343,     0.43443,     0.43544,     0.43644,     0.43744,     0.43844,     0.43944,     0.44044,     0.44144,     0.44244,     0.44344,     0.44444,     0.44545,     0.44645,     0.44745,     0.44845,     0.44945,     0.45045,     0.45145,     0.45245,     0.45345,     0.45445,     0.45546,\n",
       "           0.45646,     0.45746,     0.45846,     0.45946,     0.46046,     0.46146,     0.46246,     0.46346,     0.46446,     0.46547,     0.46647,     0.46747,     0.46847,     0.46947,     0.47047,     0.47147,     0.47247,     0.47347,     0.47447,     0.47548,     0.47648,     0.47748,     0.47848,     0.47948,\n",
       "           0.48048,     0.48148,     0.48248,     0.48348,     0.48448,     0.48549,     0.48649,     0.48749,     0.48849,     0.48949,     0.49049,     0.49149,     0.49249,     0.49349,     0.49449,      0.4955,      0.4965,      0.4975,      0.4985,      0.4995,      0.5005,      0.5015,      0.5025,      0.5035,\n",
       "            0.5045,     0.50551,     0.50651,     0.50751,     0.50851,     0.50951,     0.51051,     0.51151,     0.51251,     0.51351,     0.51451,     0.51552,     0.51652,     0.51752,     0.51852,     0.51952,     0.52052,     0.52152,     0.52252,     0.52352,     0.52452,     0.52553,     0.52653,     0.52753,\n",
       "           0.52853,     0.52953,     0.53053,     0.53153,     0.53253,     0.53353,     0.53453,     0.53554,     0.53654,     0.53754,     0.53854,     0.53954,     0.54054,     0.54154,     0.54254,     0.54354,     0.54454,     0.54555,     0.54655,     0.54755,     0.54855,     0.54955,     0.55055,     0.55155,\n",
       "           0.55255,     0.55355,     0.55455,     0.55556,     0.55656,     0.55756,     0.55856,     0.55956,     0.56056,     0.56156,     0.56256,     0.56356,     0.56456,     0.56557,     0.56657,     0.56757,     0.56857,     0.56957,     0.57057,     0.57157,     0.57257,     0.57357,     0.57457,     0.57558,\n",
       "           0.57658,     0.57758,     0.57858,     0.57958,     0.58058,     0.58158,     0.58258,     0.58358,     0.58458,     0.58559,     0.58659,     0.58759,     0.58859,     0.58959,     0.59059,     0.59159,     0.59259,     0.59359,     0.59459,      0.5956,      0.5966,      0.5976,      0.5986,      0.5996,\n",
       "            0.6006,      0.6016,      0.6026,      0.6036,      0.6046,     0.60561,     0.60661,     0.60761,     0.60861,     0.60961,     0.61061,     0.61161,     0.61261,     0.61361,     0.61461,     0.61562,     0.61662,     0.61762,     0.61862,     0.61962,     0.62062,     0.62162,     0.62262,     0.62362,\n",
       "           0.62462,     0.62563,     0.62663,     0.62763,     0.62863,     0.62963,     0.63063,     0.63163,     0.63263,     0.63363,     0.63463,     0.63564,     0.63664,     0.63764,     0.63864,     0.63964,     0.64064,     0.64164,     0.64264,     0.64364,     0.64464,     0.64565,     0.64665,     0.64765,\n",
       "           0.64865,     0.64965,     0.65065,     0.65165,     0.65265,     0.65365,     0.65465,     0.65566,     0.65666,     0.65766,     0.65866,     0.65966,     0.66066,     0.66166,     0.66266,     0.66366,     0.66466,     0.66567,     0.66667,     0.66767,     0.66867,     0.66967,     0.67067,     0.67167,\n",
       "           0.67267,     0.67367,     0.67467,     0.67568,     0.67668,     0.67768,     0.67868,     0.67968,     0.68068,     0.68168,     0.68268,     0.68368,     0.68468,     0.68569,     0.68669,     0.68769,     0.68869,     0.68969,     0.69069,     0.69169,     0.69269,     0.69369,     0.69469,      0.6957,\n",
       "            0.6967,      0.6977,      0.6987,      0.6997,      0.7007,      0.7017,      0.7027,      0.7037,      0.7047,     0.70571,     0.70671,     0.70771,     0.70871,     0.70971,     0.71071,     0.71171,     0.71271,     0.71371,     0.71471,     0.71572,     0.71672,     0.71772,     0.71872,     0.71972,\n",
       "           0.72072,     0.72172,     0.72272,     0.72372,     0.72472,     0.72573,     0.72673,     0.72773,     0.72873,     0.72973,     0.73073,     0.73173,     0.73273,     0.73373,     0.73473,     0.73574,     0.73674,     0.73774,     0.73874,     0.73974,     0.74074,     0.74174,     0.74274,     0.74374,\n",
       "           0.74474,     0.74575,     0.74675,     0.74775,     0.74875,     0.74975,     0.75075,     0.75175,     0.75275,     0.75375,     0.75475,     0.75576,     0.75676,     0.75776,     0.75876,     0.75976,     0.76076,     0.76176,     0.76276,     0.76376,     0.76476,     0.76577,     0.76677,     0.76777,\n",
       "           0.76877,     0.76977,     0.77077,     0.77177,     0.77277,     0.77377,     0.77477,     0.77578,     0.77678,     0.77778,     0.77878,     0.77978,     0.78078,     0.78178,     0.78278,     0.78378,     0.78478,     0.78579,     0.78679,     0.78779,     0.78879,     0.78979,     0.79079,     0.79179,\n",
       "           0.79279,     0.79379,     0.79479,      0.7958,      0.7968,      0.7978,      0.7988,      0.7998,      0.8008,      0.8018,      0.8028,      0.8038,      0.8048,     0.80581,     0.80681,     0.80781,     0.80881,     0.80981,     0.81081,     0.81181,     0.81281,     0.81381,     0.81481,     0.81582,\n",
       "           0.81682,     0.81782,     0.81882,     0.81982,     0.82082,     0.82182,     0.82282,     0.82382,     0.82482,     0.82583,     0.82683,     0.82783,     0.82883,     0.82983,     0.83083,     0.83183,     0.83283,     0.83383,     0.83483,     0.83584,     0.83684,     0.83784,     0.83884,     0.83984,\n",
       "           0.84084,     0.84184,     0.84284,     0.84384,     0.84484,     0.84585,     0.84685,     0.84785,     0.84885,     0.84985,     0.85085,     0.85185,     0.85285,     0.85385,     0.85485,     0.85586,     0.85686,     0.85786,     0.85886,     0.85986,     0.86086,     0.86186,     0.86286,     0.86386,\n",
       "           0.86486,     0.86587,     0.86687,     0.86787,     0.86887,     0.86987,     0.87087,     0.87187,     0.87287,     0.87387,     0.87487,     0.87588,     0.87688,     0.87788,     0.87888,     0.87988,     0.88088,     0.88188,     0.88288,     0.88388,     0.88488,     0.88589,     0.88689,     0.88789,\n",
       "           0.88889,     0.88989,     0.89089,     0.89189,     0.89289,     0.89389,     0.89489,      0.8959,      0.8969,      0.8979,      0.8989,      0.8999,      0.9009,      0.9019,      0.9029,      0.9039,      0.9049,     0.90591,     0.90691,     0.90791,     0.90891,     0.90991,     0.91091,     0.91191,\n",
       "           0.91291,     0.91391,     0.91491,     0.91592,     0.91692,     0.91792,     0.91892,     0.91992,     0.92092,     0.92192,     0.92292,     0.92392,     0.92492,     0.92593,     0.92693,     0.92793,     0.92893,     0.92993,     0.93093,     0.93193,     0.93293,     0.93393,     0.93493,     0.93594,\n",
       "           0.93694,     0.93794,     0.93894,     0.93994,     0.94094,     0.94194,     0.94294,     0.94394,     0.94494,     0.94595,     0.94695,     0.94795,     0.94895,     0.94995,     0.95095,     0.95195,     0.95295,     0.95395,     0.95495,     0.95596,     0.95696,     0.95796,     0.95896,     0.95996,\n",
       "           0.96096,     0.96196,     0.96296,     0.96396,     0.96496,     0.96597,     0.96697,     0.96797,     0.96897,     0.96997,     0.97097,     0.97197,     0.97297,     0.97397,     0.97497,     0.97598,     0.97698,     0.97798,     0.97898,     0.97998,     0.98098,     0.98198,     0.98298,     0.98398,\n",
       "           0.98498,     0.98599,     0.98699,     0.98799,     0.98899,     0.98999,     0.99099,     0.99199,     0.99299,     0.99399,     0.99499,       0.996,       0.997,       0.998,       0.999,           1]), array([[    0.76253,     0.76253,     0.80998,     0.84569,     0.85634,      0.8591,     0.86297,     0.86749,     0.87234,     0.87264,     0.87457,     0.87854,      0.8789,     0.88133,     0.88239,     0.88306,     0.88209,     0.88422,     0.88722,     0.89065,     0.89267,      0.8937,     0.89433,\n",
       "            0.89424,     0.89315,     0.89639,     0.89721,     0.89926,     0.90028,     0.89945,     0.89889,     0.89832,     0.89775,     0.89718,     0.89661,     0.89582,     0.89479,     0.89352,     0.89276,     0.89318,     0.89359,       0.894,     0.89548,     0.89418,     0.89432,     0.89515,\n",
       "            0.89655,     0.89536,     0.89481,      0.8952,      0.8956,       0.896,      0.8975,     0.89698,     0.89645,     0.89592,     0.89682,     0.89511,     0.89384,     0.89189,     0.89108,     0.89051,     0.88994,      0.8908,     0.89093,     0.89061,     0.89029,     0.88997,     0.88966,\n",
       "            0.88934,     0.89137,     0.89233,     0.89128,     0.89071,     0.89184,      0.8904,     0.88896,     0.88804,     0.88787,      0.8877,     0.88754,     0.88737,      0.8872,     0.88703,     0.88686,     0.88669,     0.88652,     0.88635,     0.88618,     0.88548,     0.88472,     0.88409,\n",
       "            0.88371,     0.88334,     0.88297,     0.88259,     0.88219,     0.88147,     0.88075,      0.8798,     0.87839,     0.87841,     0.87851,     0.87862,     0.87873,     0.87883,     0.87894,     0.87905,     0.87915,     0.87926,     0.87937,     0.87947,     0.87958,     0.87969,     0.87979,\n",
       "            0.87993,     0.88012,     0.88031,      0.8805,     0.88069,     0.88088,     0.88107,     0.88126,     0.88135,     0.88102,     0.88069,     0.88036,     0.88002,     0.87969,     0.87932,     0.87883,     0.87833,     0.87784,     0.87754,     0.87803,     0.87853,     0.88056,      0.8803,\n",
       "            0.88003,     0.87977,     0.87951,     0.87924,     0.87898,     0.87871,     0.87793,     0.87656,     0.87605,     0.87553,     0.87502,     0.87451,     0.87411,      0.8737,      0.8733,      0.8729,     0.87245,     0.87166,     0.87087,     0.87077,     0.87127,     0.87176,     0.87053,\n",
       "            0.87013,     0.87024,     0.87035,     0.87045,     0.87056,     0.87067,     0.87078,     0.87088,     0.87099,      0.8711,     0.87121,     0.87131,     0.87142,     0.87153,     0.87178,     0.87246,     0.87314,       0.873,     0.87279,     0.87258,     0.87238,     0.87217,     0.87196,\n",
       "            0.87175,     0.87155,     0.87134,     0.87115,      0.8712,     0.87126,     0.87132,     0.87138,     0.87143,     0.87149,     0.87155,     0.87161,     0.87166,     0.87172,     0.87178,     0.87184,     0.87189,     0.87195,     0.87201,     0.87207,     0.87212,     0.87218,     0.87224,\n",
       "             0.8723,     0.87235,     0.87241,     0.87247,     0.87253,     0.87258,     0.87264,      0.8727,     0.87293,     0.87334,     0.87374,     0.87415,     0.87424,     0.87411,     0.87398,     0.87385,     0.87372,     0.87359,     0.87346,     0.87333,      0.8732,     0.87307,     0.87293,\n",
       "             0.8728,     0.87267,     0.87254,     0.87241,     0.87228,     0.87217,     0.87206,     0.87195,     0.87184,     0.87173,     0.87162,     0.87151,      0.8714,     0.87129,     0.87118,     0.87107,     0.87096,     0.87085,     0.87074,     0.87063,     0.87052,     0.87041,      0.8703,\n",
       "             0.8702,     0.87013,     0.87006,        0.87,     0.86993,     0.86987,      0.8698,     0.86974,     0.86967,      0.8696,     0.86954,     0.86947,     0.86941,     0.86934,     0.86928,     0.86921,     0.86914,     0.86908,     0.86901,     0.86895,     0.86888,     0.86882,     0.86875,\n",
       "            0.86868,     0.86862,     0.86855,     0.86849,     0.86842,     0.86835,     0.86829,     0.86822,     0.86816,     0.86822,     0.86836,      0.8685,     0.86865,     0.86879,     0.86893,     0.86907,     0.86921,     0.86936,      0.8695,     0.86964,     0.86964,     0.86943,     0.86921,\n",
       "              0.869,     0.86879,     0.86858,     0.86836,     0.86815,     0.86794,     0.86772,     0.86732,     0.86682,     0.86632,     0.86582,     0.86526,     0.86465,     0.86403,     0.86324,     0.86153,       0.862,     0.86247,     0.86293,     0.86289,     0.86282,     0.86274,     0.86266,\n",
       "            0.86259,     0.86251,     0.86244,     0.86236,     0.86229,     0.86221,     0.86213,     0.86206,     0.86198,     0.86191,     0.86183,     0.86175,     0.86168,      0.8616,     0.86153,     0.86145,     0.86138,      0.8613,     0.86122,     0.86115,     0.86107,       0.861,     0.86092,\n",
       "            0.86084,     0.86076,     0.86068,      0.8606,     0.86052,     0.86043,     0.86035,     0.86027,     0.86019,     0.86011,     0.86002,     0.85994,     0.85986,     0.85978,      0.8597,     0.85962,     0.85953,     0.85945,     0.85937,     0.85929,     0.85921,     0.85912,     0.85904,\n",
       "            0.85896,     0.85888,      0.8588,     0.85877,     0.85891,     0.85904,     0.85918,     0.85931,     0.85944,     0.85958,     0.85971,     0.85984,     0.85998,     0.86011,     0.86025,     0.86028,     0.86012,     0.85995,     0.85979,     0.85962,     0.85946,      0.8593,     0.85913,\n",
       "            0.85897,      0.8588,     0.85864,     0.85847,     0.85831,     0.85803,     0.85757,      0.8571,     0.85664,     0.85618,     0.85385,     0.85375,     0.85365,     0.85355,     0.85344,     0.85334,     0.85324,     0.85314,     0.85303,     0.85293,     0.85283,     0.85273,     0.85262,\n",
       "            0.85252,     0.85242,     0.85232,     0.85221,     0.85211,     0.85201,     0.85191,      0.8518,     0.85148,     0.85109,     0.85071,     0.85032,     0.84994,      0.8496,     0.84945,      0.8493,     0.84915,       0.849,     0.84884,     0.84869,     0.84854,     0.84839,     0.84824,\n",
       "            0.84809,     0.84794,     0.84779,     0.84764,     0.84749,     0.84741,     0.84734,     0.84727,     0.84721,     0.84714,     0.84708,     0.84701,     0.84694,     0.84688,     0.84681,     0.84675,     0.84668,     0.84661,     0.84655,     0.84648,     0.84642,     0.84635,     0.84628,\n",
       "            0.84622,     0.84615,     0.84609,     0.84602,     0.84595,     0.84589,     0.84582,     0.84575,     0.84569,     0.84562,     0.84556,     0.84549,     0.84542,     0.84536,     0.84529,     0.84543,     0.84559,     0.84575,     0.84592,     0.84608,     0.84624,     0.84641,     0.84657,\n",
       "            0.84674,     0.84664,      0.8447,     0.84474,     0.84478,     0.84482,     0.84486,      0.8449,     0.84494,     0.84498,     0.84502,     0.84505,     0.84509,     0.84513,     0.84517,     0.84521,     0.84525,     0.84529,     0.84533,     0.84537,     0.84541,     0.84545,     0.84549,\n",
       "            0.84552,     0.84556,      0.8456,     0.84564,     0.84568,     0.84572,     0.84576,      0.8458,     0.84584,     0.84588,     0.84592,     0.84595,     0.84599,     0.84603,     0.84607,     0.84611,     0.84615,     0.84619,     0.84623,     0.84627,     0.84629,      0.8462,     0.84611,\n",
       "            0.84603,     0.84594,     0.84585,     0.84577,     0.84568,      0.8456,     0.84551,     0.84542,     0.84534,     0.84525,     0.84516,     0.84508,     0.84499,      0.8449,     0.84482,     0.84473,     0.84464,     0.84456,     0.84447,     0.84438,      0.8443,     0.84421,     0.84412,\n",
       "            0.84321,     0.84208,     0.84185,      0.8418,     0.84174,     0.84168,     0.84162,     0.84156,      0.8415,     0.84144,     0.84138,     0.84132,     0.84126,      0.8412,     0.84114,     0.84108,     0.84102,     0.84096,      0.8409,     0.84084,     0.84078,     0.84072,     0.84066,\n",
       "             0.8406,     0.84054,     0.84048,     0.84042,     0.84036,     0.84031,     0.84025,     0.84019,     0.84013,     0.84007,     0.84001,     0.83995,     0.83989,     0.83983,     0.83977,     0.83971,     0.83962,     0.83953,     0.83943,     0.83934,     0.83924,     0.83915,     0.83905,\n",
       "            0.83896,     0.83886,     0.83877,     0.83868,     0.83858,     0.83849,     0.83839,      0.8383,      0.8382,     0.83811,     0.83801,     0.83792,     0.83782,     0.83773,     0.83763,     0.83754,      0.8373,     0.83679,     0.83628,     0.83577,     0.83527,     0.83495,     0.83465,\n",
       "            0.83434,     0.83404,     0.83373,     0.83343,     0.83312,     0.82927,      0.8284,     0.82824,     0.82807,     0.82791,     0.82774,     0.82758,     0.82741,     0.82725,     0.82708,     0.82692,     0.82675,     0.82658,     0.82642,     0.82625,     0.82594,     0.82563,     0.82532,\n",
       "            0.82501,      0.8247,     0.82439,     0.82408,     0.82378,     0.82349,      0.8232,     0.82291,     0.82261,     0.82232,     0.82203,     0.82174,     0.82141,     0.82107,     0.82074,      0.8204,     0.82007,     0.81973,     0.81937,     0.81858,      0.8178,      0.8169,     0.81533,\n",
       "            0.81493,     0.81509,     0.81525,     0.81542,     0.81558,     0.81574,      0.8159,     0.81607,     0.81623,     0.81639,     0.81578,     0.81511,     0.81443,     0.81399,     0.81379,     0.81359,     0.81339,      0.8132,       0.813,      0.8128,      0.8126,      0.8124,      0.8122,\n",
       "              0.812,     0.81181,     0.81122,     0.81054,     0.80985,     0.80912,     0.80832,     0.80752,     0.80462,     0.80438,     0.80414,      0.8039,     0.80366,     0.80341,     0.80317,     0.80293,     0.80269,     0.80244,     0.79915,     0.79793,     0.79725,     0.79676,     0.79627,\n",
       "            0.79578,     0.79529,     0.79506,     0.79486,     0.79466,     0.79447,     0.79427,     0.79407,     0.79388,     0.79368,     0.79348,     0.79329,     0.79309,     0.79289,     0.79262,     0.79231,       0.792,     0.79169,     0.79139,     0.79108,     0.79077,     0.79046,     0.78898,\n",
       "            0.78732,     0.78566,     0.78478,     0.78395,      0.7831,     0.78143,     0.78047,     0.78008,     0.77969,     0.77931,     0.77892,     0.77853,      0.7754,      0.7737,     0.77264,     0.77179,     0.77094,     0.77009,     0.76924,     0.76838,     0.76347,     0.76359,     0.76395,\n",
       "             0.7643,     0.76466,     0.76473,     0.76455,     0.76437,      0.7642,     0.76402,     0.76384,     0.76366,     0.76348,      0.7633,     0.76312,     0.76294,     0.76276,     0.76258,     0.76241,     0.76189,     0.76085,     0.75981,     0.75811,     0.75636,     0.75466,     0.75573,\n",
       "            0.75583,     0.75517,     0.75451,     0.75385,     0.75293,     0.75187,     0.75066,     0.74888,     0.74643,     0.74625,     0.74678,     0.74731,     0.74511,      0.7432,     0.74202,     0.74171,     0.74141,     0.74111,     0.74081,     0.74051,     0.74021,     0.73991,     0.73961,\n",
       "            0.73779,     0.73346,     0.73236,     0.73012,     0.72902,     0.72791,     0.72077,     0.72059,     0.71918,     0.71787,     0.71674,     0.71561,     0.71377,     0.71143,     0.70295,      0.6981,     0.69693,     0.69278,     0.68123,     0.67923,     0.66772,     0.66466,     0.66284,\n",
       "            0.66161,     0.65691,      0.6538,     0.65122,     0.64997,     0.64872,     0.64585,     0.64269,     0.64123,     0.63996,      0.6378,     0.63461,     0.62508,      0.6195,     0.61786,     0.61299,     0.61134,     0.60281,     0.60038,     0.59369,     0.59028,     0.58067,     0.57952,\n",
       "            0.57836,      0.5662,     0.56054,     0.55695,     0.55335,     0.53543,     0.52075,     0.51696,      0.5019,     0.48847,     0.47674,     0.46483,     0.46075,     0.44453,     0.44034,     0.43614,     0.43109,     0.42138,     0.41707,     0.41273,      0.4041,     0.39221,     0.38873,\n",
       "             0.3754,     0.36906,     0.36399,      0.3615,     0.35918,     0.34886,      0.3465,     0.30747,     0.30251,     0.29215,     0.28511,     0.27109,     0.25718,     0.24192,     0.23836,     0.23347,     0.21476,     0.20221,        0.19,     0.18113,     0.17827,     0.16725,     0.15748,\n",
       "            0.15014,     0.13998,     0.12324,     0.10801,    0.098911,    0.089735,    0.085528,    0.070314,    0.068476,    0.066635,    0.064316,    0.059995,    0.049271,    0.044883,    0.040476,    0.036048,    0.032861,    0.032119,    0.031376,    0.030632,    0.029889,    0.029144,    0.028399,\n",
       "           0.027653,    0.026907,    0.019035,    0.012242,    0.010292,   0.0083381,           0,           0,           0,           0,           0,           0,           0,           0,           0,           0,           0,           0,           0,           0,           0,           0,           0,\n",
       "                  0,           0,           0,           0,           0,           0,           0,           0,           0,           0,           0,           0,           0,           0,           0,           0,           0,           0,           0,           0,           0,           0,           0,\n",
       "                  0,           0,           0,           0,           0,           0,           0,           0,           0,           0,           0,           0,           0,           0,           0,           0,           0,           0,           0,           0,           0,           0,           0,\n",
       "                  0,           0,           0,           0,           0,           0,           0,           0,           0,           0,           0]]), 'Confidence', 'F1'], [array([          0,    0.001001,    0.002002,    0.003003,    0.004004,    0.005005,    0.006006,    0.007007,    0.008008,    0.009009,     0.01001,    0.011011,    0.012012,    0.013013,    0.014014,    0.015015,    0.016016,    0.017017,    0.018018,    0.019019,     0.02002,    0.021021,    0.022022,    0.023023,\n",
       "          0.024024,    0.025025,    0.026026,    0.027027,    0.028028,    0.029029,     0.03003,    0.031031,    0.032032,    0.033033,    0.034034,    0.035035,    0.036036,    0.037037,    0.038038,    0.039039,     0.04004,    0.041041,    0.042042,    0.043043,    0.044044,    0.045045,    0.046046,    0.047047,\n",
       "          0.048048,    0.049049,     0.05005,    0.051051,    0.052052,    0.053053,    0.054054,    0.055055,    0.056056,    0.057057,    0.058058,    0.059059,     0.06006,    0.061061,    0.062062,    0.063063,    0.064064,    0.065065,    0.066066,    0.067067,    0.068068,    0.069069,     0.07007,    0.071071,\n",
       "          0.072072,    0.073073,    0.074074,    0.075075,    0.076076,    0.077077,    0.078078,    0.079079,     0.08008,    0.081081,    0.082082,    0.083083,    0.084084,    0.085085,    0.086086,    0.087087,    0.088088,    0.089089,     0.09009,    0.091091,    0.092092,    0.093093,    0.094094,    0.095095,\n",
       "          0.096096,    0.097097,    0.098098,    0.099099,      0.1001,      0.1011,      0.1021,      0.1031,      0.1041,     0.10511,     0.10611,     0.10711,     0.10811,     0.10911,     0.11011,     0.11111,     0.11211,     0.11311,     0.11411,     0.11512,     0.11612,     0.11712,     0.11812,     0.11912,\n",
       "           0.12012,     0.12112,     0.12212,     0.12312,     0.12412,     0.12513,     0.12613,     0.12713,     0.12813,     0.12913,     0.13013,     0.13113,     0.13213,     0.13313,     0.13413,     0.13514,     0.13614,     0.13714,     0.13814,     0.13914,     0.14014,     0.14114,     0.14214,     0.14314,\n",
       "           0.14414,     0.14515,     0.14615,     0.14715,     0.14815,     0.14915,     0.15015,     0.15115,     0.15215,     0.15315,     0.15415,     0.15516,     0.15616,     0.15716,     0.15816,     0.15916,     0.16016,     0.16116,     0.16216,     0.16316,     0.16416,     0.16517,     0.16617,     0.16717,\n",
       "           0.16817,     0.16917,     0.17017,     0.17117,     0.17217,     0.17317,     0.17417,     0.17518,     0.17618,     0.17718,     0.17818,     0.17918,     0.18018,     0.18118,     0.18218,     0.18318,     0.18418,     0.18519,     0.18619,     0.18719,     0.18819,     0.18919,     0.19019,     0.19119,\n",
       "           0.19219,     0.19319,     0.19419,      0.1952,      0.1962,      0.1972,      0.1982,      0.1992,      0.2002,      0.2012,      0.2022,      0.2032,      0.2042,     0.20521,     0.20621,     0.20721,     0.20821,     0.20921,     0.21021,     0.21121,     0.21221,     0.21321,     0.21421,     0.21522,\n",
       "           0.21622,     0.21722,     0.21822,     0.21922,     0.22022,     0.22122,     0.22222,     0.22322,     0.22422,     0.22523,     0.22623,     0.22723,     0.22823,     0.22923,     0.23023,     0.23123,     0.23223,     0.23323,     0.23423,     0.23524,     0.23624,     0.23724,     0.23824,     0.23924,\n",
       "           0.24024,     0.24124,     0.24224,     0.24324,     0.24424,     0.24525,     0.24625,     0.24725,     0.24825,     0.24925,     0.25025,     0.25125,     0.25225,     0.25325,     0.25425,     0.25526,     0.25626,     0.25726,     0.25826,     0.25926,     0.26026,     0.26126,     0.26226,     0.26326,\n",
       "           0.26426,     0.26527,     0.26627,     0.26727,     0.26827,     0.26927,     0.27027,     0.27127,     0.27227,     0.27327,     0.27427,     0.27528,     0.27628,     0.27728,     0.27828,     0.27928,     0.28028,     0.28128,     0.28228,     0.28328,     0.28428,     0.28529,     0.28629,     0.28729,\n",
       "           0.28829,     0.28929,     0.29029,     0.29129,     0.29229,     0.29329,     0.29429,      0.2953,      0.2963,      0.2973,      0.2983,      0.2993,      0.3003,      0.3013,      0.3023,      0.3033,      0.3043,     0.30531,     0.30631,     0.30731,     0.30831,     0.30931,     0.31031,     0.31131,\n",
       "           0.31231,     0.31331,     0.31431,     0.31532,     0.31632,     0.31732,     0.31832,     0.31932,     0.32032,     0.32132,     0.32232,     0.32332,     0.32432,     0.32533,     0.32633,     0.32733,     0.32833,     0.32933,     0.33033,     0.33133,     0.33233,     0.33333,     0.33433,     0.33534,\n",
       "           0.33634,     0.33734,     0.33834,     0.33934,     0.34034,     0.34134,     0.34234,     0.34334,     0.34434,     0.34535,     0.34635,     0.34735,     0.34835,     0.34935,     0.35035,     0.35135,     0.35235,     0.35335,     0.35435,     0.35536,     0.35636,     0.35736,     0.35836,     0.35936,\n",
       "           0.36036,     0.36136,     0.36236,     0.36336,     0.36436,     0.36537,     0.36637,     0.36737,     0.36837,     0.36937,     0.37037,     0.37137,     0.37237,     0.37337,     0.37437,     0.37538,     0.37638,     0.37738,     0.37838,     0.37938,     0.38038,     0.38138,     0.38238,     0.38338,\n",
       "           0.38438,     0.38539,     0.38639,     0.38739,     0.38839,     0.38939,     0.39039,     0.39139,     0.39239,     0.39339,     0.39439,      0.3954,      0.3964,      0.3974,      0.3984,      0.3994,      0.4004,      0.4014,      0.4024,      0.4034,      0.4044,     0.40541,     0.40641,     0.40741,\n",
       "           0.40841,     0.40941,     0.41041,     0.41141,     0.41241,     0.41341,     0.41441,     0.41542,     0.41642,     0.41742,     0.41842,     0.41942,     0.42042,     0.42142,     0.42242,     0.42342,     0.42442,     0.42543,     0.42643,     0.42743,     0.42843,     0.42943,     0.43043,     0.43143,\n",
       "           0.43243,     0.43343,     0.43443,     0.43544,     0.43644,     0.43744,     0.43844,     0.43944,     0.44044,     0.44144,     0.44244,     0.44344,     0.44444,     0.44545,     0.44645,     0.44745,     0.44845,     0.44945,     0.45045,     0.45145,     0.45245,     0.45345,     0.45445,     0.45546,\n",
       "           0.45646,     0.45746,     0.45846,     0.45946,     0.46046,     0.46146,     0.46246,     0.46346,     0.46446,     0.46547,     0.46647,     0.46747,     0.46847,     0.46947,     0.47047,     0.47147,     0.47247,     0.47347,     0.47447,     0.47548,     0.47648,     0.47748,     0.47848,     0.47948,\n",
       "           0.48048,     0.48148,     0.48248,     0.48348,     0.48448,     0.48549,     0.48649,     0.48749,     0.48849,     0.48949,     0.49049,     0.49149,     0.49249,     0.49349,     0.49449,      0.4955,      0.4965,      0.4975,      0.4985,      0.4995,      0.5005,      0.5015,      0.5025,      0.5035,\n",
       "            0.5045,     0.50551,     0.50651,     0.50751,     0.50851,     0.50951,     0.51051,     0.51151,     0.51251,     0.51351,     0.51451,     0.51552,     0.51652,     0.51752,     0.51852,     0.51952,     0.52052,     0.52152,     0.52252,     0.52352,     0.52452,     0.52553,     0.52653,     0.52753,\n",
       "           0.52853,     0.52953,     0.53053,     0.53153,     0.53253,     0.53353,     0.53453,     0.53554,     0.53654,     0.53754,     0.53854,     0.53954,     0.54054,     0.54154,     0.54254,     0.54354,     0.54454,     0.54555,     0.54655,     0.54755,     0.54855,     0.54955,     0.55055,     0.55155,\n",
       "           0.55255,     0.55355,     0.55455,     0.55556,     0.55656,     0.55756,     0.55856,     0.55956,     0.56056,     0.56156,     0.56256,     0.56356,     0.56456,     0.56557,     0.56657,     0.56757,     0.56857,     0.56957,     0.57057,     0.57157,     0.57257,     0.57357,     0.57457,     0.57558,\n",
       "           0.57658,     0.57758,     0.57858,     0.57958,     0.58058,     0.58158,     0.58258,     0.58358,     0.58458,     0.58559,     0.58659,     0.58759,     0.58859,     0.58959,     0.59059,     0.59159,     0.59259,     0.59359,     0.59459,      0.5956,      0.5966,      0.5976,      0.5986,      0.5996,\n",
       "            0.6006,      0.6016,      0.6026,      0.6036,      0.6046,     0.60561,     0.60661,     0.60761,     0.60861,     0.60961,     0.61061,     0.61161,     0.61261,     0.61361,     0.61461,     0.61562,     0.61662,     0.61762,     0.61862,     0.61962,     0.62062,     0.62162,     0.62262,     0.62362,\n",
       "           0.62462,     0.62563,     0.62663,     0.62763,     0.62863,     0.62963,     0.63063,     0.63163,     0.63263,     0.63363,     0.63463,     0.63564,     0.63664,     0.63764,     0.63864,     0.63964,     0.64064,     0.64164,     0.64264,     0.64364,     0.64464,     0.64565,     0.64665,     0.64765,\n",
       "           0.64865,     0.64965,     0.65065,     0.65165,     0.65265,     0.65365,     0.65465,     0.65566,     0.65666,     0.65766,     0.65866,     0.65966,     0.66066,     0.66166,     0.66266,     0.66366,     0.66466,     0.66567,     0.66667,     0.66767,     0.66867,     0.66967,     0.67067,     0.67167,\n",
       "           0.67267,     0.67367,     0.67467,     0.67568,     0.67668,     0.67768,     0.67868,     0.67968,     0.68068,     0.68168,     0.68268,     0.68368,     0.68468,     0.68569,     0.68669,     0.68769,     0.68869,     0.68969,     0.69069,     0.69169,     0.69269,     0.69369,     0.69469,      0.6957,\n",
       "            0.6967,      0.6977,      0.6987,      0.6997,      0.7007,      0.7017,      0.7027,      0.7037,      0.7047,     0.70571,     0.70671,     0.70771,     0.70871,     0.70971,     0.71071,     0.71171,     0.71271,     0.71371,     0.71471,     0.71572,     0.71672,     0.71772,     0.71872,     0.71972,\n",
       "           0.72072,     0.72172,     0.72272,     0.72372,     0.72472,     0.72573,     0.72673,     0.72773,     0.72873,     0.72973,     0.73073,     0.73173,     0.73273,     0.73373,     0.73473,     0.73574,     0.73674,     0.73774,     0.73874,     0.73974,     0.74074,     0.74174,     0.74274,     0.74374,\n",
       "           0.74474,     0.74575,     0.74675,     0.74775,     0.74875,     0.74975,     0.75075,     0.75175,     0.75275,     0.75375,     0.75475,     0.75576,     0.75676,     0.75776,     0.75876,     0.75976,     0.76076,     0.76176,     0.76276,     0.76376,     0.76476,     0.76577,     0.76677,     0.76777,\n",
       "           0.76877,     0.76977,     0.77077,     0.77177,     0.77277,     0.77377,     0.77477,     0.77578,     0.77678,     0.77778,     0.77878,     0.77978,     0.78078,     0.78178,     0.78278,     0.78378,     0.78478,     0.78579,     0.78679,     0.78779,     0.78879,     0.78979,     0.79079,     0.79179,\n",
       "           0.79279,     0.79379,     0.79479,      0.7958,      0.7968,      0.7978,      0.7988,      0.7998,      0.8008,      0.8018,      0.8028,      0.8038,      0.8048,     0.80581,     0.80681,     0.80781,     0.80881,     0.80981,     0.81081,     0.81181,     0.81281,     0.81381,     0.81481,     0.81582,\n",
       "           0.81682,     0.81782,     0.81882,     0.81982,     0.82082,     0.82182,     0.82282,     0.82382,     0.82482,     0.82583,     0.82683,     0.82783,     0.82883,     0.82983,     0.83083,     0.83183,     0.83283,     0.83383,     0.83483,     0.83584,     0.83684,     0.83784,     0.83884,     0.83984,\n",
       "           0.84084,     0.84184,     0.84284,     0.84384,     0.84484,     0.84585,     0.84685,     0.84785,     0.84885,     0.84985,     0.85085,     0.85185,     0.85285,     0.85385,     0.85485,     0.85586,     0.85686,     0.85786,     0.85886,     0.85986,     0.86086,     0.86186,     0.86286,     0.86386,\n",
       "           0.86486,     0.86587,     0.86687,     0.86787,     0.86887,     0.86987,     0.87087,     0.87187,     0.87287,     0.87387,     0.87487,     0.87588,     0.87688,     0.87788,     0.87888,     0.87988,     0.88088,     0.88188,     0.88288,     0.88388,     0.88488,     0.88589,     0.88689,     0.88789,\n",
       "           0.88889,     0.88989,     0.89089,     0.89189,     0.89289,     0.89389,     0.89489,      0.8959,      0.8969,      0.8979,      0.8989,      0.8999,      0.9009,      0.9019,      0.9029,      0.9039,      0.9049,     0.90591,     0.90691,     0.90791,     0.90891,     0.90991,     0.91091,     0.91191,\n",
       "           0.91291,     0.91391,     0.91491,     0.91592,     0.91692,     0.91792,     0.91892,     0.91992,     0.92092,     0.92192,     0.92292,     0.92392,     0.92492,     0.92593,     0.92693,     0.92793,     0.92893,     0.92993,     0.93093,     0.93193,     0.93293,     0.93393,     0.93493,     0.93594,\n",
       "           0.93694,     0.93794,     0.93894,     0.93994,     0.94094,     0.94194,     0.94294,     0.94394,     0.94494,     0.94595,     0.94695,     0.94795,     0.94895,     0.94995,     0.95095,     0.95195,     0.95295,     0.95395,     0.95495,     0.95596,     0.95696,     0.95796,     0.95896,     0.95996,\n",
       "           0.96096,     0.96196,     0.96296,     0.96396,     0.96496,     0.96597,     0.96697,     0.96797,     0.96897,     0.96997,     0.97097,     0.97197,     0.97297,     0.97397,     0.97497,     0.97598,     0.97698,     0.97798,     0.97898,     0.97998,     0.98098,     0.98198,     0.98298,     0.98398,\n",
       "           0.98498,     0.98599,     0.98699,     0.98799,     0.98899,     0.98999,     0.99099,     0.99199,     0.99299,     0.99399,     0.99499,       0.996,       0.997,       0.998,       0.999,           1]), array([[     0.6269,      0.6269,     0.70073,     0.75595,     0.77757,     0.78443,     0.79325,     0.80335,     0.81676,     0.82161,     0.82594,     0.83371,     0.83811,     0.84647,     0.84842,     0.84966,     0.85076,     0.85473,     0.86034,     0.86682,     0.87065,     0.87261,     0.87381,\n",
       "            0.87449,     0.87464,     0.88088,     0.88246,     0.88644,     0.89114,     0.89098,     0.89087,     0.89076,     0.89065,     0.89054,     0.89042,     0.89027,     0.89006,     0.88981,     0.88992,     0.89074,     0.89156,     0.89239,      0.8956,     0.89535,     0.89639,     0.89805,\n",
       "            0.90088,     0.90392,     0.90429,      0.9051,     0.90591,     0.90672,     0.91002,     0.90993,     0.90984,     0.90975,     0.91282,     0.91255,     0.91234,     0.91202,     0.91189,      0.9118,     0.91171,     0.91408,     0.91485,      0.9148,     0.91475,      0.9147,     0.91465,\n",
       "             0.9146,     0.91905,     0.92114,     0.92099,     0.92146,     0.92417,     0.92396,     0.92376,     0.92363,      0.9236,     0.92358,     0.92355,     0.92353,     0.92351,     0.92348,     0.92346,     0.92343,     0.92341,     0.92338,     0.92336,     0.92326,     0.92315,     0.92306,\n",
       "            0.92301,     0.92295,      0.9229,     0.92284,     0.92279,     0.92268,     0.92258,     0.92244,     0.92223,     0.92244,     0.92268,     0.92291,     0.92315,     0.92338,     0.92362,     0.92386,     0.92409,     0.92433,     0.92456,      0.9248,     0.92503,     0.92527,      0.9255,\n",
       "            0.92581,     0.92623,     0.92665,     0.92707,      0.9275,     0.92792,     0.92834,     0.92877,      0.9291,     0.92905,     0.92901,     0.92896,     0.92892,     0.92887,     0.92882,     0.92876,     0.92869,     0.92862,     0.92879,      0.9299,       0.931,     0.93561,     0.93557,\n",
       "            0.93554,     0.93551,     0.93548,     0.93544,     0.93541,     0.93538,     0.93528,     0.93511,     0.93505,     0.93499,     0.93492,     0.93486,     0.93481,     0.93476,     0.93471,     0.93466,     0.93461,     0.93451,     0.93441,     0.93498,     0.93612,     0.93726,      0.9378,\n",
       "            0.93796,     0.93821,     0.93846,     0.93871,     0.93897,     0.93922,     0.93947,     0.93972,     0.93997,     0.94022,     0.94047,     0.94072,     0.94097,     0.94122,      0.9418,      0.9434,     0.94499,     0.94508,     0.94506,     0.94503,     0.94501,     0.94499,     0.94497,\n",
       "            0.94495,     0.94492,      0.9449,     0.94489,     0.94502,     0.94516,      0.9453,     0.94543,     0.94557,      0.9457,     0.94584,     0.94597,     0.94611,     0.94624,     0.94638,     0.94652,     0.94665,     0.94679,     0.94692,     0.94706,     0.94719,     0.94733,     0.94746,\n",
       "             0.9476,     0.94773,     0.94787,     0.94801,     0.94814,     0.94828,     0.94841,     0.94855,     0.94909,     0.95006,     0.95102,     0.95199,     0.95237,     0.95236,     0.95235,     0.95234,     0.95233,     0.95231,      0.9523,     0.95229,     0.95228,     0.95227,     0.95225,\n",
       "            0.95224,     0.95223,     0.95222,      0.9522,     0.95219,     0.95218,     0.95217,     0.95216,     0.95215,     0.95214,     0.95213,     0.95212,     0.95211,      0.9521,     0.95209,     0.95208,     0.95207,     0.95206,     0.95205,     0.95204,     0.95203,     0.95202,     0.95201,\n",
       "              0.952,     0.95199,     0.95199,     0.95198,     0.95198,     0.95197,     0.95196,     0.95196,     0.95195,     0.95194,     0.95194,     0.95193,     0.95193,     0.95192,     0.95191,     0.95191,      0.9519,      0.9519,     0.95189,     0.95188,     0.95188,     0.95187,     0.95186,\n",
       "            0.95186,     0.95185,     0.95185,     0.95184,     0.95183,     0.95183,     0.95182,     0.95182,     0.95181,     0.95202,     0.95236,      0.9527,     0.95304,     0.95339,     0.95373,     0.95407,     0.95441,     0.95475,      0.9551,     0.95544,     0.95564,     0.95562,      0.9556,\n",
       "            0.95558,     0.95556,     0.95555,     0.95553,     0.95551,     0.95549,     0.95547,     0.95544,     0.95539,     0.95535,     0.95531,     0.95526,      0.9552,     0.95515,     0.95508,     0.95532,     0.95647,     0.95762,     0.95877,     0.95884,     0.95884,     0.95883,     0.95882,\n",
       "            0.95882,     0.95881,     0.95881,      0.9588,     0.95879,     0.95879,     0.95878,     0.95877,     0.95877,     0.95876,     0.95876,     0.95875,     0.95874,     0.95874,     0.95873,     0.95873,     0.95872,     0.95871,     0.95871,      0.9587,      0.9587,     0.95869,     0.95868,\n",
       "            0.95868,     0.95867,     0.95866,     0.95866,     0.95865,     0.95864,     0.95864,     0.95863,     0.95862,     0.95862,     0.95861,      0.9586,      0.9586,     0.95859,     0.95858,     0.95858,     0.95857,     0.95856,     0.95856,     0.95855,     0.95854,     0.95854,     0.95853,\n",
       "            0.95852,     0.95852,     0.95851,      0.9586,     0.95893,     0.95927,      0.9596,     0.95994,     0.96027,      0.9606,     0.96094,     0.96127,     0.96161,     0.96194,     0.96227,      0.9625,     0.96248,     0.96247,     0.96246,     0.96245,     0.96244,     0.96242,     0.96241,\n",
       "             0.9624,     0.96239,     0.96237,     0.96236,     0.96235,     0.96233,      0.9623,     0.96226,     0.96223,     0.96219,     0.96202,     0.96201,       0.962,       0.962,     0.96199,     0.96198,     0.96197,     0.96197,     0.96196,     0.96195,     0.96194,     0.96194,     0.96193,\n",
       "            0.96192,     0.96191,      0.9619,      0.9619,     0.96189,     0.96188,     0.96187,     0.96187,     0.96184,     0.96181,     0.96178,     0.96175,     0.96173,      0.9617,     0.96169,     0.96168,     0.96167,     0.96165,     0.96164,     0.96163,     0.96162,     0.96161,      0.9616,\n",
       "            0.96159,     0.96157,     0.96156,     0.96155,     0.96154,     0.96153,     0.96153,     0.96152,     0.96152,     0.96151,     0.96151,      0.9615,      0.9615,     0.96149,     0.96149,     0.96148,     0.96148,     0.96147,     0.96147,     0.96146,     0.96146,     0.96145,     0.96145,\n",
       "            0.96144,     0.96144,     0.96143,     0.96143,     0.96142,     0.96142,     0.96141,     0.96141,      0.9614,      0.9614,     0.96139,     0.96139,     0.96138,     0.96138,     0.96137,     0.96174,     0.96217,     0.96259,     0.96302,     0.96344,     0.96386,     0.96429,     0.96471,\n",
       "            0.96514,      0.9655,     0.96538,     0.96548,     0.96559,     0.96569,     0.96579,     0.96589,       0.966,      0.9661,      0.9662,      0.9663,     0.96641,     0.96651,     0.96661,     0.96671,     0.96682,     0.96692,     0.96702,     0.96712,     0.96723,     0.96733,     0.96743,\n",
       "            0.96753,     0.96764,     0.96774,     0.96784,     0.96794,     0.96804,     0.96815,     0.96825,     0.96835,     0.96845,     0.96856,     0.96866,     0.96876,     0.96886,     0.96897,     0.96907,     0.96917,     0.96927,     0.96938,     0.96948,     0.96956,     0.96956,     0.96955,\n",
       "            0.96955,     0.96954,     0.96954,     0.96953,     0.96953,     0.96952,     0.96952,     0.96951,     0.96951,      0.9695,      0.9695,     0.96949,     0.96949,     0.96948,     0.96948,     0.96947,     0.96946,     0.96946,     0.96945,     0.96945,     0.96944,     0.96944,     0.96943,\n",
       "            0.96938,     0.96931,      0.9693,     0.96929,     0.96929,     0.96928,     0.96928,     0.96928,     0.96927,     0.96927,     0.96927,     0.96926,     0.96926,     0.96926,     0.96925,     0.96925,     0.96924,     0.96924,     0.96924,     0.96923,     0.96923,     0.96923,     0.96922,\n",
       "            0.96922,     0.96921,     0.96921,     0.96921,      0.9692,      0.9692,      0.9692,     0.96919,     0.96919,     0.96919,     0.96918,     0.96918,     0.96917,     0.96917,     0.96917,     0.96916,     0.96916,     0.96915,     0.96915,     0.96914,     0.96914,     0.96913,     0.96912,\n",
       "            0.96912,     0.96911,     0.96911,      0.9691,     0.96909,     0.96909,     0.96908,     0.96908,     0.96907,     0.96907,     0.96906,     0.96905,     0.96905,     0.96904,     0.96904,     0.96903,     0.96902,     0.96898,     0.96895,     0.96892,     0.96889,     0.96887,     0.96885,\n",
       "            0.96883,     0.96881,     0.96879,     0.96878,     0.96876,     0.96852,     0.96846,     0.96845,     0.96844,     0.96843,     0.96842,     0.96841,      0.9684,     0.96839,     0.96838,     0.96837,     0.96836,     0.96835,     0.96834,     0.96833,     0.96831,     0.96829,     0.96827,\n",
       "            0.96825,     0.96823,     0.96821,     0.96819,     0.96817,     0.96815,     0.96813,     0.96811,     0.96809,     0.96808,     0.96806,     0.96804,     0.96802,       0.968,     0.96797,     0.96795,     0.96793,     0.96791,     0.96789,     0.96784,     0.96779,     0.96773,     0.96763,\n",
       "             0.9679,     0.96837,     0.96883,     0.96929,     0.96975,     0.97021,     0.97067,     0.97113,     0.97159,     0.97206,     0.97206,     0.97202,     0.97198,     0.97196,     0.97195,     0.97193,     0.97192,     0.97191,      0.9719,     0.97189,     0.97188,     0.97187,     0.97186,\n",
       "            0.97184,     0.97183,      0.9718,     0.97176,     0.97172,     0.97168,     0.97163,     0.97159,     0.97142,     0.97141,     0.97139,     0.97138,     0.97137,     0.97135,     0.97134,     0.97132,     0.97131,      0.9713,      0.9711,     0.97103,     0.97099,     0.97096,     0.97094,\n",
       "            0.97091,     0.97088,     0.97086,     0.97085,     0.97084,     0.97083,     0.97082,     0.97081,     0.97079,     0.97078,     0.97077,     0.97076,     0.97075,     0.97074,     0.97072,      0.9707,     0.97068,     0.97066,     0.97065,     0.97063,     0.97061,     0.97059,      0.9705,\n",
       "             0.9704,      0.9703,     0.97025,      0.9702,     0.97015,     0.97005,     0.96999,     0.96996,     0.96994,     0.96992,     0.96989,     0.96987,     0.96967,     0.96957,      0.9695,     0.96945,      0.9694,     0.96934,     0.96929,     0.96924,     0.96892,     0.96997,     0.97112,\n",
       "            0.97227,     0.97342,     0.97395,     0.97394,     0.97393,     0.97392,     0.97391,     0.97391,      0.9739,     0.97389,     0.97388,     0.97387,     0.97386,     0.97385,     0.97384,     0.97383,      0.9738,     0.97374,     0.97369,     0.97359,      0.9735,     0.97347,     0.97703,\n",
       "            0.97859,     0.97856,     0.97853,      0.9785,     0.97846,     0.97842,     0.97836,     0.97828,     0.97817,     0.97957,      0.9814,     0.98324,     0.98344,     0.98337,     0.98333,     0.98332,     0.98331,      0.9833,     0.98329,     0.98328,     0.98327,     0.98325,     0.98324,\n",
       "            0.98318,     0.98303,     0.98299,      0.9885,     0.98847,     0.98845,     0.98827,     0.99408,     0.99406,     0.99404,     0.99403,     0.99401,     0.99399,     0.99396,     0.99385,     0.99378,     0.99376,     0.99371,     0.99355,     0.99352,     0.99335,      0.9933,     0.99328,\n",
       "            0.99326,     0.99319,     0.99314,      0.9931,     0.99308,     0.99306,     0.99301,     0.99296,     0.99294,     0.99292,     0.99288,     0.99283,     0.99267,     0.99258,     0.99255,     0.99246,     0.99244,     0.99228,     0.99224,     0.99211,     0.99205,     0.99186,     0.99184,\n",
       "            0.99182,     0.99157,           1,           1,           1,           1,           1,           1,           1,           1,           1,           1,           1,           1,           1,           1,           1,           1,           1,           1,           1,           1,           1,\n",
       "                  1,           1,           1,           1,           1,           1,           1,           1,           1,           1,           1,           1,           1,           1,           1,           1,           1,           1,           1,           1,           1,           1,           1,\n",
       "                  1,           1,           1,           1,           1,           1,           1,           1,           1,           1,           1,           1,           1,           1,           1,           1,           1,           1,           1,           1,           1,           1,           1,\n",
       "                  1,           1,           1,           1,           1,           1,           1,           1,           1,           1,           1,           1,           1,           1,           1,           1,           1,           1,           1,           1,           1,           1,           1,\n",
       "                  1,           1,           1,           1,           1,           1,           1,           1,           1,           1,           1,           1,           1,           1,           1,           1,           1,           1,           1,           1,           1,           1,           1,\n",
       "                  1,           1,           1,           1,           1,           1,           1,           1,           1,           1,           1,           1,           1,           1,           1,           1,           1,           1,           1,           1,           1,           1,           1,\n",
       "                  1,           1,           1,           1,           1,           1,           1,           1,           1,           1,           1]]), 'Confidence', 'Precision'], [array([          0,    0.001001,    0.002002,    0.003003,    0.004004,    0.005005,    0.006006,    0.007007,    0.008008,    0.009009,     0.01001,    0.011011,    0.012012,    0.013013,    0.014014,    0.015015,    0.016016,    0.017017,    0.018018,    0.019019,     0.02002,    0.021021,    0.022022,    0.023023,\n",
       "          0.024024,    0.025025,    0.026026,    0.027027,    0.028028,    0.029029,     0.03003,    0.031031,    0.032032,    0.033033,    0.034034,    0.035035,    0.036036,    0.037037,    0.038038,    0.039039,     0.04004,    0.041041,    0.042042,    0.043043,    0.044044,    0.045045,    0.046046,    0.047047,\n",
       "          0.048048,    0.049049,     0.05005,    0.051051,    0.052052,    0.053053,    0.054054,    0.055055,    0.056056,    0.057057,    0.058058,    0.059059,     0.06006,    0.061061,    0.062062,    0.063063,    0.064064,    0.065065,    0.066066,    0.067067,    0.068068,    0.069069,     0.07007,    0.071071,\n",
       "          0.072072,    0.073073,    0.074074,    0.075075,    0.076076,    0.077077,    0.078078,    0.079079,     0.08008,    0.081081,    0.082082,    0.083083,    0.084084,    0.085085,    0.086086,    0.087087,    0.088088,    0.089089,     0.09009,    0.091091,    0.092092,    0.093093,    0.094094,    0.095095,\n",
       "          0.096096,    0.097097,    0.098098,    0.099099,      0.1001,      0.1011,      0.1021,      0.1031,      0.1041,     0.10511,     0.10611,     0.10711,     0.10811,     0.10911,     0.11011,     0.11111,     0.11211,     0.11311,     0.11411,     0.11512,     0.11612,     0.11712,     0.11812,     0.11912,\n",
       "           0.12012,     0.12112,     0.12212,     0.12312,     0.12412,     0.12513,     0.12613,     0.12713,     0.12813,     0.12913,     0.13013,     0.13113,     0.13213,     0.13313,     0.13413,     0.13514,     0.13614,     0.13714,     0.13814,     0.13914,     0.14014,     0.14114,     0.14214,     0.14314,\n",
       "           0.14414,     0.14515,     0.14615,     0.14715,     0.14815,     0.14915,     0.15015,     0.15115,     0.15215,     0.15315,     0.15415,     0.15516,     0.15616,     0.15716,     0.15816,     0.15916,     0.16016,     0.16116,     0.16216,     0.16316,     0.16416,     0.16517,     0.16617,     0.16717,\n",
       "           0.16817,     0.16917,     0.17017,     0.17117,     0.17217,     0.17317,     0.17417,     0.17518,     0.17618,     0.17718,     0.17818,     0.17918,     0.18018,     0.18118,     0.18218,     0.18318,     0.18418,     0.18519,     0.18619,     0.18719,     0.18819,     0.18919,     0.19019,     0.19119,\n",
       "           0.19219,     0.19319,     0.19419,      0.1952,      0.1962,      0.1972,      0.1982,      0.1992,      0.2002,      0.2012,      0.2022,      0.2032,      0.2042,     0.20521,     0.20621,     0.20721,     0.20821,     0.20921,     0.21021,     0.21121,     0.21221,     0.21321,     0.21421,     0.21522,\n",
       "           0.21622,     0.21722,     0.21822,     0.21922,     0.22022,     0.22122,     0.22222,     0.22322,     0.22422,     0.22523,     0.22623,     0.22723,     0.22823,     0.22923,     0.23023,     0.23123,     0.23223,     0.23323,     0.23423,     0.23524,     0.23624,     0.23724,     0.23824,     0.23924,\n",
       "           0.24024,     0.24124,     0.24224,     0.24324,     0.24424,     0.24525,     0.24625,     0.24725,     0.24825,     0.24925,     0.25025,     0.25125,     0.25225,     0.25325,     0.25425,     0.25526,     0.25626,     0.25726,     0.25826,     0.25926,     0.26026,     0.26126,     0.26226,     0.26326,\n",
       "           0.26426,     0.26527,     0.26627,     0.26727,     0.26827,     0.26927,     0.27027,     0.27127,     0.27227,     0.27327,     0.27427,     0.27528,     0.27628,     0.27728,     0.27828,     0.27928,     0.28028,     0.28128,     0.28228,     0.28328,     0.28428,     0.28529,     0.28629,     0.28729,\n",
       "           0.28829,     0.28929,     0.29029,     0.29129,     0.29229,     0.29329,     0.29429,      0.2953,      0.2963,      0.2973,      0.2983,      0.2993,      0.3003,      0.3013,      0.3023,      0.3033,      0.3043,     0.30531,     0.30631,     0.30731,     0.30831,     0.30931,     0.31031,     0.31131,\n",
       "           0.31231,     0.31331,     0.31431,     0.31532,     0.31632,     0.31732,     0.31832,     0.31932,     0.32032,     0.32132,     0.32232,     0.32332,     0.32432,     0.32533,     0.32633,     0.32733,     0.32833,     0.32933,     0.33033,     0.33133,     0.33233,     0.33333,     0.33433,     0.33534,\n",
       "           0.33634,     0.33734,     0.33834,     0.33934,     0.34034,     0.34134,     0.34234,     0.34334,     0.34434,     0.34535,     0.34635,     0.34735,     0.34835,     0.34935,     0.35035,     0.35135,     0.35235,     0.35335,     0.35435,     0.35536,     0.35636,     0.35736,     0.35836,     0.35936,\n",
       "           0.36036,     0.36136,     0.36236,     0.36336,     0.36436,     0.36537,     0.36637,     0.36737,     0.36837,     0.36937,     0.37037,     0.37137,     0.37237,     0.37337,     0.37437,     0.37538,     0.37638,     0.37738,     0.37838,     0.37938,     0.38038,     0.38138,     0.38238,     0.38338,\n",
       "           0.38438,     0.38539,     0.38639,     0.38739,     0.38839,     0.38939,     0.39039,     0.39139,     0.39239,     0.39339,     0.39439,      0.3954,      0.3964,      0.3974,      0.3984,      0.3994,      0.4004,      0.4014,      0.4024,      0.4034,      0.4044,     0.40541,     0.40641,     0.40741,\n",
       "           0.40841,     0.40941,     0.41041,     0.41141,     0.41241,     0.41341,     0.41441,     0.41542,     0.41642,     0.41742,     0.41842,     0.41942,     0.42042,     0.42142,     0.42242,     0.42342,     0.42442,     0.42543,     0.42643,     0.42743,     0.42843,     0.42943,     0.43043,     0.43143,\n",
       "           0.43243,     0.43343,     0.43443,     0.43544,     0.43644,     0.43744,     0.43844,     0.43944,     0.44044,     0.44144,     0.44244,     0.44344,     0.44444,     0.44545,     0.44645,     0.44745,     0.44845,     0.44945,     0.45045,     0.45145,     0.45245,     0.45345,     0.45445,     0.45546,\n",
       "           0.45646,     0.45746,     0.45846,     0.45946,     0.46046,     0.46146,     0.46246,     0.46346,     0.46446,     0.46547,     0.46647,     0.46747,     0.46847,     0.46947,     0.47047,     0.47147,     0.47247,     0.47347,     0.47447,     0.47548,     0.47648,     0.47748,     0.47848,     0.47948,\n",
       "           0.48048,     0.48148,     0.48248,     0.48348,     0.48448,     0.48549,     0.48649,     0.48749,     0.48849,     0.48949,     0.49049,     0.49149,     0.49249,     0.49349,     0.49449,      0.4955,      0.4965,      0.4975,      0.4985,      0.4995,      0.5005,      0.5015,      0.5025,      0.5035,\n",
       "            0.5045,     0.50551,     0.50651,     0.50751,     0.50851,     0.50951,     0.51051,     0.51151,     0.51251,     0.51351,     0.51451,     0.51552,     0.51652,     0.51752,     0.51852,     0.51952,     0.52052,     0.52152,     0.52252,     0.52352,     0.52452,     0.52553,     0.52653,     0.52753,\n",
       "           0.52853,     0.52953,     0.53053,     0.53153,     0.53253,     0.53353,     0.53453,     0.53554,     0.53654,     0.53754,     0.53854,     0.53954,     0.54054,     0.54154,     0.54254,     0.54354,     0.54454,     0.54555,     0.54655,     0.54755,     0.54855,     0.54955,     0.55055,     0.55155,\n",
       "           0.55255,     0.55355,     0.55455,     0.55556,     0.55656,     0.55756,     0.55856,     0.55956,     0.56056,     0.56156,     0.56256,     0.56356,     0.56456,     0.56557,     0.56657,     0.56757,     0.56857,     0.56957,     0.57057,     0.57157,     0.57257,     0.57357,     0.57457,     0.57558,\n",
       "           0.57658,     0.57758,     0.57858,     0.57958,     0.58058,     0.58158,     0.58258,     0.58358,     0.58458,     0.58559,     0.58659,     0.58759,     0.58859,     0.58959,     0.59059,     0.59159,     0.59259,     0.59359,     0.59459,      0.5956,      0.5966,      0.5976,      0.5986,      0.5996,\n",
       "            0.6006,      0.6016,      0.6026,      0.6036,      0.6046,     0.60561,     0.60661,     0.60761,     0.60861,     0.60961,     0.61061,     0.61161,     0.61261,     0.61361,     0.61461,     0.61562,     0.61662,     0.61762,     0.61862,     0.61962,     0.62062,     0.62162,     0.62262,     0.62362,\n",
       "           0.62462,     0.62563,     0.62663,     0.62763,     0.62863,     0.62963,     0.63063,     0.63163,     0.63263,     0.63363,     0.63463,     0.63564,     0.63664,     0.63764,     0.63864,     0.63964,     0.64064,     0.64164,     0.64264,     0.64364,     0.64464,     0.64565,     0.64665,     0.64765,\n",
       "           0.64865,     0.64965,     0.65065,     0.65165,     0.65265,     0.65365,     0.65465,     0.65566,     0.65666,     0.65766,     0.65866,     0.65966,     0.66066,     0.66166,     0.66266,     0.66366,     0.66466,     0.66567,     0.66667,     0.66767,     0.66867,     0.66967,     0.67067,     0.67167,\n",
       "           0.67267,     0.67367,     0.67467,     0.67568,     0.67668,     0.67768,     0.67868,     0.67968,     0.68068,     0.68168,     0.68268,     0.68368,     0.68468,     0.68569,     0.68669,     0.68769,     0.68869,     0.68969,     0.69069,     0.69169,     0.69269,     0.69369,     0.69469,      0.6957,\n",
       "            0.6967,      0.6977,      0.6987,      0.6997,      0.7007,      0.7017,      0.7027,      0.7037,      0.7047,     0.70571,     0.70671,     0.70771,     0.70871,     0.70971,     0.71071,     0.71171,     0.71271,     0.71371,     0.71471,     0.71572,     0.71672,     0.71772,     0.71872,     0.71972,\n",
       "           0.72072,     0.72172,     0.72272,     0.72372,     0.72472,     0.72573,     0.72673,     0.72773,     0.72873,     0.72973,     0.73073,     0.73173,     0.73273,     0.73373,     0.73473,     0.73574,     0.73674,     0.73774,     0.73874,     0.73974,     0.74074,     0.74174,     0.74274,     0.74374,\n",
       "           0.74474,     0.74575,     0.74675,     0.74775,     0.74875,     0.74975,     0.75075,     0.75175,     0.75275,     0.75375,     0.75475,     0.75576,     0.75676,     0.75776,     0.75876,     0.75976,     0.76076,     0.76176,     0.76276,     0.76376,     0.76476,     0.76577,     0.76677,     0.76777,\n",
       "           0.76877,     0.76977,     0.77077,     0.77177,     0.77277,     0.77377,     0.77477,     0.77578,     0.77678,     0.77778,     0.77878,     0.77978,     0.78078,     0.78178,     0.78278,     0.78378,     0.78478,     0.78579,     0.78679,     0.78779,     0.78879,     0.78979,     0.79079,     0.79179,\n",
       "           0.79279,     0.79379,     0.79479,      0.7958,      0.7968,      0.7978,      0.7988,      0.7998,      0.8008,      0.8018,      0.8028,      0.8038,      0.8048,     0.80581,     0.80681,     0.80781,     0.80881,     0.80981,     0.81081,     0.81181,     0.81281,     0.81381,     0.81481,     0.81582,\n",
       "           0.81682,     0.81782,     0.81882,     0.81982,     0.82082,     0.82182,     0.82282,     0.82382,     0.82482,     0.82583,     0.82683,     0.82783,     0.82883,     0.82983,     0.83083,     0.83183,     0.83283,     0.83383,     0.83483,     0.83584,     0.83684,     0.83784,     0.83884,     0.83984,\n",
       "           0.84084,     0.84184,     0.84284,     0.84384,     0.84484,     0.84585,     0.84685,     0.84785,     0.84885,     0.84985,     0.85085,     0.85185,     0.85285,     0.85385,     0.85485,     0.85586,     0.85686,     0.85786,     0.85886,     0.85986,     0.86086,     0.86186,     0.86286,     0.86386,\n",
       "           0.86486,     0.86587,     0.86687,     0.86787,     0.86887,     0.86987,     0.87087,     0.87187,     0.87287,     0.87387,     0.87487,     0.87588,     0.87688,     0.87788,     0.87888,     0.87988,     0.88088,     0.88188,     0.88288,     0.88388,     0.88488,     0.88589,     0.88689,     0.88789,\n",
       "           0.88889,     0.88989,     0.89089,     0.89189,     0.89289,     0.89389,     0.89489,      0.8959,      0.8969,      0.8979,      0.8989,      0.8999,      0.9009,      0.9019,      0.9029,      0.9039,      0.9049,     0.90591,     0.90691,     0.90791,     0.90891,     0.90991,     0.91091,     0.91191,\n",
       "           0.91291,     0.91391,     0.91491,     0.91592,     0.91692,     0.91792,     0.91892,     0.91992,     0.92092,     0.92192,     0.92292,     0.92392,     0.92492,     0.92593,     0.92693,     0.92793,     0.92893,     0.92993,     0.93093,     0.93193,     0.93293,     0.93393,     0.93493,     0.93594,\n",
       "           0.93694,     0.93794,     0.93894,     0.93994,     0.94094,     0.94194,     0.94294,     0.94394,     0.94494,     0.94595,     0.94695,     0.94795,     0.94895,     0.94995,     0.95095,     0.95195,     0.95295,     0.95395,     0.95495,     0.95596,     0.95696,     0.95796,     0.95896,     0.95996,\n",
       "           0.96096,     0.96196,     0.96296,     0.96396,     0.96496,     0.96597,     0.96697,     0.96797,     0.96897,     0.96997,     0.97097,     0.97197,     0.97297,     0.97397,     0.97497,     0.97598,     0.97698,     0.97798,     0.97898,     0.97998,     0.98098,     0.98198,     0.98298,     0.98398,\n",
       "           0.98498,     0.98599,     0.98699,     0.98799,     0.98899,     0.98999,     0.99099,     0.99199,     0.99299,     0.99399,     0.99499,       0.996,       0.997,       0.998,       0.999,           1]), array([[    0.97306,     0.97306,      0.9596,      0.9596,     0.95286,     0.94949,     0.94613,     0.94276,     0.93603,     0.93043,     0.92929,     0.92846,     0.92386,     0.91919,     0.91919,     0.91919,     0.91582,     0.91582,     0.91582,     0.91582,     0.91582,     0.91582,     0.91582,\n",
       "            0.91491,     0.91246,     0.91246,     0.91246,     0.91246,     0.90961,     0.90809,     0.90705,     0.90601,     0.90497,     0.90393,     0.90289,     0.90144,     0.89957,     0.89726,     0.89562,     0.89562,     0.89562,     0.89562,     0.89536,     0.89301,     0.89226,     0.89226,\n",
       "            0.89226,     0.88696,     0.88552,     0.88552,     0.88552,     0.88552,     0.88533,     0.88439,     0.88344,      0.8825,     0.88138,     0.87833,     0.87608,     0.87263,      0.8712,     0.87019,     0.86919,     0.86869,     0.86822,     0.86767,     0.86711,     0.86655,     0.86599,\n",
       "            0.86543,     0.86532,     0.86527,     0.86343,     0.86195,      0.8617,     0.85919,     0.85668,      0.8551,      0.8548,     0.85451,     0.85422,     0.85393,     0.85364,     0.85334,     0.85305,     0.85276,     0.85247,     0.85218,     0.85188,     0.85068,     0.84936,     0.84827,\n",
       "            0.84763,     0.84699,     0.84635,      0.8457,     0.84501,     0.84378,     0.84256,     0.84093,     0.83852,     0.83838,     0.83838,     0.83838,     0.83838,     0.83838,     0.83838,     0.83838,     0.83838,     0.83838,     0.83838,     0.83838,     0.83838,     0.83838,     0.83838,\n",
       "            0.83838,     0.83838,     0.83838,     0.83838,     0.83838,     0.83838,     0.83838,     0.83838,     0.83827,     0.83771,     0.83715,     0.83658,     0.83602,     0.83545,     0.83483,     0.83399,     0.83316,     0.83232,     0.83165,     0.83165,     0.83165,     0.83164,     0.83119,\n",
       "            0.83075,      0.8303,     0.82986,     0.82941,     0.82897,     0.82852,     0.82721,     0.82491,     0.82405,     0.82319,     0.82232,     0.82148,     0.82081,     0.82013,     0.81946,     0.81879,     0.81805,     0.81673,     0.81542,     0.81481,     0.81481,     0.81481,     0.81226,\n",
       "            0.81145,     0.81145,     0.81145,     0.81145,     0.81145,     0.81145,     0.81145,     0.81145,     0.81145,     0.81145,     0.81145,     0.81145,     0.81145,     0.81145,     0.81145,     0.81145,     0.81145,     0.81113,     0.81079,     0.81045,     0.81011,     0.80977,     0.80943,\n",
       "            0.80909,     0.80874,      0.8084,     0.80808,     0.80808,     0.80808,     0.80808,     0.80808,     0.80808,     0.80808,     0.80808,     0.80808,     0.80808,     0.80808,     0.80808,     0.80808,     0.80808,     0.80808,     0.80808,     0.80808,     0.80808,     0.80808,     0.80808,\n",
       "            0.80808,     0.80808,     0.80808,     0.80808,     0.80808,     0.80808,     0.80808,     0.80808,     0.80808,     0.80808,     0.80808,     0.80808,     0.80795,     0.80774,     0.80753,     0.80731,      0.8071,     0.80688,     0.80667,     0.80646,     0.80624,     0.80603,     0.80581,\n",
       "             0.8056,     0.80539,     0.80517,     0.80496,     0.80474,     0.80456,     0.80438,      0.8042,     0.80402,     0.80384,     0.80366,     0.80348,      0.8033,     0.80313,     0.80295,     0.80277,     0.80259,     0.80241,     0.80223,     0.80205,     0.80187,     0.80169,     0.80151,\n",
       "            0.80134,     0.80123,     0.80112,     0.80102,     0.80091,      0.8008,      0.8007,     0.80059,     0.80048,     0.80038,     0.80027,     0.80016,     0.80005,     0.79995,     0.79984,     0.79973,     0.79963,     0.79952,     0.79941,     0.79931,      0.7992,     0.79909,     0.79898,\n",
       "            0.79888,     0.79877,     0.79866,     0.79856,     0.79845,     0.79834,     0.79823,     0.79813,     0.79802,     0.79798,     0.79798,     0.79798,     0.79798,     0.79798,     0.79798,     0.79798,     0.79798,     0.79798,     0.79798,     0.79798,     0.79784,      0.7975,     0.79715,\n",
       "            0.79681,     0.79646,     0.79612,     0.79577,     0.79543,     0.79508,     0.79474,     0.79409,     0.79328,     0.79247,     0.79166,     0.79076,     0.78977,     0.78879,     0.78751,     0.78451,     0.78451,     0.78451,     0.78451,      0.7844,     0.78428,     0.78416,     0.78404,\n",
       "            0.78391,     0.78379,     0.78367,     0.78355,     0.78343,     0.78331,     0.78319,     0.78307,     0.78295,     0.78282,      0.7827,     0.78258,     0.78246,     0.78234,     0.78222,      0.7821,     0.78198,     0.78186,     0.78173,     0.78161,     0.78149,     0.78137,     0.78125,\n",
       "            0.78113,       0.781,     0.78087,     0.78074,     0.78061,     0.78048,     0.78035,     0.78022,     0.78009,     0.77996,     0.77983,      0.7797,     0.77956,     0.77943,      0.7793,     0.77917,     0.77904,     0.77891,     0.77878,     0.77865,     0.77852,     0.77839,     0.77826,\n",
       "            0.77813,       0.778,     0.77787,     0.77778,     0.77778,     0.77778,     0.77778,     0.77778,     0.77778,     0.77778,     0.77778,     0.77778,     0.77778,     0.77778,     0.77778,     0.77769,     0.77743,     0.77717,     0.77691,     0.77665,     0.77639,     0.77613,     0.77587,\n",
       "            0.77561,     0.77535,     0.77509,     0.77483,     0.77457,     0.77412,     0.77339,     0.77267,     0.77194,     0.77121,     0.76755,     0.76739,     0.76723,     0.76707,     0.76691,     0.76675,     0.76659,     0.76643,     0.76627,     0.76611,     0.76595,     0.76579,     0.76563,\n",
       "            0.76547,     0.76531,     0.76515,     0.76499,     0.76482,     0.76466,      0.7645,     0.76434,     0.76384,     0.76323,     0.76263,     0.76203,     0.76143,      0.7609,     0.76067,     0.76043,      0.7602,     0.75996,     0.75973,      0.7595,     0.75926,     0.75903,     0.75879,\n",
       "            0.75856,     0.75833,     0.75809,     0.75786,     0.75762,     0.75749,     0.75739,     0.75729,     0.75719,     0.75709,     0.75698,     0.75688,     0.75678,     0.75668,     0.75657,     0.75647,     0.75637,     0.75627,     0.75617,     0.75606,     0.75596,     0.75586,     0.75576,\n",
       "            0.75565,     0.75555,     0.75545,     0.75535,     0.75525,     0.75514,     0.75504,     0.75494,     0.75484,     0.75473,     0.75463,     0.75453,     0.75443,     0.75432,     0.75422,     0.75421,     0.75421,     0.75421,     0.75421,     0.75421,     0.75421,     0.75421,     0.75421,\n",
       "            0.75421,     0.75383,     0.75084,     0.75084,     0.75084,     0.75084,     0.75084,     0.75084,     0.75084,     0.75084,     0.75084,     0.75084,     0.75084,     0.75084,     0.75084,     0.75084,     0.75084,     0.75084,     0.75084,     0.75084,     0.75084,     0.75084,     0.75084,\n",
       "            0.75084,     0.75084,     0.75084,     0.75084,     0.75084,     0.75084,     0.75084,     0.75084,     0.75084,     0.75084,     0.75084,     0.75084,     0.75084,     0.75084,     0.75084,     0.75084,     0.75084,     0.75084,     0.75084,     0.75084,     0.75082,     0.75069,     0.75056,\n",
       "            0.75042,     0.75029,     0.75016,     0.75002,     0.74989,     0.74976,     0.74963,     0.74949,     0.74936,     0.74923,     0.74909,     0.74896,     0.74883,      0.7487,     0.74856,     0.74843,      0.7483,     0.74817,     0.74803,      0.7479,     0.74777,     0.74763,      0.7475,\n",
       "             0.7461,     0.74438,     0.74403,     0.74394,     0.74385,     0.74376,     0.74367,     0.74358,     0.74349,      0.7434,      0.7433,     0.74321,     0.74312,     0.74303,     0.74294,     0.74285,     0.74276,     0.74267,     0.74258,     0.74249,      0.7424,     0.74231,     0.74221,\n",
       "            0.74212,     0.74203,     0.74194,     0.74185,     0.74176,     0.74167,     0.74158,     0.74149,      0.7414,     0.74131,     0.74122,     0.74112,     0.74103,     0.74094,     0.74085,     0.74076,     0.74063,     0.74049,     0.74034,      0.7402,     0.74005,     0.73991,     0.73977,\n",
       "            0.73962,     0.73948,     0.73934,     0.73919,     0.73905,      0.7389,     0.73876,     0.73862,     0.73847,     0.73833,     0.73819,     0.73804,      0.7379,     0.73775,     0.73761,     0.73747,      0.7371,     0.73633,     0.73557,      0.7348,     0.73403,     0.73356,      0.7331,\n",
       "            0.73264,     0.73218,     0.73172,     0.73126,      0.7308,     0.72503,     0.72374,     0.72349,     0.72325,       0.723,     0.72275,     0.72251,     0.72226,     0.72201,     0.72177,     0.72152,     0.72127,     0.72103,     0.72078,     0.72053,     0.72007,     0.71961,     0.71915,\n",
       "            0.71869,     0.71823,     0.71777,     0.71731,     0.71687,     0.71644,     0.71601,     0.71558,     0.71514,     0.71471,     0.71428,     0.71385,     0.71336,     0.71287,     0.71238,     0.71188,     0.71139,      0.7109,     0.71036,     0.70921,     0.70806,     0.70675,     0.70445,\n",
       "             0.7037,      0.7037,      0.7037,      0.7037,      0.7037,      0.7037,      0.7037,      0.7037,      0.7037,      0.7037,      0.7028,     0.70181,     0.70083,     0.70019,      0.6999,     0.69962,     0.69933,     0.69904,     0.69875,     0.69847,     0.69818,     0.69789,      0.6976,\n",
       "            0.69732,     0.69703,     0.69618,      0.6952,     0.69421,     0.69316,     0.69201,     0.69086,     0.68671,     0.68637,     0.68602,     0.68568,     0.68533,     0.68499,     0.68464,      0.6843,     0.68395,     0.68361,     0.67893,      0.6772,     0.67625,     0.67556,     0.67487,\n",
       "            0.67418,     0.67349,     0.67316,     0.67288,     0.67261,     0.67233,     0.67206,     0.67178,      0.6715,     0.67123,     0.67095,     0.67068,      0.6704,     0.67012,     0.66974,     0.66931,     0.66888,     0.66845,     0.66802,     0.66758,     0.66715,     0.66672,     0.66466,\n",
       "            0.66236,     0.66006,     0.65885,      0.6577,     0.65652,     0.65422,      0.6529,     0.65237,     0.65184,     0.65131,     0.65078,     0.65025,     0.64597,     0.64367,     0.64223,     0.64108,     0.63993,     0.63878,     0.63763,     0.63648,      0.6299,     0.62963,     0.62963,\n",
       "            0.62963,     0.62963,      0.6295,     0.62927,     0.62903,     0.62879,     0.62855,     0.62831,     0.62808,     0.62784,      0.6276,     0.62736,     0.62712,     0.62689,     0.62665,     0.62641,     0.62573,     0.62435,     0.62297,     0.62072,     0.61842,     0.61616,     0.61616,\n",
       "            0.61568,     0.61482,     0.61396,     0.61309,     0.61189,     0.61051,     0.60893,     0.60663,     0.60347,     0.60269,     0.60269,     0.60269,     0.59976,     0.59732,      0.5958,     0.59542,     0.59504,     0.59465,     0.59427,     0.59389,      0.5935,     0.59312,     0.59273,\n",
       "            0.59042,     0.58496,     0.58358,     0.57883,     0.57745,     0.57607,     0.56724,     0.56512,     0.56339,     0.56179,     0.56041,     0.55903,      0.5568,     0.55397,     0.54379,     0.53802,     0.53664,     0.53175,      0.5183,       0.516,     0.50288,     0.49943,     0.49738,\n",
       "              0.496,     0.49076,      0.4873,     0.48445,     0.48307,     0.48169,     0.47855,      0.4751,     0.47351,     0.47213,     0.46979,     0.46634,     0.45616,     0.45026,     0.44853,     0.44344,     0.44172,     0.43289,      0.4304,     0.42358,     0.42013,      0.4105,     0.40935,\n",
       "             0.4082,     0.39622,     0.38941,     0.38595,      0.3825,     0.36558,     0.35203,     0.34858,     0.33503,     0.32316,     0.31297,     0.30279,     0.29934,     0.28579,     0.28233,     0.27888,     0.27477,     0.26693,     0.26348,     0.26003,     0.25321,     0.24395,     0.24126,\n",
       "            0.23107,     0.22628,     0.22249,     0.22063,      0.2189,     0.21128,     0.20956,     0.18166,     0.17821,     0.17106,     0.16626,      0.1568,     0.14757,      0.1376,      0.1353,     0.13216,      0.1203,     0.11248,     0.10498,    0.099584,    0.097858,    0.091255,    0.085472,\n",
       "           0.081162,    0.075258,    0.065665,    0.057087,    0.052028,    0.046975,    0.044674,    0.036438,    0.035452,    0.034466,    0.033226,    0.030925,    0.025258,    0.022957,    0.020656,    0.018355,    0.016705,    0.016321,    0.015938,    0.015554,    0.015171,    0.014788,    0.014404,\n",
       "           0.014021,    0.013637,   0.0096089,   0.0061586,   0.0051726,   0.0041865,           0,           0,           0,           0,           0,           0,           0,           0,           0,           0,           0,           0,           0,           0,           0,           0,           0,\n",
       "                  0,           0,           0,           0,           0,           0,           0,           0,           0,           0,           0,           0,           0,           0,           0,           0,           0,           0,           0,           0,           0,           0,           0,\n",
       "                  0,           0,           0,           0,           0,           0,           0,           0,           0,           0,           0,           0,           0,           0,           0,           0,           0,           0,           0,           0,           0,           0,           0,\n",
       "                  0,           0,           0,           0,           0,           0,           0,           0,           0,           0,           0]]), 'Confidence', 'Recall']]\n",
       "fitness: 0.6598531405737631\n",
       "keys: ['metrics/precision(B)', 'metrics/recall(B)', 'metrics/mAP50(B)', 'metrics/mAP50-95(B)']\n",
       "maps: array([    0.62753])\n",
       "names: {0: 'baseball'}\n",
       "plot: True\n",
       "results_dict: {'metrics/precision(B)': 0.9140781259418955, 'metrics/recall(B)': 0.8686868686868687, 'metrics/mAP50(B)': 0.9507845492834275, 'metrics/mAP50-95(B)': 0.6275274284949115, 'fitness': 0.6598531405737631}\n",
       "save_dir: PosixPath('runs/detect/train13')\n",
       "speed: {'preprocess': 0.1594222932900981, 'inference': 3.851812992635082, 'loss': 0.0003438779522016553, 'postprocess': 0.6018827996337194}\n",
       "task: 'detect'"
      ]
     },
     "execution_count": 6,
     "metadata": {},
     "output_type": "execute_result"
    }
   ],
   "source": [
    "from ultralytics import YOLO, settings\n",
    "\n",
    "settings.update({\"datasets_dir\": \"/home/niquach/private/AI-Pitch-Recognition/\"})\n",
    "# private/AI-Pitch-Recognition/baseball-detection-2-4/baseball-detection-2-4\n",
    "\n",
    "# Load model\n",
    "model = YOLO(\"yolov5su.pt\").to(device)\n",
    "\n",
    "# Train model\n",
    "model.train(\n",
    "    data=\"baseball-detection-2-4/data.yaml\",\n",
    "    epochs=100,\n",
    "    imgsz=540,\n",
    ")"
   ]
  },
  {
   "cell_type": "code",
   "execution_count": 7,
   "metadata": {},
   "outputs": [
    {
     "name": "stdout",
     "output_type": "stream",
     "text": [
      "/bin/bash: line 1: yolo: command not found\n"
     ]
    }
   ],
   "source": [
    "# !yolo task=detect mode=predict model=runs/detect/train13 source=\"pitch_test.png\""
   ]
  },
  {
   "cell_type": "code",
   "execution_count": 21,
   "metadata": {},
   "outputs": [
    {
     "name": "stdout",
     "output_type": "stream",
     "text": [
      "\n",
      "image 1/1 /home/niquach/private/AI-Pitch-Recognition/baseball-detection-2-4/baseball-detection-2-4/test/images/1088_jpg.rf.eff4a1f2c0658d8907bde8374caa2c0f.jpg: 544x544 (no detections), 13.5ms\n",
      "Speed: 3.1ms preprocess, 13.5ms inference, 0.7ms postprocess per image at shape (1, 3, 544, 544)\n",
      "Results saved to \u001b[1mruns/detect/predict4\u001b[0m\n"
     ]
    }
   ],
   "source": [
    "from ultralytics import YOLO\n",
    "\n",
    "model = YOLO(\"runs/detect/train13/weights/best.pt\")\n",
    "# results = model.predict(source=\"baseball-detection-2-4/baseball-detection-2-4/test/images/0eb9ef3c-255_jpg.rf.a9da7151055bf3395bedbdc72c61c4e3.jpg\", task=\"detect\", save=True)\n",
    "results = model.predict(source=\"baseball-detection-2-4/baseball-detection-2-4/test/images/1088_jpg.rf.eff4a1f2c0658d8907bde8374caa2c0f.jpg\", task=\"detect\", save=True)\n",
    "\n"
   ]
  },
  {
   "cell_type": "code",
   "execution_count": null,
   "metadata": {},
   "outputs": [],
   "source": []
  }
 ],
 "metadata": {
  "kernelspec": {
   "display_name": "Python 3 (ipykernel)",
   "language": "python",
   "name": "python3"
  },
  "language_info": {
   "codemirror_mode": {
    "name": "ipython",
    "version": 3
   },
   "file_extension": ".py",
   "mimetype": "text/x-python",
   "name": "python",
   "nbconvert_exporter": "python",
   "pygments_lexer": "ipython3",
   "version": "3.11.9"
  }
 },
 "nbformat": 4,
 "nbformat_minor": 4
}
