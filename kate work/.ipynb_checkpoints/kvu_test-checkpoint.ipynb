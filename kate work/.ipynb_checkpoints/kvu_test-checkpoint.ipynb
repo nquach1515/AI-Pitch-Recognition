{
 "cells": [
  {
   "cell_type": "code",
   "execution_count": 1,
   "id": "3b8de739-35e4-4a0e-b8e3-71960d5852f9",
   "metadata": {},
   "outputs": [
    {
     "name": "stdout",
     "output_type": "stream",
     "text": [
      "Downloading https://github.com/ultralytics/assets/releases/download/v8.3.0/yolov8x.pt to 'yolov8x.pt'...\n"
     ]
    },
    {
     "name": "stderr",
     "output_type": "stream",
     "text": [
      "100%|██████████| 131M/131M [00:02<00:00, 55.3MB/s] \n"
     ]
    },
    {
     "name": "stdout",
     "output_type": "stream",
     "text": [
      "\n",
      "image 1/1 /home/kmvu/private/AI-Pitch-Recognition/kate work/videos/image.png: 416x640 12 persons, 2 baseball gloves, 85.7ms\n",
      "Speed: 8.5ms preprocess, 85.7ms inference, 540.5ms postprocess per image at shape (1, 3, 416, 640)\n",
      "Results saved to \u001b[1mruns/detect/predict3\u001b[0m\n"
     ]
    }
   ],
   "source": [
    "from ultralytics import YOLO, settings\n",
    "\n",
    "model = YOLO('yolov8x')\n",
    "\n",
    "result = model.predict('videos/image.png', save=True)"
   ]
  },
  {
   "cell_type": "code",
   "execution_count": 6,
   "id": "3c70880b-1b6c-475d-9472-4539c332e96e",
   "metadata": {},
   "outputs": [
    {
     "name": "stdout",
     "output_type": "stream",
     "text": [
      "\n",
      "\n",
      "WARNING ⚠️ inference results will accumulate in RAM unless `stream=True` is passed, causing potential out-of-memory\n",
      "errors for large sources or long-running streams and videos. See https://docs.ultralytics.com/modes/predict/ for help.\n",
      "\n",
      "Example:\n",
      "    results = model(source=..., stream=True)  # generator of Results objects\n",
      "    for r in results:\n",
      "        boxes = r.boxes  # Boxes object for bbox outputs\n",
      "        masks = r.masks  # Masks object for segment masks outputs\n",
      "        probs = r.probs  # Class probabilities for classification outputs\n",
      "\n",
      "video 1/1 (frame 1/79) /home/kmvu/private/AI-Pitch-Recognition/kate work/../pitch_vid_test.mp4: 320x544 (no detections), 22.2ms\n",
      "video 1/1 (frame 2/79) /home/kmvu/private/AI-Pitch-Recognition/kate work/../pitch_vid_test.mp4: 320x544 (no detections), 14.4ms\n",
      "video 1/1 (frame 3/79) /home/kmvu/private/AI-Pitch-Recognition/kate work/../pitch_vid_test.mp4: 320x544 (no detections), 9.4ms\n",
      "video 1/1 (frame 4/79) /home/kmvu/private/AI-Pitch-Recognition/kate work/../pitch_vid_test.mp4: 320x544 (no detections), 9.0ms\n",
      "video 1/1 (frame 5/79) /home/kmvu/private/AI-Pitch-Recognition/kate work/../pitch_vid_test.mp4: 320x544 (no detections), 9.5ms\n",
      "video 1/1 (frame 6/79) /home/kmvu/private/AI-Pitch-Recognition/kate work/../pitch_vid_test.mp4: 320x544 (no detections), 9.3ms\n",
      "video 1/1 (frame 7/79) /home/kmvu/private/AI-Pitch-Recognition/kate work/../pitch_vid_test.mp4: 320x544 (no detections), 8.7ms\n",
      "video 1/1 (frame 8/79) /home/kmvu/private/AI-Pitch-Recognition/kate work/../pitch_vid_test.mp4: 320x544 (no detections), 9.0ms\n",
      "video 1/1 (frame 9/79) /home/kmvu/private/AI-Pitch-Recognition/kate work/../pitch_vid_test.mp4: 320x544 (no detections), 9.3ms\n",
      "video 1/1 (frame 10/79) /home/kmvu/private/AI-Pitch-Recognition/kate work/../pitch_vid_test.mp4: 320x544 (no detections), 9.7ms\n",
      "video 1/1 (frame 11/79) /home/kmvu/private/AI-Pitch-Recognition/kate work/../pitch_vid_test.mp4: 320x544 (no detections), 9.9ms\n",
      "video 1/1 (frame 12/79) /home/kmvu/private/AI-Pitch-Recognition/kate work/../pitch_vid_test.mp4: 320x544 (no detections), 10.1ms\n",
      "video 1/1 (frame 13/79) /home/kmvu/private/AI-Pitch-Recognition/kate work/../pitch_vid_test.mp4: 320x544 (no detections), 10.9ms\n",
      "video 1/1 (frame 14/79) /home/kmvu/private/AI-Pitch-Recognition/kate work/../pitch_vid_test.mp4: 320x544 (no detections), 12.4ms\n",
      "video 1/1 (frame 15/79) /home/kmvu/private/AI-Pitch-Recognition/kate work/../pitch_vid_test.mp4: 320x544 (no detections), 10.5ms\n",
      "video 1/1 (frame 16/79) /home/kmvu/private/AI-Pitch-Recognition/kate work/../pitch_vid_test.mp4: 320x544 (no detections), 9.2ms\n",
      "video 1/1 (frame 17/79) /home/kmvu/private/AI-Pitch-Recognition/kate work/../pitch_vid_test.mp4: 320x544 (no detections), 9.4ms\n",
      "video 1/1 (frame 18/79) /home/kmvu/private/AI-Pitch-Recognition/kate work/../pitch_vid_test.mp4: 320x544 (no detections), 9.1ms\n",
      "video 1/1 (frame 19/79) /home/kmvu/private/AI-Pitch-Recognition/kate work/../pitch_vid_test.mp4: 320x544 (no detections), 9.6ms\n",
      "video 1/1 (frame 20/79) /home/kmvu/private/AI-Pitch-Recognition/kate work/../pitch_vid_test.mp4: 320x544 (no detections), 10.3ms\n",
      "video 1/1 (frame 21/79) /home/kmvu/private/AI-Pitch-Recognition/kate work/../pitch_vid_test.mp4: 320x544 (no detections), 9.4ms\n",
      "video 1/1 (frame 22/79) /home/kmvu/private/AI-Pitch-Recognition/kate work/../pitch_vid_test.mp4: 320x544 (no detections), 9.1ms\n",
      "video 1/1 (frame 23/79) /home/kmvu/private/AI-Pitch-Recognition/kate work/../pitch_vid_test.mp4: 320x544 (no detections), 8.8ms\n",
      "video 1/1 (frame 24/79) /home/kmvu/private/AI-Pitch-Recognition/kate work/../pitch_vid_test.mp4: 320x544 (no detections), 9.1ms\n",
      "video 1/1 (frame 25/79) /home/kmvu/private/AI-Pitch-Recognition/kate work/../pitch_vid_test.mp4: 320x544 (no detections), 11.6ms\n",
      "video 1/1 (frame 26/79) /home/kmvu/private/AI-Pitch-Recognition/kate work/../pitch_vid_test.mp4: 320x544 (no detections), 9.4ms\n",
      "video 1/1 (frame 27/79) /home/kmvu/private/AI-Pitch-Recognition/kate work/../pitch_vid_test.mp4: 320x544 (no detections), 9.1ms\n",
      "video 1/1 (frame 28/79) /home/kmvu/private/AI-Pitch-Recognition/kate work/../pitch_vid_test.mp4: 320x544 (no detections), 11.1ms\n",
      "video 1/1 (frame 29/79) /home/kmvu/private/AI-Pitch-Recognition/kate work/../pitch_vid_test.mp4: 320x544 (no detections), 9.0ms\n",
      "video 1/1 (frame 30/79) /home/kmvu/private/AI-Pitch-Recognition/kate work/../pitch_vid_test.mp4: 320x544 (no detections), 9.7ms\n",
      "video 1/1 (frame 31/79) /home/kmvu/private/AI-Pitch-Recognition/kate work/../pitch_vid_test.mp4: 320x544 (no detections), 9.3ms\n",
      "video 1/1 (frame 32/79) /home/kmvu/private/AI-Pitch-Recognition/kate work/../pitch_vid_test.mp4: 320x544 1 baseball, 9.1ms\n",
      "video 1/1 (frame 33/79) /home/kmvu/private/AI-Pitch-Recognition/kate work/../pitch_vid_test.mp4: 320x544 2 baseballs, 9.1ms\n",
      "video 1/1 (frame 34/79) /home/kmvu/private/AI-Pitch-Recognition/kate work/../pitch_vid_test.mp4: 320x544 1 baseball, 9.2ms\n",
      "video 1/1 (frame 35/79) /home/kmvu/private/AI-Pitch-Recognition/kate work/../pitch_vid_test.mp4: 320x544 1 baseball, 10.0ms\n",
      "video 1/1 (frame 36/79) /home/kmvu/private/AI-Pitch-Recognition/kate work/../pitch_vid_test.mp4: 320x544 1 baseball, 10.2ms\n",
      "video 1/1 (frame 37/79) /home/kmvu/private/AI-Pitch-Recognition/kate work/../pitch_vid_test.mp4: 320x544 (no detections), 8.7ms\n",
      "video 1/1 (frame 38/79) /home/kmvu/private/AI-Pitch-Recognition/kate work/../pitch_vid_test.mp4: 320x544 (no detections), 8.8ms\n",
      "video 1/1 (frame 39/79) /home/kmvu/private/AI-Pitch-Recognition/kate work/../pitch_vid_test.mp4: 320x544 (no detections), 8.8ms\n",
      "video 1/1 (frame 40/79) /home/kmvu/private/AI-Pitch-Recognition/kate work/../pitch_vid_test.mp4: 320x544 (no detections), 9.0ms\n",
      "video 1/1 (frame 41/79) /home/kmvu/private/AI-Pitch-Recognition/kate work/../pitch_vid_test.mp4: 320x544 1 baseball, 8.7ms\n",
      "video 1/1 (frame 42/79) /home/kmvu/private/AI-Pitch-Recognition/kate work/../pitch_vid_test.mp4: 320x544 1 baseball, 9.0ms\n",
      "video 1/1 (frame 43/79) /home/kmvu/private/AI-Pitch-Recognition/kate work/../pitch_vid_test.mp4: 320x544 (no detections), 8.7ms\n",
      "video 1/1 (frame 44/79) /home/kmvu/private/AI-Pitch-Recognition/kate work/../pitch_vid_test.mp4: 320x544 (no detections), 8.7ms\n",
      "video 1/1 (frame 45/79) /home/kmvu/private/AI-Pitch-Recognition/kate work/../pitch_vid_test.mp4: 320x544 (no detections), 8.6ms\n",
      "video 1/1 (frame 46/79) /home/kmvu/private/AI-Pitch-Recognition/kate work/../pitch_vid_test.mp4: 320x544 (no detections), 8.7ms\n",
      "video 1/1 (frame 47/79) /home/kmvu/private/AI-Pitch-Recognition/kate work/../pitch_vid_test.mp4: 320x544 1 baseball, 9.2ms\n",
      "video 1/1 (frame 48/79) /home/kmvu/private/AI-Pitch-Recognition/kate work/../pitch_vid_test.mp4: 320x544 (no detections), 10.2ms\n",
      "video 1/1 (frame 49/79) /home/kmvu/private/AI-Pitch-Recognition/kate work/../pitch_vid_test.mp4: 320x544 (no detections), 9.6ms\n",
      "video 1/1 (frame 50/79) /home/kmvu/private/AI-Pitch-Recognition/kate work/../pitch_vid_test.mp4: 320x544 (no detections), 9.2ms\n",
      "video 1/1 (frame 51/79) /home/kmvu/private/AI-Pitch-Recognition/kate work/../pitch_vid_test.mp4: 320x544 (no detections), 9.1ms\n",
      "video 1/1 (frame 52/79) /home/kmvu/private/AI-Pitch-Recognition/kate work/../pitch_vid_test.mp4: 320x544 (no detections), 9.2ms\n",
      "video 1/1 (frame 53/79) /home/kmvu/private/AI-Pitch-Recognition/kate work/../pitch_vid_test.mp4: 320x544 1 baseball, 9.6ms\n",
      "video 1/1 (frame 54/79) /home/kmvu/private/AI-Pitch-Recognition/kate work/../pitch_vid_test.mp4: 320x544 (no detections), 9.6ms\n",
      "video 1/1 (frame 55/79) /home/kmvu/private/AI-Pitch-Recognition/kate work/../pitch_vid_test.mp4: 320x544 (no detections), 9.5ms\n",
      "video 1/1 (frame 56/79) /home/kmvu/private/AI-Pitch-Recognition/kate work/../pitch_vid_test.mp4: 320x544 (no detections), 9.3ms\n",
      "video 1/1 (frame 57/79) /home/kmvu/private/AI-Pitch-Recognition/kate work/../pitch_vid_test.mp4: 320x544 (no detections), 9.1ms\n",
      "video 1/1 (frame 58/79) /home/kmvu/private/AI-Pitch-Recognition/kate work/../pitch_vid_test.mp4: 320x544 (no detections), 9.2ms\n",
      "video 1/1 (frame 59/79) /home/kmvu/private/AI-Pitch-Recognition/kate work/../pitch_vid_test.mp4: 320x544 (no detections), 9.1ms\n",
      "video 1/1 (frame 60/79) /home/kmvu/private/AI-Pitch-Recognition/kate work/../pitch_vid_test.mp4: 320x544 (no detections), 9.3ms\n",
      "video 1/1 (frame 61/79) /home/kmvu/private/AI-Pitch-Recognition/kate work/../pitch_vid_test.mp4: 320x544 (no detections), 8.6ms\n",
      "video 1/1 (frame 62/79) /home/kmvu/private/AI-Pitch-Recognition/kate work/../pitch_vid_test.mp4: 320x544 (no detections), 9.2ms\n",
      "video 1/1 (frame 63/79) /home/kmvu/private/AI-Pitch-Recognition/kate work/../pitch_vid_test.mp4: 320x544 (no detections), 9.5ms\n",
      "video 1/1 (frame 64/79) /home/kmvu/private/AI-Pitch-Recognition/kate work/../pitch_vid_test.mp4: 320x544 (no detections), 9.1ms\n",
      "video 1/1 (frame 65/79) /home/kmvu/private/AI-Pitch-Recognition/kate work/../pitch_vid_test.mp4: 320x544 (no detections), 9.5ms\n",
      "video 1/1 (frame 66/79) /home/kmvu/private/AI-Pitch-Recognition/kate work/../pitch_vid_test.mp4: 320x544 (no detections), 9.1ms\n",
      "video 1/1 (frame 67/79) /home/kmvu/private/AI-Pitch-Recognition/kate work/../pitch_vid_test.mp4: 320x544 (no detections), 9.4ms\n",
      "video 1/1 (frame 68/79) /home/kmvu/private/AI-Pitch-Recognition/kate work/../pitch_vid_test.mp4: 320x544 (no detections), 9.6ms\n",
      "video 1/1 (frame 69/79) /home/kmvu/private/AI-Pitch-Recognition/kate work/../pitch_vid_test.mp4: 320x544 (no detections), 9.7ms\n",
      "video 1/1 (frame 70/79) /home/kmvu/private/AI-Pitch-Recognition/kate work/../pitch_vid_test.mp4: 320x544 (no detections), 9.2ms\n",
      "video 1/1 (frame 71/79) /home/kmvu/private/AI-Pitch-Recognition/kate work/../pitch_vid_test.mp4: 320x544 (no detections), 9.2ms\n",
      "video 1/1 (frame 72/79) /home/kmvu/private/AI-Pitch-Recognition/kate work/../pitch_vid_test.mp4: 320x544 (no detections), 10.0ms\n",
      "video 1/1 (frame 73/79) /home/kmvu/private/AI-Pitch-Recognition/kate work/../pitch_vid_test.mp4: 320x544 (no detections), 9.2ms\n",
      "video 1/1 (frame 74/79) /home/kmvu/private/AI-Pitch-Recognition/kate work/../pitch_vid_test.mp4: 320x544 (no detections), 9.0ms\n",
      "video 1/1 (frame 75/79) /home/kmvu/private/AI-Pitch-Recognition/kate work/../pitch_vid_test.mp4: 320x544 (no detections), 9.2ms\n",
      "video 1/1 (frame 76/79) /home/kmvu/private/AI-Pitch-Recognition/kate work/../pitch_vid_test.mp4: 320x544 (no detections), 9.8ms\n",
      "video 1/1 (frame 77/79) /home/kmvu/private/AI-Pitch-Recognition/kate work/../pitch_vid_test.mp4: 320x544 (no detections), 9.6ms\n",
      "video 1/1 (frame 78/79) /home/kmvu/private/AI-Pitch-Recognition/kate work/../pitch_vid_test.mp4: 320x544 (no detections), 9.4ms\n",
      "video 1/1 (frame 79/79) /home/kmvu/private/AI-Pitch-Recognition/kate work/../pitch_vid_test.mp4: 320x544 (no detections), 9.5ms\n",
      "Speed: 1.6ms preprocess, 9.6ms inference, 0.7ms postprocess per image at shape (1, 3, 320, 544)\n",
      "Results saved to \u001b[1mruns/detect/track2\u001b[0m\n"
     ]
    }
   ],
   "source": [
    "model = YOLO('../runs/detect/train13/weights/best.pt')\n",
    "\n",
    "result = model.track('../pitch_vid_test.mp4', conf = 0.2, save=True)"
   ]
  },
  {
   "cell_type": "code",
   "execution_count": null,
   "id": "1300fd14-aa7a-4a47-9cc7-88c6ed1f599e",
   "metadata": {},
   "outputs": [],
   "source": []
  },
  {
   "cell_type": "code",
   "execution_count": null,
   "id": "4a6475fe-6f1b-4dad-ac17-3118d6b26267",
   "metadata": {},
   "outputs": [],
   "source": []
  }
 ],
 "metadata": {
  "kernelspec": {
   "display_name": "Python 3 (ipykernel)",
   "language": "python",
   "name": "python3"
  },
  "language_info": {
   "codemirror_mode": {
    "name": "ipython",
    "version": 3
   },
   "file_extension": ".py",
   "mimetype": "text/x-python",
   "name": "python",
   "nbconvert_exporter": "python",
   "pygments_lexer": "ipython3",
   "version": "3.11.9"
  }
 },
 "nbformat": 4,
 "nbformat_minor": 5
}
