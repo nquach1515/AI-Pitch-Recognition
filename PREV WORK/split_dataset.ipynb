{
 "cells": [
  {
   "cell_type": "code",
   "execution_count": null,
   "id": "876c60d6-0030-4afe-99ab-c39362c3ece3",
   "metadata": {},
   "outputs": [],
   "source": [
    "import os\n",
    "import shutil\n",
    "import random\n",
    "\n",
    "# Paths\n",
    "IMG_FOLDER = \"dataset/images/\"\n",
    "TRAIN_FOLDER = \"dataset/train/\"\n",
    "VAL_FOLDER = \"dataset/val/\"\n",
    "\n",
    "# Create train/val folders\n",
    "os.makedirs(TRAIN_FOLDER, exist_ok=True)\n",
    "os.makedirs(VAL_FOLDER, exist_ok=True)\n",
    "\n",
    "# Get all image files\n",
    "images = [f for f in os.listdir(IMG_FOLDER) if f.endswith(\".jpg\")]\n",
    "\n",
    "# Shuffle and split (80% train, 20% val)\n",
    "random.shuffle(images)\n",
    "split_index = int(0.8 * len(images))\n",
    "\n",
    "train_images = images[:split_index]\n",
    "val_images = images[split_index:]\n",
    "\n",
    "# Move images and corresponding labels\n",
    "for img in train_images:\n",
    "    shutil.move(os.path.join(IMG_FOLDER, img), os.path.join(TRAIN_FOLDER, img))\n",
    "    shutil.move(os.path.join(IMG_FOLDER, img.replace(\".jpg\", \".txt\")), os.path.join(TRAIN_FOLDER, img.replace(\".jpg\", \".txt\")))\n",
    "\n",
    "for img in val_images:\n",
    "    shutil.move(os.path.join(IMG_FOLDER, img), os.path.join(VAL_FOLDER, img))\n",
    "    shutil.move(os.path.join(IMG_FOLDER, img.replace(\".jpg\", \".txt\")), os.path.join(VAL_FOLDER, img.replace(\".jpg\", \".txt\")))\n",
    "\n",
    "print(\"Dataset split into train/ and val/\")"
   ]
  }
 ],
 "metadata": {
  "kernelspec": {
   "display_name": "Python 3 (ipykernel)",
   "language": "python",
   "name": "python3"
  },
  "language_info": {
   "codemirror_mode": {
    "name": "ipython",
    "version": 3
   },
   "file_extension": ".py",
   "mimetype": "text/x-python",
   "name": "python",
   "nbconvert_exporter": "python",
   "pygments_lexer": "ipython3",
   "version": "3.11.9"
  }
 },
 "nbformat": 4,
 "nbformat_minor": 5
}
