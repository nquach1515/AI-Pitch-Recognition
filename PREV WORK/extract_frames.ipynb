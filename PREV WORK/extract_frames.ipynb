{
 "cells": [
  {
   "cell_type": "code",
   "execution_count": null,
   "id": "58dd66d8-7083-438a-b28c-2fcf90284fc5",
   "metadata": {},
   "outputs": [],
   "source": [
    "import cv2\n",
    "import os\n",
    "\n",
    "VIDEO_PATH = \"dataset/videos/\"  # Folder containing baseball videos\n",
    "OUTPUT_PATH = \"dataset/images/\"  # Extracted images go here\n",
    "\n",
    "os.makedirs(OUTPUT_PATH, exist_ok=True)\n",
    "\n",
    "def extract_frames(video_file, frame_interval=5):\n",
    "    video_name = os.path.basename(video_file).split('.')[0]\n",
    "    output_folder = os.path.join(OUTPUT_PATH, video_name)\n",
    "    os.makedirs(output_folder, exist_ok=True)\n",
    "\n",
    "    cap = cv2.VideoCapture(video_file)\n",
    "    count = 0\n",
    "\n",
    "    while cap.isOpened():\n",
    "        ret, frame = cap.read()\n",
    "        if not ret:\n",
    "            break\n",
    "        if count % frame_interval == 0:\n",
    "            frame_path = os.path.join(output_folder, f\"{count:04d}.jpg\")\n",
    "            cv2.imwrite(frame_path, frame)\n",
    "        count += 1\n",
    "\n",
    "    cap.release()\n",
    "\n",
    "# Process all videos\n",
    "for video in os.listdir(VIDEO_PATH):\n",
    "    if video.endswith(\".mp4\"):\n",
    "        extract_frames(os.path.join(VIDEO_PATH, video))\n",
    "\n",
    "print(\"Frames extracted successfully!\")"
   ]
  }
 ],
 "metadata": {
  "kernelspec": {
   "display_name": "Python 3 (ipykernel)",
   "language": "python",
   "name": "python3"
  },
  "language_info": {
   "codemirror_mode": {
    "name": "ipython",
    "version": 3
   },
   "file_extension": ".py",
   "mimetype": "text/x-python",
   "name": "python",
   "nbconvert_exporter": "python",
   "pygments_lexer": "ipython3",
   "version": "3.11.9"
  }
 },
 "nbformat": 4,
 "nbformat_minor": 5
}
