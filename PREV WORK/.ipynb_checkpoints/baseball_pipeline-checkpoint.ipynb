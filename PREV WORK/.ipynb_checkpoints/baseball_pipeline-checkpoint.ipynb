{
 "cells": [
  {
   "cell_type": "code",
   "execution_count": 2,
   "id": "efa5898f-a8ea-47e3-b5f5-2d4b45056aa1",
   "metadata": {},
   "outputs": [
    {
     "ename": "ModuleNotFoundError",
     "evalue": "No module named 'raft_model'",
     "output_type": "error",
     "traceback": [
      "\u001b[0;31m---------------------------------------------------------------------------\u001b[0m",
      "\u001b[0;31mModuleNotFoundError\u001b[0m                       Traceback (most recent call last)",
      "Cell \u001b[0;32mIn[2], line 4\u001b[0m\n\u001b[1;32m      2\u001b[0m \u001b[38;5;28;01mimport\u001b[39;00m \u001b[38;5;21;01mjoblib\u001b[39;00m\n\u001b[1;32m      3\u001b[0m \u001b[38;5;28;01mfrom\u001b[39;00m \u001b[38;5;21;01multralytics\u001b[39;00m \u001b[38;5;28;01mimport\u001b[39;00m YOLO\n\u001b[0;32m----> 4\u001b[0m \u001b[38;5;28;01mfrom\u001b[39;00m \u001b[38;5;21;01mraft_model\u001b[39;00m \u001b[38;5;28;01mimport\u001b[39;00m RAFT\n\u001b[1;32m      6\u001b[0m \u001b[38;5;66;03m# Load Trained YOLO Model\u001b[39;00m\n\u001b[1;32m      7\u001b[0m yolo_model \u001b[38;5;241m=\u001b[39m YOLO(\u001b[38;5;124m\"\u001b[39m\u001b[38;5;124mmodels/yolov8n_baseball.pt\u001b[39m\u001b[38;5;124m\"\u001b[39m)\n",
      "\u001b[0;31mModuleNotFoundError\u001b[0m: No module named 'raft_model'"
     ]
    }
   ],
   "source": [
    "import torch\n",
    "import joblib\n",
    "from ultralytics import YOLO\n",
    "from raft_model import RAFT\n",
    "\n",
    "# Load Trained YOLO Model\n",
    "yolo_model = YOLO(\"models/yolov8n_baseball.pt\")\n",
    "\n",
    "# Load Trained RAFT Model\n",
    "raft_model = RAFT()\n",
    "raft_model.load_state_dict(torch.load(\"models/raft_baseball.pth\"))\n",
    "raft_model.eval()\n",
    "\n",
    "# Load Trained Pitch Classifier\n",
    "svm_model = joblib.load(\"models/pitch_classifier.pkl\")\n",
    "\n",
    "# Now you can use these models in your pipeline for inference!"
   ]
  },
  {
   "cell_type": "code",
   "execution_count": null,
   "id": "524db294-b362-4fa7-adce-bc3ea2a277d3",
   "metadata": {},
   "outputs": [],
   "source": []
  }
 ],
 "metadata": {
  "kernelspec": {
   "display_name": "Python 3 (ipykernel)",
   "language": "python",
   "name": "python3"
  },
  "language_info": {
   "codemirror_mode": {
    "name": "ipython",
    "version": 3
   },
   "file_extension": ".py",
   "mimetype": "text/x-python",
   "name": "python",
   "nbconvert_exporter": "python",
   "pygments_lexer": "ipython3",
   "version": "3.11.9"
  }
 },
 "nbformat": 4,
 "nbformat_minor": 5
}
